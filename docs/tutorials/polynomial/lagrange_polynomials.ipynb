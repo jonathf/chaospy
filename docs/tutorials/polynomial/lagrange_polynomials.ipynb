{
 "cells": [
  {
   "cell_type": "markdown",
   "metadata": {},
   "source": [
    "## Lagrange Polynomials\n",
    "\n",
    "This tutorial uses the same example as the [example introduction](../example_introduction.ipynb).\n",
    "\n",
    "[Lagrange polynomials](https://en.wikipedia.org/wiki/Lagrange_polynomial) are not a method for creating orthogonal polynomials.\n",
    "Instead it is an interpolation method for creating an polynomial expansion that has the property that each polynomial interpolates exactly one point in space with the value 1 and has the value 0 for all other interpolation values.\n",
    "\n",
    "To summarize, we need to do the following:\n",
    "* Generate $Q_1, ..., Q_N = (I_1, a_1), ..., (I_N, a_N)$, using (pseudo-)random samples or otherwise.\n",
    "* Construct a Lagrange polynomial expansion $P_1, ..., P_M$ from the samples $Q_1, ..., Q_N$.\n",
    "* Evaluate model predictor $U_1, ..., U_N$ for each sample.\n",
    "* Analyze model approximation $u(I, a, t) = \\sum_m U_m(t) P_n(I, a)$ instead of actual model solver. "
   ]
  },
  {
   "cell_type": "markdown",
   "metadata": {},
   "source": [
    "### Generating Samples\n",
    "\n",
    "In chaospy, creating low-discrepancy sequences can be done using the `distribution.sample` method.\n",
    "Creating quadrature points can be done using `chaospy.generate_quadrature`.\n",
    "For example:"
   ]
  },
  {
   "cell_type": "code",
   "execution_count": 1,
   "metadata": {},
   "outputs": [
    {
     "data": {
      "text/plain": [
       "<Figure size 800x600 with 1 Axes>"
      ]
     },
     "metadata": {},
     "output_type": "display_data"
    }
   ],
   "source": [
    "import numpy\n",
    "from matplotlib import pyplot\n",
    "from chaospy.example import distribution\n",
    "\n",
    "# Generate samples:\n",
    "numpy.random.seed(1000)\n",
    "samples = distribution.sample(5, rule=\"halton\")\n",
    "\n",
    "# Show samples as 2-dimensional scatter plot\n",
    "pyplot.scatter(*samples, marker=\"x\", color=\"k\")\n",
    "    \n",
    "# Make scatter ficutres pretty\n",
    "pyplot.xlabel(\"Parameter $I$ (normal)\")\n",
    "pyplot.ylabel(\"Parameter $a$ (uniform)\")\n",
    "pyplot.axis([1, 2, 0.1, 0.2])\n",
    "\n",
    "pyplot.show()"
   ]
  },
  {
   "cell_type": "markdown",
   "metadata": {},
   "source": [
    "### Create lagrange polynomial expansion\n",
    "\n",
    "Creating an expansion of lagrange polynomial terms can be done using the following constructor:"
   ]
  },
  {
   "cell_type": "code",
   "execution_count": 2,
   "metadata": {},
   "outputs": [
    {
     "data": {
      "text/plain": [
       "polynomial(-694.24*q1**2+28.97*q0*q1+170.1*q1-6.65*q0-5.96)"
      ]
     },
     "execution_count": 2,
     "metadata": {},
     "output_type": "execute_result"
    }
   ],
   "source": [
    "import chaospy\n",
    "\n",
    "polynomial_expansion = chaospy.lagrange_polynomial(samples)\n",
    "polynomial_expansion[0].round(2)"
   ]
  },
  {
   "cell_type": "markdown",
   "metadata": {},
   "source": [
    "On can verify that the returned polynomials follows the property of evaluating 0 for all but one of the samples used in the construction as follows:"
   ]
  },
  {
   "cell_type": "code",
   "execution_count": 3,
   "metadata": {},
   "outputs": [
    {
     "data": {
      "text/plain": [
       "array([[ 1., -0., -0., -0., -0.],\n",
       "       [ 0.,  1.,  0.,  0.,  0.],\n",
       "       [ 0.,  0.,  1.,  0.,  0.],\n",
       "       [-0., -0., -0.,  1.,  0.],\n",
       "       [-0., -0., -0., -0.,  1.]])"
      ]
     },
     "execution_count": 3,
     "metadata": {},
     "output_type": "execute_result"
    }
   ],
   "source": [
    "polynomial_expansion(*samples).round(8)"
   ]
  },
  {
   "cell_type": "markdown",
   "metadata": {},
   "source": [
    "### Evaluate Model Prediction and Creating Model Approximaion\n",
    "\n",
    "Fitting the polynomials to the evaluations does not need to involve regression.\n",
    "Instead it is enough to just multiply the lagrange polynomial expansion with the evaluations, and sum it up:"
   ]
  },
  {
   "cell_type": "code",
   "execution_count": 4,
   "metadata": {},
   "outputs": [
    {
     "data": {
      "text/plain": [
       "(1000,)"
      ]
     },
     "execution_count": 4,
     "metadata": {},
     "output_type": "execute_result"
    }
   ],
   "source": [
    "from chaospy.example import exponential_model\n",
    "\n",
    "model_evaluations = numpy.array([\n",
    "    exponential_model(sample) for sample in samples.T])\n",
    "model_approximation = chaospy.sum(\n",
    "    model_evaluations.T*polynomial_expansion, axis=-1).T\n",
    "\n",
    "model_approximation.shape"
   ]
  },
  {
   "cell_type": "markdown",
   "metadata": {},
   "source": [
    "### Assess Statistics\n",
    "\n",
    "The results is close to what we are used to from the other methods:"
   ]
  },
  {
   "cell_type": "code",
   "execution_count": 5,
   "metadata": {
    "scrolled": true
   },
   "outputs": [
    {
     "data": {
      "image/png": "[encoded data removed]",
      "text/plain": [
       "<Figure size 432x288 with 1 Axes>"
      ]
     },
     "metadata": {
      "needs_background": "light"
     },
     "output_type": "display_data"
    }
   ],
   "source": [
    "from chaospy.example import coordinates\n",
    "\n",
    "# Estimate mean and variance\n",
    "expected = chaospy.E(model_approximation, distribution)\n",
    "variance = chaospy.Var(model_approximation, distribution)\n",
    "\n",
    "# Create band one standard deviation away from mean \n",
    "pyplot.fill_between(coordinates, expected-variance**0.5,\n",
    "                    expected+variance**0.5, alpha=0.3,\n",
    "                    color=\"k\", label=\"standard deviation\")\n",
    "pyplot.plot(coordinates, expected, \"k-\",\n",
    "            label=\"Estimated expected value\")\n",
    "\n",
    "# Make plot pretty\n",
    "pyplot.axis([0, 10, 0, 2])\n",
    "pyplot.xlabel(\"coordinates $t$\")\n",
    "pyplot.ylabel(\"Model evaluations $u$\")\n",
    "\n",
    "pyplot.show()"
   ]
  },
  {
   "cell_type": "markdown",
   "metadata": {},
   "source": [
    "### Avoiding matrix inversion issues with quadrature nodes\n",
    "\n",
    "It is worth noting that the construction of lagrange polynomials are not always numerically stable.\n",
    "For example when using grids along , most often the expansion construction fails:"
   ]
  },
  {
   "cell_type": "code",
   "execution_count": 6,
   "metadata": {},
   "outputs": [
    {
     "data": {
      "text/plain": [
       "'Lagrange abscissas resulted in invertible matrix'"
      ]
     },
     "execution_count": 6,
     "metadata": {},
     "output_type": "execute_result"
    }
   ],
   "source": [
    "nodes, _ = chaospy.generate_quadrature(1, distribution)\n",
    "\n",
    "try:\n",
    "    chaospy.lagrange_polynomial(nodes)\n",
    "except numpy.linalg.LinAlgError as err:\n",
    "    error = err.args[0]\n",
    "error"
   ]
  },
  {
   "cell_type": "markdown",
   "metadata": {},
   "source": [
    "It is impossible to avoid the issue entirely, but in the case of structured grid, it is often possible to get around the problem.\n",
    "To do so, the following steps can be taken:\n",
    "\n",
    "* Create multple lagrange polynomials, one for each marginal distribution.\n",
    "* Rotate dimensions so each expansion get a dimension corresponding to the marginal it was created for.\n",
    "* Use an outer product of the expansions to combine them into a single expansion.\n",
    "\n",
    "So we begin with making marginal lagrange polynomials:"
   ]
  },
  {
   "cell_type": "code",
   "execution_count": 7,
   "metadata": {},
   "outputs": [
    {
     "data": {
      "text/plain": [
       "[polynomial([-0.3333*q0+1.0, 0.3333*q0]),\n",
       " polynomial([-10.0*q0+2.0, 10.0*q0-1.0])]"
      ]
     },
     "execution_count": 7,
     "metadata": {},
     "output_type": "execute_result"
    }
   ],
   "source": [
    "nodes, _ = list(zip(*[chaospy.generate_quadrature(1, marginal)\n",
    "                      for marginal in distribution]))\n",
    "expansions = [chaospy.lagrange_polynomial(nodes_)\n",
    "              for nodes_ in nodes]\n",
    "\n",
    "[expansion_.round(4) for expansion_ in expansions]"
   ]
  },
  {
   "cell_type": "markdown",
   "metadata": {},
   "source": [
    "Then we rotate the dimensions:"
   ]
  },
  {
   "cell_type": "code",
   "execution_count": 8,
   "metadata": {},
   "outputs": [
    {
     "data": {
      "text/plain": [
       "[polynomial([-0.3333*q0+1.0, 0.3333*q0]),\n",
       " polynomial([-10.0*q1+2.0, 10.0*q1-1.0])]"
      ]
     },
     "execution_count": 8,
     "metadata": {},
     "output_type": "execute_result"
    }
   ],
   "source": [
    "vars_ = chaospy.variable(len(distribution))\n",
    "expansions = [\n",
    "    expans(q0=var)\n",
    "    for expans, var in zip(expansions, vars_)]\n",
    "\n",
    "[expans.round(4) for expans in expansions]"
   ]
  },
  {
   "cell_type": "markdown",
   "metadata": {},
   "source": [
    "And finally construct the final expansion using an outer product:"
   ]
  },
  {
   "cell_type": "code",
   "execution_count": 9,
   "metadata": {},
   "outputs": [
    {
     "data": {
      "text/plain": [
       "polynomial([3.33*q0*q1-10.0*q1-0.67*q0+2.0,\n",
       "            -3.33*q0*q1+10.0*q1+0.33*q0-1.0, -3.33*q0*q1+0.67*q0,\n",
       "            3.33*q0*q1-0.33*q0])"
      ]
     },
     "execution_count": 9,
     "metadata": {},
     "output_type": "execute_result"
    }
   ],
   "source": [
    "expansion = chaospy.outer(*expansions).flatten()\n",
    "expansion.round(2)"
   ]
  },
  {
   "cell_type": "markdown",
   "metadata": {},
   "source": [
    "The end results can be verified to have the properties we are looking for:"
   ]
  },
  {
   "cell_type": "code",
   "execution_count": 10,
   "metadata": {
    "scrolled": true
   },
   "outputs": [
    {
     "data": {
      "text/plain": [
       "array([[ 1.,  0., -0.,  0.],\n",
       "       [ 0.,  1.,  0., -0.],\n",
       "       [ 0.,  0.,  1.,  0.],\n",
       "       [ 0.,  0.,  0.,  1.]])"
      ]
     },
     "execution_count": 10,
     "metadata": {},
     "output_type": "execute_result"
    }
   ],
   "source": [
    "nodes, _ = chaospy.generate_quadrature(1, distribution)\n",
    "expansion(*nodes).round(8)"
   ]
  }
 ],
 "metadata": {
  "kernelspec": {
   "display_name": "Python 3",
   "language": "python",
   "name": "python3"
  },
  "language_info": {
   "codemirror_mode": {
    "name": "ipython",
    "version": 3
   },
   "file_extension": ".py",
   "mimetype": "text/x-python",
   "name": "python",
   "nbconvert_exporter": "python",
   "pygments_lexer": "ipython3",
   "version": "3.8.3"
  }
 },
 "nbformat": 4,
 "nbformat_minor": 4
}
