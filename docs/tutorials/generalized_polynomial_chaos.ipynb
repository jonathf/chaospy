{
 "cells": [
  {
   "cell_type": "markdown",
   "metadata": {},
   "source": [
    "## Generalized Polynomial Chaos\n",
    "\n",
    "Generalized polynomial chaos is an advanced polynomial chaos method for dealing with problematic random variables.\n",
    "The problems it deals with include heavy tailed distributions (like Log-lormal, Cauchy, etc.) which breaks premises for using chaos expansion as approximations, and stochastic dependencies, which there currently does not exist numerically stable method for creating.\n",
    "Let us consider an synthetic exponential model than encompases both issues by using a multivariate log-normal distribution for its uncertainty:"
   ]
  },
  {
   "cell_type": "code",
   "execution_count": 1,
   "metadata": {},
   "outputs": [],
   "source": [
    "import numpy\n",
    "import chaospy\n",
    "\n",
    "coordinates = numpy.linspace(0, 10, 1000)\n",
    "\n",
    "def exponential_model(parameters):\n",
    "    param_init, param_rate = parameters\n",
    "    return param_init*numpy.e**(-param_rate*coordinates)\n",
    "\n",
    "distribution = chaospy.MvNormal(mu=[10, 1], sigma=[[1.0, 0.09], [0.09, 0.1]])"
   ]
  },
  {
   "cell_type": "markdown",
   "metadata": {},
   "source": [
    "We are interested in the mean and standard deviation."
   ]
  },
  {
   "cell_type": "markdown",
   "metadata": {},
   "source": [
    "### Monte Carlo integration\n",
    "\n",
    "As a baseline we can solve this using quasi-Monte Carlo integration. It requires no modification compared to the stochastic independent case. It consists of generating samples:"
   ]
  },
  {
   "cell_type": "code",
   "execution_count": 2,
   "metadata": {},
   "outputs": [],
   "source": [
    "samples = distribution.sample(10**5, rule=\"sobol\")"
   ]
  },
  {
   "cell_type": "markdown",
   "metadata": {},
   "source": [
    "evaluate model for each sample:"
   ]
  },
  {
   "cell_type": "code",
   "execution_count": 3,
   "metadata": {},
   "outputs": [],
   "source": [
    "evaluations = numpy.array([exponential_model(sample) for sample in samples.T])"
   ]
  },
  {
   "cell_type": "markdown",
   "metadata": {},
   "source": [
    "and performing analysis on samples:"
   ]
  },
  {
   "cell_type": "code",
   "execution_count": 4,
   "metadata": {},
   "outputs": [
    {
     "data": {
      "text/plain": [
       "(array([9.99998, 9.89953, 9.8002 , 9.70195, 9.60479]),\n",
       " array([0.9999 , 0.9815 , 0.96431, 0.94833, 0.93353]))"
      ]
     },
     "execution_count": 4,
     "metadata": {},
     "output_type": "execute_result"
    }
   ],
   "source": [
    "# NBVAL_CHECK_OUTPUT\n",
    "mean = numpy.mean(evaluations, axis=0)\n",
    "std = numpy.std(evaluations, axis=0)\n",
    "\n",
    "(mean[:5].round(5), std[:5].round(5))"
   ]
  },
  {
   "cell_type": "markdown",
   "metadata": {},
   "source": [
    "We can also plot the final result:"
   ]
  },
  {
   "cell_type": "code",
   "execution_count": 5,
   "metadata": {},
   "outputs": [
    {
     "data": {
      "image/png": "[encoded data removed]",
      "text/plain": [
       "<Figure size 432x288 with 1 Axes>"
      ]
     },
     "metadata": {
      "needs_background": "light"
     },
     "output_type": "display_data"
    }
   ],
   "source": [
    "from matplotlib import pyplot\n",
    "\n",
    "pyplot.fill_between(coordinates, mean-std, mean+std, alpha=0.6)\n",
    "pyplot.plot(coordinates, mean)\n",
    "\n",
    "pyplot.axis([0, 6, 0, 10])\n",
    "\n",
    "pyplot.show()"
   ]
  },
  {
   "cell_type": "markdown",
   "metadata": {},
   "source": [
    "### Generalized polynomial chaos\n",
    "\n",
    "Polynomial chaos expansions builds on the assumption of having an orthogonal polynomial expansion. However, the classical extension to the multivariate case assumes that the probabilty distribution consist of stochastically independent components. If the distribution has dependencies, the classical approach will not work.\n",
    "\n",
    "The recommended approach for addressing dependent distribution is to use *generalized polynomial chaos expansion* (g-pce). It assumes that there exists a smooth map $T$ between the dependent variables $Q$ and some other stochastic independent variables $R$, which we can build an expansion for. In other words:\n",
    "\n",
    "$$\n",
    "\\hat u(x, q) = \\hat u(x, T(r)) = \\sum_{n=0}^N c_n \\Phi_n(r)\n",
    "$$\n",
    "\n",
    "For multivariate normal distributions, the obvious choice is to select $R$ to be standard normal:"
   ]
  },
  {
   "cell_type": "code",
   "execution_count": 6,
   "metadata": {},
   "outputs": [],
   "source": [
    "distribution_q = distribution\n",
    "distribution_r = chaospy.J(chaospy.Normal(0, 1), chaospy.Normal(0, 1))"
   ]
  },
  {
   "cell_type": "markdown",
   "metadata": {},
   "source": [
    "The $T$ is defined as a double Rosenblatt transformation:\n",
    "\n",
    "$$\n",
    "T(r) = F_Q^{-1}\\left( F_R(r) \\right)\n",
    "$$\n",
    "\n",
    "which in `chaospy` can be constructed as follows:"
   ]
  },
  {
   "cell_type": "code",
   "execution_count": 7,
   "metadata": {},
   "outputs": [],
   "source": [
    "def transform(samples):\n",
    "    return distribution_q.inv(distribution_r.fwd(samples))"
   ]
  },
  {
   "cell_type": "markdown",
   "metadata": {},
   "source": [
    "This formulation is general and can be used with any two distributions of the same size."
   ]
  },
  {
   "cell_type": "markdown",
   "metadata": {},
   "source": [
    "### Point collocation method\n",
    "\n",
    "Implementing g-pce for point collocation require us to generate samples from $R$ and transform them using $T$:"
   ]
  },
  {
   "cell_type": "code",
   "execution_count": 8,
   "metadata": {},
   "outputs": [],
   "source": [
    "samples_r = distribution_r.sample(1000, rule=\"sobol\")\n",
    "samples_q = transform(samples_r)"
   ]
  },
  {
   "cell_type": "markdown",
   "metadata": {},
   "source": [
    "The resluting samples can then be used to solve the equation above using regression-based method:"
   ]
  },
  {
   "cell_type": "code",
   "execution_count": 9,
   "metadata": {},
   "outputs": [],
   "source": [
    "expansion = chaospy.generate_expansion(7, distribution_r)\n",
    "evaluations = numpy.array([exponential_model(sample) for sample in samples_q.T])\n",
    "model_approx = chaospy.fit_regression(expansion, samples_r, evaluations)"
   ]
  },
  {
   "cell_type": "markdown",
   "metadata": {},
   "source": [
    "Note that for generating the expansion and the model approximation, we use the distribution from $R$, while for the model evalutation we use the transformed samples from $Q$.\n",
    "\n",
    "The solution model can then be used to do analysis. Just remember that the model is defined with respect to $R$ , not $Q$:"
   ]
  },
  {
   "cell_type": "code",
   "execution_count": 10,
   "metadata": {},
   "outputs": [
    {
     "data": {
      "text/plain": [
       "(array([10.     ,  9.89956,  9.80022,  9.70198,  9.60482]),\n",
       " array([1.     , 0.98159, 0.9644 , 0.94841, 0.93361]))"
      ]
     },
     "execution_count": 10,
     "metadata": {},
     "output_type": "execute_result"
    }
   ],
   "source": [
    "# NBVAL_CHECK_OUTPUT\n",
    "mean = chaospy.E(model_approx, distribution_r)\n",
    "std = chaospy.Std(model_approx, distribution_r)\n",
    "\n",
    "(mean[:5].round(5), std[:5].round(5))"
   ]
  },
  {
   "cell_type": "markdown",
   "metadata": {},
   "source": [
    "Plotting the final results:"
   ]
  },
  {
   "cell_type": "code",
   "execution_count": 11,
   "metadata": {},
   "outputs": [
    {
     "data": {
      "image/png": "[encoded data removed]",
      "text/plain": [
       "<Figure size 432x288 with 1 Axes>"
      ]
     },
     "metadata": {
      "needs_background": "light"
     },
     "output_type": "display_data"
    }
   ],
   "source": [
    "pyplot.fill_between(coordinates, mean-std, mean+std, alpha=0.6)\n",
    "pyplot.plot(coordinates, mean)\n",
    "\n",
    "pyplot.axis([0, 6, 0, 10])\n",
    "\n",
    "pyplot.show()"
   ]
  },
  {
   "cell_type": "markdown",
   "metadata": {},
   "source": [
    "### Pseudo-Spectral Projection\n",
    "\n",
    "Implementing g-pce for pseudo-spectral projection require us to generate nodes and weights from $R$ and transform the nodes using $T$:"
   ]
  },
  {
   "cell_type": "code",
   "execution_count": 12,
   "metadata": {},
   "outputs": [],
   "source": [
    "nodes_r, weights_r = chaospy.generate_quadrature(10, distribution_r, rule=\"gaussian\")\n",
    "nodes_q = transform(nodes_r)"
   ]
  },
  {
   "cell_type": "markdown",
   "metadata": {},
   "source": [
    "The resluting samples can then be used to solve the equation above using the quadrature-based method:"
   ]
  },
  {
   "cell_type": "code",
   "execution_count": 13,
   "metadata": {},
   "outputs": [],
   "source": [
    "expansion = chaospy.generate_expansion(7, distribution_r)\n",
    "evaluations = numpy.array([exponential_model(sample) for sample in nodes_q.T])\n",
    "model_approx = chaospy.fit_quadrature(expansion, nodes_r, weights_r, evaluations)"
   ]
  },
  {
   "cell_type": "markdown",
   "metadata": {},
   "source": [
    "Note that for generating the expansion and the model approximation, we use the nodes and weights from $R$, while for the model evalutation we use the transformed samples from $Q$.\n",
    "\n",
    "The solution model, defined with respect to $R$ can then be used to do analysis:"
   ]
  },
  {
   "cell_type": "code",
   "execution_count": 14,
   "metadata": {},
   "outputs": [
    {
     "data": {
      "text/plain": [
       "(array([10.     ,  9.89956,  9.80022,  9.70198,  9.60482]),\n",
       " array([1.     , 0.98159, 0.9644 , 0.94841, 0.93361]))"
      ]
     },
     "execution_count": 14,
     "metadata": {},
     "output_type": "execute_result"
    }
   ],
   "source": [
    "# NBVAL_CHECK_OUTPUT\n",
    "mean = chaospy.E(model_approx, distribution_r)\n",
    "std = chaospy.Std(model_approx, distribution_r)\n",
    "\n",
    "(mean[:5].round(5), std[:5].round(5))"
   ]
  },
  {
   "cell_type": "markdown",
   "metadata": {},
   "source": [
    "Plotting the final results:"
   ]
  },
  {
   "cell_type": "code",
   "execution_count": 15,
   "metadata": {},
   "outputs": [
    {
     "data": {
      "image/png": "[encoded data removed]",
      "text/plain": [
       "<Figure size 432x288 with 1 Axes>"
      ]
     },
     "metadata": {
      "needs_background": "light"
     },
     "output_type": "display_data"
    }
   ],
   "source": [
    "pyplot.fill_between(coordinates, mean-std, mean+std, alpha=0.6)\n",
    "pyplot.plot(coordinates, mean)\n",
    "\n",
    "pyplot.axis([0, 6, 0, 10])\n",
    "\n",
    "pyplot.show()"
   ]
  },
  {
   "cell_type": "markdown",
   "metadata": {},
   "source": [
    "### Cholesky decomposition\n",
    "\n",
    "The assumption with generalized polynomial chaos expansion is that there exists a smooth mapping to a stochastic independent variable.\n",
    "However, such a mapping does not always exists.\n",
    "In those cases making an orthogonal expansion directly on the dependent variable using Cholesky decomposion.\n",
    "This can be done as follows:"
   ]
  },
  {
   "cell_type": "code",
   "execution_count": 16,
   "metadata": {},
   "outputs": [
    {
     "data": {
      "text/plain": [
       "polynomial([1.0, q1-1.0, -0.9*q1+q0-9.1, q1**2-2.0*q1+0.9,\n",
       "            -0.9*q1**2+q0*q1-8.2*q1-q0+9.1])"
      ]
     },
     "execution_count": 16,
     "metadata": {},
     "output_type": "execute_result"
    }
   ],
   "source": [
    "# NBVAL_CHECK_OUTPUT\n",
    "expansion = chaospy.generate_expansion(5, distribution_q, rule=\"cholesky\")\n",
    "expansion[:5].round(10)"
   ]
  },
  {
   "cell_type": "markdown",
   "metadata": {},
   "source": [
    "The method is known to be numerical unstable, so it is important to verify that the expansion is indeed orthogonal:"
   ]
  },
  {
   "cell_type": "code",
   "execution_count": 17,
   "metadata": {},
   "outputs": [
    {
     "data": {
      "text/plain": [
       "array([[ 1.,  0.,  0.,  0., -0., -0., -0.,  0.,  0., -0.],\n",
       "       [-0.,  1.,  0., -0.,  0., -0.,  0.,  0., -0., -0.],\n",
       "       [ 0.,  0.,  1., -0., -0.,  0.,  0., -0., -0.,  0.],\n",
       "       [ 0.,  0., -0.,  1., -0.,  0.,  0., -0.,  0., -0.],\n",
       "       [-0.,  0.,  0.,  0.,  1.,  0., -0.,  0., -0., -0.],\n",
       "       [ 0.,  0.,  0.,  0.,  0.,  1., -0.,  0.,  0., -0.],\n",
       "       [-0.,  0., -0.,  0.,  0., -0.,  1., -0., -0., -0.],\n",
       "       [-0.,  0., -0., -0., -0., -0., -0.,  1.,  0.,  0.],\n",
       "       [-0., -0.,  0.,  0., -0.,  0.,  0., -0.,  1.,  0.],\n",
       "       [ 0., -0., -0.,  0.,  0.,  0., -0.,  0.,  0.,  1.]])"
      ]
     },
     "execution_count": 17,
     "metadata": {},
     "output_type": "execute_result"
    }
   ],
   "source": [
    "chaospy.Corr(expansion[-10:], distribution).round(5)"
   ]
  },
  {
   "cell_type": "markdown",
   "metadata": {},
   "source": [
    "This expansion can be used with point colloction method directly:"
   ]
  },
  {
   "cell_type": "code",
   "execution_count": 18,
   "metadata": {},
   "outputs": [],
   "source": [
    "samples_q = distribution_q.sample(1000, rule=\"sobol\")\n",
    "evaluations = numpy.array([exponential_model(sample) for sample in samples_q.T])\n",
    "model_approx = chaospy.fit_regression(expansion, samples_q, evaluations)"
   ]
  },
  {
   "cell_type": "code",
   "execution_count": 19,
   "metadata": {},
   "outputs": [
    {
     "data": {
      "text/plain": [
       "(array([10.     ,  9.89956,  9.80022,  9.70198,  9.60482]),\n",
       " array([1.     , 0.98159, 0.9644 , 0.94841, 0.93361]))"
      ]
     },
     "execution_count": 19,
     "metadata": {},
     "output_type": "execute_result"
    }
   ],
   "source": [
    "# NBVAL_CHECK_OUTPUT\n",
    "mean = chaospy.E(model_approx, distribution_q)\n",
    "std = chaospy.Std(model_approx, distribution_q)\n",
    "\n",
    "(mean[:5].round(5), std[:5].round(5))"
   ]
  },
  {
   "cell_type": "code",
   "execution_count": 20,
   "metadata": {},
   "outputs": [
    {
     "data": {
      "image/png": "[encoded data removed]",
      "text/plain": [
       "<Figure size 432x288 with 1 Axes>"
      ]
     },
     "metadata": {
      "needs_background": "light"
     },
     "output_type": "display_data"
    }
   ],
   "source": [
    "pyplot.fill_between(coordinates, mean-std, mean+std, alpha=0.6)\n",
    "pyplot.plot(coordinates, mean)\n",
    "\n",
    "pyplot.axis([0, 6, 0, 10])\n",
    "\n",
    "pyplot.show()"
   ]
  },
  {
   "cell_type": "markdown",
   "metadata": {},
   "source": [
    "For more details on this methodology, you can read the journal article\n",
    "[Multivariate Polynomial Chaos Expansions with Dependent Variables](https://doi.org/10.1137/15M1020447)."
   ]
  }
 ],
 "metadata": {
  "kernelspec": {
   "display_name": "Python 3",
   "language": "python",
   "name": "python3"
  },
  "language_info": {
   "codemirror_mode": {
    "name": "ipython",
    "version": 3
   },
   "file_extension": ".py",
   "mimetype": "text/x-python",
   "name": "python",
   "nbconvert_exporter": "python",
   "pygments_lexer": "ipython3",
   "version": "3.9.2"
  }
 },
 "nbformat": 4,
 "nbformat_minor": 4
}
