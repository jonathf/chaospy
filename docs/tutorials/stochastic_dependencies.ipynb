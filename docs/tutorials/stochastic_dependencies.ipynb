{
 "cells": [
  {
   "cell_type": "markdown",
   "metadata": {},
   "source": [
    "## Stochastic dependencies\n",
    "\n",
    "Some times simple stochastically independent random variables are not enough, and one have to use variables with stochastic dependencies.\n",
    "In `chaospy` such variables can be created through parameter declarations.\n",
    "\n",
    "To demonstrate, let us start through example: a Gaussian distribution that depend on a gamma distribution through its mu and sigma parameter:"
   ]
  },
  {
   "cell_type": "code",
   "execution_count": 1,
   "metadata": {},
   "outputs": [
    {
     "data": {
      "text/plain": [
       "J(Gamma(1), Normal(mu=Gamma(1), sigma=Add(Gamma(1), 1)))"
      ]
     },
     "execution_count": 1,
     "metadata": {},
     "output_type": "execute_result"
    }
   ],
   "source": [
    "import chaospy\n",
    "\n",
    "dist1 = chaospy.Gamma(1)\n",
    "dist2 = chaospy.Normal(mu=dist1, sigma=dist1+1)\n",
    "joint = chaospy.J(dist1, dist2)\n",
    "\n",
    "joint"
   ]
  },
  {
   "cell_type": "markdown",
   "metadata": {},
   "source": [
    "The resulting distribution can be used as any other distribution in `chaospy`.\n",
    "For example, here is the countour plot of the probability density function together with (quasi-)random samples:"
   ]
  },
  {
   "cell_type": "code",
   "execution_count": 2,
   "metadata": {},
   "outputs": [
    {
     "data": {
      "text/plain": [
       "(0.0, 3.0, -3.0, 4.0)"
      ]
     },
     "execution_count": 2,
     "metadata": {},
     "output_type": "execute_result"
    },
    {
     "data": {
      "image/png": "[encoded data removed]",
      "text/plain": [
       "<Figure size 432x288 with 1 Axes>"
      ]
     },
     "metadata": {
      "needs_background": "light"
     },
     "output_type": "display_data"
    }
   ],
   "source": [
    "import numpy\n",
    "from matplotlib import pyplot\n",
    "\n",
    "grid = numpy.mgrid[0:3:100j, -3:4:100j]\n",
    "pyplot.contourf(grid[0], grid[1], joint.pdf(grid), 30)\n",
    "pyplot.scatter(*joint.sample(100, rule=\"halton\"), marker=\"x\")\n",
    "\n",
    "pyplot.axis([0, 3, -3, 4])"
   ]
  },
  {
   "cell_type": "markdown",
   "metadata": {},
   "source": [
    "In `chaospy` dependencies are handled by assuming all distributions have a known [chain rule decomposition](https://en.wikipedia.org/wiki/Chain_rule_(probability)):\n",
    "\n",
    "$$\n",
    "p_{Q_1, Q_2, \\dots}(q_1, q_2, \\dots) = p_{Q_1}(q_1)\\ p_{Q_2\\mid Q_1}(q_2)\\ p_{Q_3\\mid Q_2=q_1,Q_2}(q_2)\\cdots\n",
    "$$\n",
    "\n",
    "As long as this decomposition is possible, `chaospy` will figure out how to assemble the joint density function, and random sampling.\n",
    "For examples, is the following allowed:"
   ]
  },
  {
   "cell_type": "code",
   "execution_count": 3,
   "metadata": {},
   "outputs": [
    {
     "data": {
      "text/plain": [
       "array([[3.93510e-01, 8.90800e-02, 7.00000e-04, 7.83390e-01, 3.51100e-02],\n",
       "       [9.31140e-01, 4.67050e-01, 1.57159e+00, 6.14600e-01, 4.06520e-01],\n",
       "       [1.62960e+00, 1.11493e+00, 1.20490e+00, 1.13679e+00, 1.92404e+00]])"
      ]
     },
     "execution_count": 3,
     "metadata": {},
     "output_type": "execute_result"
    }
   ],
   "source": [
    "# NBVAL_CHECK_OUTPUT\n",
    "dist_lo = chaospy.Uniform(0, 1)\n",
    "dist_up = chaospy.Uniform(1, 2)\n",
    "dist_mid = chaospy.Uniform(dist_lo, dist_up)\n",
    "joint_ordered = chaospy.J(dist_lo, dist_mid, dist_up)\n",
    "\n",
    "joint_ordered.sample(5).round(5)"
   ]
  },
  {
   "cell_type": "markdown",
   "metadata": {},
   "source": [
    "Having random samples and probabilty density function available, allows for use of [generalized polynomial chaos](./generalized_polynomial_chaos.ipynb)."
   ]
  },
  {
   "cell_type": "markdown",
   "metadata": {},
   "source": [
    "### Limitations\n",
    "\n",
    "The functionality described above allowes for creating the joint probabiity density function and joint random samples.\n",
    "In practice the latter is possible because `chaospy` constructs the forward and inverse *Rosenblatt tranformation*.\n",
    "However, it is important to note that dependent random variables likes these can not be used for everything.\n",
    "For example, when creating quadrature nodes and weights, rules not dependent on distributions, like Fejer, works fine:"
   ]
  },
  {
   "cell_type": "code",
   "execution_count": 4,
   "metadata": {},
   "outputs": [
    {
     "data": {
      "text/plain": [
       "(array([[  4.721 ,   4.721 ,   4.721 ,  16.1185,  16.1185,  16.1185,\n",
       "          27.516 ,  27.516 ,  27.516 ],\n",
       "        [ 37.7152, 148.6125, 259.5099,  37.7152, 148.6125, 259.5099,\n",
       "          37.7152, 148.6125, 259.5099]]),\n",
       " array([8.15334e-01, 0.00000e+00, 0.00000e+00, 1.84316e-01, 0.00000e+00,\n",
       "        0.00000e+00, 3.50000e-04, 0.00000e+00, 0.00000e+00]))"
      ]
     },
     "execution_count": 4,
     "metadata": {},
     "output_type": "execute_result"
    }
   ],
   "source": [
    "nodes, weights = chaospy.generate_quadrature(2, joint, rule=\"fejer\")\n",
    "nodes.round(4), weights.round(6)"
   ]
  },
  {
   "cell_type": "markdown",
   "metadata": {},
   "source": [
    "However, rules that directly is built on properties taken from the distributions, and in particular, those assuming stochastic independence, can not work.\n",
    "For example optimal Gaussian quadrature:"
   ]
  },
  {
   "cell_type": "code",
   "execution_count": 5,
   "metadata": {},
   "outputs": [],
   "source": [
    "import pytest\n",
    "\n",
    "with pytest.raises(chaospy.StochasticallyDependentError):\n",
    "    chaospy.generate_quadrature(2, joint, rule=\"gaussian\")"
   ]
  },
  {
   "cell_type": "markdown",
   "metadata": {},
   "source": [
    "The same limitation also prevents the construction of joint *cumulative distribution function*.\n",
    "Calculating raw satatistical moments is possible, but is done using (allowed) quadrature rules under the hood.\n",
    "This works quite well in lower dimensions, but scales really badly in higher dimensions."
   ]
  },
  {
   "cell_type": "code",
   "execution_count": 6,
   "metadata": {},
   "outputs": [
    {
     "name": "stdout",
     "output_type": "stream",
     "text": [
      "1.0\n",
      "1.0\n",
      "2.0\n"
     ]
    }
   ],
   "source": [
    "# NBVAL_CHECK_OUTPUT\n",
    "print(joint.mom([1, 0]).round(10))  # Gamma\n",
    "print(joint.mom([0, 1]).round(10))  # Gaussian\n",
    "print(joint.mom([1, 1]).round(10))  # Gamma*Gaussian"
   ]
  },
  {
   "cell_type": "markdown",
   "metadata": {},
   "source": [
    "### Illigal distribution\n",
    "\n",
    "Note that the distribution of interest here, `joint` is the joint distribution including both the Gaussian and the Gamma distribution.\n",
    "The conditional Gaussian distribution `dist2` is created and part of this, but on its own can not be used for anything.\n",
    "In fact, trying to use conditional distributions in `chaospy` will cause an error:"
   ]
  },
  {
   "cell_type": "code",
   "execution_count": 7,
   "metadata": {},
   "outputs": [],
   "source": [
    "with pytest.raises(chaospy.StochasticallyDependentError):\n",
    "    dist2.sample(10)"
   ]
  },
  {
   "cell_type": "markdown",
   "metadata": {},
   "source": [
    "In other words, though any dependencies can be modelled in `chaospy`, declaring those distributions might sometimes be challanging. For example, a transformation like:"
   ]
  },
  {
   "cell_type": "code",
   "execution_count": 8,
   "metadata": {},
   "outputs": [],
   "source": [
    "dist1 = chaospy.Uniform(0, 1)\n",
    "dist2 = chaospy.Normal(0, 1)\n",
    "joint_illegal = chaospy.J(dist1+dist2, dist1-dist2)\n",
    "\n",
    "with pytest.raises(chaospy.StochasticallyDependentError):\n",
    "    joint_illegal.sample(10)"
   ]
  }
 ],
 "metadata": {
  "kernelspec": {
   "display_name": "Python 3",
   "language": "python",
   "name": "python3"
  },
  "language_info": {
   "codemirror_mode": {
    "name": "ipython",
    "version": 3
   },
   "file_extension": ".py",
   "mimetype": "text/x-python",
   "name": "python",
   "nbconvert_exporter": "python",
   "pygments_lexer": "ipython3",
   "version": "3.9.2"
  }
 },
 "nbformat": 4,
 "nbformat_minor": 4
}
