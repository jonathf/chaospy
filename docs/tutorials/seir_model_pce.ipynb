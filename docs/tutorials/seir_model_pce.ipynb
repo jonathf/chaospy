{
 "cells": [
  {
   "cell_type": "markdown",
   "metadata": {},
   "source": [
    "## Modelling the uncertainty in an SEIR model"
   ]
  },
  {
   "cell_type": "markdown",
   "metadata": {},
   "source": [
    "In compartmental modeling in epidemology, SEIR (Susepttible, Exposed, Infectious, Recovered) is a simplified set of equations to model how an infectious dissease spreads through a population. \n",
    "See for example [the Wikipedia article](https://en.wikipedia.org/wiki/Compartmental_models_in_epidemiology) for more information.\n",
    "\n",
    "The form we consider here, the model consists of a system of four non-linear differential equations:\n",
    "\n",
    "\\begin{align*}\n",
    "\\tfrac{\\mathrm{d}S}{\\mathrm{d}t} &= - \\beta IS \\tag{% Susceptible} \\\\\n",
    "\\tfrac{\\mathrm{d}E}{\\mathrm{d}t} &= \\beta IS - \\alpha E  \\tag{% Exposed} \\\\\n",
    "\\tfrac{\\mathrm{d}I}{\\mathrm{d}t} &= -\\gamma I + \\alpha E \\tag{% Infectious} \\\\\n",
    "\\tfrac{\\mathrm{d}R}{\\mathrm{d}t} &= \\gamma I \\tag{% Recovered}\n",
    "\\end{align*}\n",
    "\n",
    "where $S(t)$, $E(t)$, $I(t)$ and $R(t)$ are stochastic processes varying in time.\n",
    "The model has three model parameters: $\\alpha$, $\\beta$ and $\\gamma$, which determine how fast the disease spreads through the population and are different for every infectious disease, so they have to be estimated.\n",
    "\n",
    "We can implement the relationship of these ordernary equations in terms of Python code:"
   ]
  },
  {
   "cell_type": "code",
   "execution_count": 1,
   "metadata": {},
   "outputs": [],
   "source": [
    "def ode_seir(variables, coordinates, parameters):\n",
    "    var_s, var_e, var_i, var_r = variables\n",
    "    alpha, beta, gamma = parameters\n",
    "    \n",
    "    delta_s = -beta*var_i*var_s\n",
    "    delta_e = beta*var_i*var_s-alpha*var_e\n",
    "    delta_i = -gamma*var_i+alpha*var_e\n",
    "    delta_r = gamma*var_i\n",
    "    \n",
    "    return delta_s, delta_e, delta_i, delta_r"
   ]
  },
  {
   "cell_type": "markdown",
   "metadata": {},
   "source": [
    "### Initial condition\n",
    "\n",
    "The initial condition $(S(0), E(0), I(0), R(0)) = (1-\\delta, \\delta, 0, 0)$ for some small $\\delta$. Note that the state $(1,0,0,0)$ implies that nobody has been exposed, so we must assume $\\delta>0$ to let the model to actually model spread of the dissaese. Or in terms of code:"
   ]
  },
  {
   "cell_type": "code",
   "execution_count": 2,
   "metadata": {},
   "outputs": [],
   "source": [
    "def initial_condition(delta):\n",
    "    return 1-delta, delta, 0, 0"
   ]
  },
  {
   "cell_type": "markdown",
   "metadata": {},
   "source": [
    "### Model parameters\n",
    "\n",
    "The model parameters $\\alpha$, $\\beta$ and $\\gamma$ are assumed to have a value, but are in all practical applications unknown. Because of this, it make more sense to assume that the parameters are inherently uncertain and can only be described through a probability distribution. For this example, we will assume that all parameters are uniformly distributed with \n",
    "\n",
    "\\begin{align*}\n",
    "\\alpha &\\sim \\mathcal{U}(0.15, 0.25) & \\beta &\\sim \\mathcal{U}(0.95, 1.05) & \\gamma &\\sim \\mathcal{U}(0.45, 0.55)\n",
    "\\end{align*}\n",
    "\n",
    "Or using `chaospy`:"
   ]
  },
  {
   "cell_type": "code",
   "execution_count": 3,
   "metadata": {},
   "outputs": [],
   "source": [
    "import chaospy\n",
    "\n",
    "alpha = chaospy.Uniform(0.15, 0.25)\n",
    "beta = chaospy.Uniform(0.95, 1.05)\n",
    "gamma = chaospy.Uniform(0.45, 0.55)\n",
    "distribution = chaospy.J(alpha, beta, gamma)"
   ]
  },
  {
   "cell_type": "markdown",
   "metadata": {},
   "source": [
    "### Deterministic model\n",
    "\n",
    "To have a base line of how this model works, we will first assume the uncertain parameters have some fixed value.\n",
    "For example the expected value of the uncertain parameters:"
   ]
  },
  {
   "cell_type": "code",
   "execution_count": 4,
   "metadata": {},
   "outputs": [
    {
     "data": {
      "text/plain": [
       "array([0.2, 1. , 0.5])"
      ]
     },
     "execution_count": 4,
     "metadata": {},
     "output_type": "execute_result"
    }
   ],
   "source": [
    "parameters = chaospy.E(distribution)\n",
    "parameters"
   ]
  },
  {
   "cell_type": "markdown",
   "metadata": {},
   "source": [
    "We then solve the SEIR model on the time interval $[0, 200]$ using $1000$ steps using `scipy.integrate`:"
   ]
  },
  {
   "cell_type": "code",
   "execution_count": 5,
   "metadata": {
    "scrolled": true
   },
   "outputs": [],
   "source": [
    "import numpy\n",
    "from scipy.integrate import odeint\n",
    "\n",
    "time_span = numpy.linspace(0, 200, 1000)\n",
    "responses = odeint(ode_seir, initial_condition(delta=1e-4), time_span, args=(parameters,))"
   ]
  },
  {
   "cell_type": "markdown",
   "metadata": {},
   "source": [
    "We then use `matplotlib` to plot the four processes:"
   ]
  },
  {
   "cell_type": "code",
   "execution_count": 6,
   "metadata": {},
   "outputs": [
    {
     "data": {
      "text/plain": [
       "<matplotlib.legend.Legend at 0x7f322b85b430>"
      ]
     },
     "execution_count": 6,
     "metadata": {},
     "output_type": "execute_result"
    },
    {
     "data": {
      "image/png": "[encoded data removed]",
      "text/plain": [
       "<Figure size 432x288 with 1 Axes>"
      ]
     },
     "metadata": {
      "needs_background": "light"
     },
     "output_type": "display_data"
    }
   ],
   "source": [
    "from matplotlib import pyplot\n",
    "\n",
    "labels = ['Suspectible', 'Exposed', 'Infectious', 'Recovered']\n",
    "for response, label in zip(responses.T, labels):\n",
    "    pyplot.plot(time_span, response, label=label)\n",
    "\n",
    "pyplot.title('SEIR model')\n",
    "pyplot.xlabel('Time (days)')\n",
    "pyplot.ylabel('% of population')\n",
    "pyplot.legend()"
   ]
  },
  {
   "cell_type": "markdown",
   "metadata": {},
   "source": [
    "### Stochastic model\n",
    "\n",
    "We now have our deterministic base line model, and can observe that it works. \n",
    "Let us change the assumption to assume that the parameters are random, and model it using polynomial chaos expansion (PCE).\n",
    "\n",
    "We start by generating a PCE bases:"
   ]
  },
  {
   "cell_type": "code",
   "execution_count": 7,
   "metadata": {},
   "outputs": [
    {
     "data": {
      "text/plain": [
       "polynomial([1.0, q2-0.5, q1-1.0, q0-0.2, q2**2-q2+0.24917])"
      ]
     },
     "execution_count": 7,
     "metadata": {},
     "output_type": "execute_result"
    }
   ],
   "source": [
    "polynomial_order = 3\n",
    "polynomial_expansion = chaospy.generate_expansion(\n",
    "    polynomial_order, distribution)\n",
    "polynomial_expansion[:5].round(5)"
   ]
  },
  {
   "cell_type": "markdown",
   "metadata": {},
   "source": [
    "Generate our quadrature nodes and weights:"
   ]
  },
  {
   "cell_type": "code",
   "execution_count": 8,
   "metadata": {},
   "outputs": [],
   "source": [
    "quadrature_order = 8\n",
    "abscissas, weights = chaospy.generate_quadrature(\n",
    "    quadrature_order, distribution, rule=\"gaussian\")"
   ]
  },
  {
   "cell_type": "markdown",
   "metadata": {},
   "source": [
    "We wrap the deterministic model solution into a function of the model parameters:"
   ]
  },
  {
   "cell_type": "code",
   "execution_count": 9,
   "metadata": {},
   "outputs": [],
   "source": [
    "def model_solver(parameters, delta=1e-4):\n",
    "    return odeint(ode_seir, initial_condition(delta), time_span, args=(parameters,))"
   ]
  },
  {
   "cell_type": "markdown",
   "metadata": {},
   "source": [
    "Now we're going to evaluate the model taking parameters from the quadrature. To reduce the computational load, we use multiprocessing to increase the computational speed."
   ]
  },
  {
   "cell_type": "code",
   "execution_count": 10,
   "metadata": {},
   "outputs": [],
   "source": [
    "from multiprocessing import Pool\n",
    "\n",
    "with Pool(4) as pool:\n",
    "    evaluations = pool.map(model_solver, abscissas.T)"
   ]
  },
  {
   "cell_type": "markdown",
   "metadata": {},
   "source": [
    "And finally we're calculating the PCE Fourier coefficients:"
   ]
  },
  {
   "cell_type": "code",
   "execution_count": 11,
   "metadata": {},
   "outputs": [],
   "source": [
    "model_approx = chaospy.fit_quadrature(\n",
    "    polynomial_expansion, abscissas, weights, evaluations)"
   ]
  },
  {
   "cell_type": "markdown",
   "metadata": {},
   "source": [
    "With a model approximation we can calculate the mean and the standard deviations:"
   ]
  },
  {
   "cell_type": "code",
   "execution_count": 12,
   "metadata": {},
   "outputs": [],
   "source": [
    "expected = chaospy.E(model_approx, distribution)\n",
    "std = chaospy.Std(model_approx, distribution)"
   ]
  },
  {
   "cell_type": "markdown",
   "metadata": {},
   "source": [
    "Finally we can plot the data with uncertainty intervals:"
   ]
  },
  {
   "cell_type": "code",
   "execution_count": 13,
   "metadata": {},
   "outputs": [
    {
     "data": {
      "text/plain": [
       "<matplotlib.legend.Legend at 0x7f323ca3f520>"
      ]
     },
     "execution_count": 13,
     "metadata": {},
     "output_type": "execute_result"
    },
    {
     "data": {
      "image/png": "[encoded data removed]",
      "text/plain": [
       "<Figure size 432x288 with 1 Axes>"
      ]
     },
     "metadata": {
      "needs_background": "light"
     },
     "output_type": "display_data"
    }
   ],
   "source": [
    "for mu, sigma, label in zip(expected.T, std.T, labels):\n",
    "    pyplot.fill_between(\n",
    "        time_span, mu-sigma, mu+sigma, alpha=0.3)\n",
    "    pyplot.plot(time_span, mu, label=label)\n",
    "    \n",
    "pyplot.xlabel(\"Time (days)\")\n",
    "pyplot.ylabel(\"% of population\")\n",
    "pyplot.title('Stochastic SEIR model')\n",
    "pyplot.legend()"
   ]
  }
 ],
 "metadata": {
  "kernelspec": {
   "display_name": "Python 3",
   "language": "python",
   "name": "python3"
  },
  "language_info": {
   "codemirror_mode": {
    "name": "ipython",
    "version": 3
   },
   "file_extension": ".py",
   "mimetype": "text/x-python",
   "name": "python",
   "nbconvert_exporter": "python",
   "pygments_lexer": "ipython3",
   "version": "3.8.3"
  }
 },
 "nbformat": 4,
 "nbformat_minor": 5
}
