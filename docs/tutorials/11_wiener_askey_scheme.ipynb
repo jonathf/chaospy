{
 "cells": [
  {
   "cell_type": "markdown",
   "metadata": {},
   "source": [
    "## Wiener-Askey Scheme\n",
    "\n",
    "Source: https://doi.org/10.1137/S1064827501387826\n",
    "\n",
    "Polynomial chaos expansion often assume that the polynomial expansion used is of the Wiener-Askey scheme veriaty.\n",
    "The reason for this is that the expansion in the scheme correspond to orthogonality with respect to some standard probability distribution.\n",
    "\n",
    "There usually exists a few variations of the Wiener-Askey scheme.\n",
    "This is because of two reasons:\n",
    "\n",
    "1. The weight function in the classical scheme do not normalize to 1 which probability density functions are required to do.\n",
    "2. Any polynomial can be multiplied with a scalar and retain its orthogonal properties.\n",
    "\n",
    "The former meas there is only one unique variation that is applicable in the context of uncertainty quantification.\n",
    "The latter is made unique by assuming that the leading coefficient to the largest exponent should be 1.\n",
    "But for convinience, the more canonical versions of the schemes will be listed as well here.\n",
    "\n",
    "In ``chaospy``, though descrete distributions are supported, we will only focus on the continous cases."
   ]
  },
  {
   "cell_type": "markdown",
   "metadata": {},
   "source": [
    "### Hermite polynomials\n",
    "\n",
    "The Hermite polynomials are associated with the Standard Gaussian distribution:"
   ]
  },
  {
   "cell_type": "code",
   "execution_count": 1,
   "metadata": {},
   "outputs": [
    {
     "data": {
      "text/plain": [
       "polynomial([1.0, q0, q0**2-1.0, q0**3-3.0*q0])"
      ]
     },
     "execution_count": 1,
     "metadata": {},
     "output_type": "execute_result"
    }
   ],
   "source": [
    "import chaospy\n",
    "\n",
    "distribution = chaospy.Normal(0, 1)\n",
    "chaospy.generate_expansion(3, distribution)"
   ]
  },
  {
   "cell_type": "markdown",
   "metadata": {},
   "source": [
    "A multivariate expansion:"
   ]
  },
  {
   "cell_type": "code",
   "execution_count": 2,
   "metadata": {},
   "outputs": [
    {
     "data": {
      "text/plain": [
       "polynomial([1.0, q1, q0, q1**2-1.0, q0*q1, q0**2-1.0])"
      ]
     },
     "execution_count": 2,
     "metadata": {},
     "output_type": "execute_result"
    }
   ],
   "source": [
    "distribution = chaospy.J(\n",
    "    chaospy.Normal(0, 1), chaospy.Normal(0, 1))\n",
    "chaospy.generate_expansion(3, distribution)[:6]"
   ]
  },
  {
   "cell_type": "markdown",
   "metadata": {},
   "source": [
    "The Hermite polynomials have classically a weight function $W(x) = e^{-x^2}$, and an expansion:"
   ]
  },
  {
   "cell_type": "code",
   "execution_count": 3,
   "metadata": {},
   "outputs": [
    {
     "data": {
      "text/plain": [
       "polynomial([1.0, 2.0*q0, 4.0*q0**2-4.0, 8.0*q0**3-24.0*q0])"
      ]
     },
     "execution_count": 3,
     "metadata": {},
     "output_type": "execute_result"
    }
   ],
   "source": [
    "import numpy\n",
    "\n",
    "distribution = chaospy.Normal(0, 1)\n",
    "chaospy.generate_expansion(3, distribution)*2**numpy.arange(4)"
   ]
  },
  {
   "cell_type": "markdown",
   "metadata": {},
   "source": [
    "### Legendre Polynomials\n",
    "\n",
    "The Legendre are associated with the Uniform distribution on the $[-1, 1]$ interval."
   ]
  },
  {
   "cell_type": "code",
   "execution_count": 4,
   "metadata": {},
   "outputs": [
    {
     "data": {
      "text/plain": [
       "polynomial([1.0, q0, q0**2-0.3333, q0**3-0.6*q0])"
      ]
     },
     "execution_count": 4,
     "metadata": {},
     "output_type": "execute_result"
    }
   ],
   "source": [
    "distribution = chaospy.Uniform(-1, 1)\n",
    "chaospy.generate_expansion(3, distribution).round(4)"
   ]
  },
  {
   "cell_type": "markdown",
   "metadata": {},
   "source": [
    "A multivariate expansion:"
   ]
  },
  {
   "cell_type": "code",
   "execution_count": 5,
   "metadata": {},
   "outputs": [
    {
     "data": {
      "text/plain": [
       "polynomial([1.0, q1, q0, q1**2-0.3333, q0*q1, q0**2-0.3333])"
      ]
     },
     "execution_count": 5,
     "metadata": {},
     "output_type": "execute_result"
    }
   ],
   "source": [
    "distribution = chaospy.J(\n",
    "    chaospy.Uniform(-1, 1), chaospy.Uniform(-1, 1))\n",
    "chaospy.generate_expansion(3, distribution)[:6].round(4)"
   ]
  },
  {
   "cell_type": "markdown",
   "metadata": {},
   "source": [
    "The Legendre polynomials have classically a weight function $W(x) = 1$ on the interval $[-1, 1]$, and an expansion:"
   ]
  },
  {
   "cell_type": "code",
   "execution_count": 6,
   "metadata": {
    "scrolled": true
   },
   "outputs": [
    {
     "data": {
      "text/plain": [
       "polynomial([1.0, q0, 1.5*q0**2-0.5, 2.5*q0**3-1.5*q0])"
      ]
     },
     "execution_count": 6,
     "metadata": {},
     "output_type": "execute_result"
    }
   ],
   "source": [
    "distribution = chaospy.Uniform(-1, 1)\n",
    "poly = chaospy.generate_expansion(3, distribution)\n",
    "(poly/poly(1)).round(4)"
   ]
  },
  {
   "cell_type": "markdown",
   "metadata": {},
   "source": [
    "### Laguerre polynomials\n",
    "\n",
    "Laguerre polynomials with the Exponential distribution."
   ]
  },
  {
   "cell_type": "code",
   "execution_count": 7,
   "metadata": {},
   "outputs": [
    {
     "data": {
      "text/plain": [
       "polynomial([1.0, q0-1.0, q0**2-4.0*q0+2.0])"
      ]
     },
     "execution_count": 7,
     "metadata": {},
     "output_type": "execute_result"
    }
   ],
   "source": [
    "distribution = chaospy.Exponential()\n",
    "chaospy.generate_expansion(2, distribution)"
   ]
  },
  {
   "cell_type": "markdown",
   "metadata": {},
   "source": [
    "A multivariate expansion:"
   ]
  },
  {
   "cell_type": "code",
   "execution_count": 8,
   "metadata": {},
   "outputs": [
    {
     "data": {
      "text/plain": [
       "polynomial([1.0, q1-1.0, q0-1.0, q1**2-4.0*q1+2.0, q0*q1-q1-q0+1.0])"
      ]
     },
     "execution_count": 8,
     "metadata": {},
     "output_type": "execute_result"
    }
   ],
   "source": [
    "distribution = chaospy.J(\n",
    "    chaospy.Exponential(), chaospy.Exponential())\n",
    "chaospy.generate_expansion(2, distribution)[:5]"
   ]
  },
  {
   "cell_type": "markdown",
   "metadata": {},
   "source": [
    "The Laguerre polynomials have classically a weight function $W(x) = e^{-x}$, and an expansion:"
   ]
  },
  {
   "cell_type": "code",
   "execution_count": 9,
   "metadata": {
    "scrolled": false
   },
   "outputs": [
    {
     "data": {
      "text/plain": [
       "polynomial([1.0, -q0+1.0, 0.5*q0**2-2.0*q0+1.0,\n",
       "            -0.1667*q0**3+1.5*q0**2-3.0*q0+1.0])"
      ]
     },
     "execution_count": 9,
     "metadata": {},
     "output_type": "execute_result"
    }
   ],
   "source": [
    "distribution = chaospy.Exponential()\n",
    "poly = chaospy.generate_expansion(3, distribution)\n",
    "(poly/poly(0)).round(4)[:5]"
   ]
  },
  {
   "cell_type": "markdown",
   "metadata": {},
   "source": [
    "### Generalized Laguerre polynomials\n",
    "\n",
    "Generalized Laguerre polynomials with the Gamma distribution with parameter $\\alpha$."
   ]
  },
  {
   "cell_type": "code",
   "execution_count": 10,
   "metadata": {},
   "outputs": [
    {
     "data": {
      "text/plain": [
       "polynomial([1.0, q0-3.0, q0**2-8.0*q0+12.0])"
      ]
     },
     "execution_count": 10,
     "metadata": {},
     "output_type": "execute_result"
    }
   ],
   "source": [
    "alpha = 2\n",
    "distribution = chaospy.Gamma(alpha+1)\n",
    "chaospy.generate_expansion(3, distribution)[:3]"
   ]
  },
  {
   "cell_type": "markdown",
   "metadata": {},
   "source": [
    "A multivariate expansion:"
   ]
  },
  {
   "cell_type": "code",
   "execution_count": 11,
   "metadata": {},
   "outputs": [
    {
     "data": {
      "text/plain": [
       "polynomial([1.0, q1-3.0, q0-3.0, q1**2-8.0*q1+12.0,\n",
       "            q0*q1-3.0*q1-3.0*q0+9.0, q0**2-8.0*q0+12.0])"
      ]
     },
     "execution_count": 11,
     "metadata": {},
     "output_type": "execute_result"
    }
   ],
   "source": [
    "distribution = chaospy.J(\n",
    "    chaospy.Gamma(alpha+1), chaospy.Gamma(alpha+1))\n",
    "chaospy.generate_expansion(3, distribution)[:6]"
   ]
  },
  {
   "cell_type": "markdown",
   "metadata": {},
   "source": [
    "The Generalized Laguerre polynomials have classically a weight function $W(x) = x^\\alpha e^{-\\alpha x}$, and an expansion:"
   ]
  },
  {
   "cell_type": "code",
   "execution_count": 12,
   "metadata": {
    "scrolled": false
   },
   "outputs": [
    {
     "data": {
      "text/plain": [
       "polynomial([1.0, -q0+3.0, 0.5*q0**2-4.0*q0+6.0,\n",
       "            -0.1667*q0**3+2.5*q0**2-10.0*q0+10.0])"
      ]
     },
     "execution_count": 12,
     "metadata": {},
     "output_type": "execute_result"
    }
   ],
   "source": [
    "poly1 = chaospy.generate_expansion(3, chaospy.Gamma(alpha+1))\n",
    "poly2 = chaospy.generate_expansion(3, chaospy.Exponential())\n",
    "(poly1/poly2(0)).round(4)"
   ]
  },
  {
   "cell_type": "markdown",
   "metadata": {},
   "source": [
    "### Jacobi polynomials\n",
    "\n",
    "Jacobi polynomials with the Beta distribution with parameters $\\alpha$ and $\\beta$."
   ]
  },
  {
   "cell_type": "code",
   "execution_count": 13,
   "metadata": {},
   "outputs": [
    {
     "data": {
      "text/plain": [
       "polynomial([1.0, q0-0.4, q0**2-0.8571*q0+0.1429,\n",
       "            q0**3-1.3333*q0**2+0.5*q0-0.0476])"
      ]
     },
     "execution_count": 13,
     "metadata": {},
     "output_type": "execute_result"
    }
   ],
   "source": [
    "alpha = 2\n",
    "beta = 3\n",
    "distribution = chaospy.Beta(alpha, beta)\n",
    "chaospy.generate_expansion(3, distribution).round(4)"
   ]
  },
  {
   "cell_type": "markdown",
   "metadata": {},
   "source": [
    "A multivariate expansion:"
   ]
  },
  {
   "cell_type": "code",
   "execution_count": 14,
   "metadata": {},
   "outputs": [
    {
     "data": {
      "text/plain": [
       "polynomial([1.0, q1-0.4, q0-0.4, q1**2-0.8571*q1+0.1429,\n",
       "            q0*q1-0.4*q1-0.4*q0+0.16, q0**2-0.8571*q0+0.1429])"
      ]
     },
     "execution_count": 14,
     "metadata": {},
     "output_type": "execute_result"
    }
   ],
   "source": [
    "distribution = chaospy.J(\n",
    "    chaospy.Beta(alpha, beta), chaospy.Beta(alpha, beta))\n",
    "chaospy.generate_expansion(3, distribution)[:6].round(4)"
   ]
  },
  {
   "cell_type": "markdown",
   "metadata": {},
   "source": [
    "The Beta polynomials have classically a weight function: $W(x) = (1-x)^\\alpha(1+x)^\\beta$ over the interval $[-1, 1]$, and an expansion:"
   ]
  },
  {
   "cell_type": "code",
   "execution_count": 15,
   "metadata": {
    "scrolled": true
   },
   "outputs": [
    {
     "data": {
      "text/plain": [
       "polynomial([1.0, 3.5*q0+0.7, 9.0*q0**2+2.5714*q0-1.2857,\n",
       "            20.625*q0**3+6.875*q0**2-6.875*q0-0.9821])"
      ]
     },
     "execution_count": 15,
     "metadata": {},
     "output_type": "execute_result"
    }
   ],
   "source": [
    "# NBVAL_CHECK_OUTPUT\n",
    "from scipy.special import comb\n",
    "\n",
    "distribution = chaospy.Beta(alpha, beta, lower=-1, upper=1)\n",
    "\n",
    "func = lambda n: numpy.sum(\n",
    "    comb(n+alpha, n-numpy.arange(n+1))*\n",
    "    comb(n+beta, numpy.arange(n+1))\n",
    ")/2**n\n",
    "coefficients = numpy.array([func(n) for n in range(4)])\n",
    "\n",
    "(chaospy.generate_expansion(3, distribution)*coefficients).round(4)"
   ]
  }
 ],
 "metadata": {
  "kernelspec": {
   "display_name": "Python 3",
   "language": "python",
   "name": "python3"
  },
  "language_info": {
   "codemirror_mode": {
    "name": "ipython",
    "version": 3
   },
   "file_extension": ".py",
   "mimetype": "text/x-python",
   "name": "python",
   "nbconvert_exporter": "python",
   "pygments_lexer": "ipython3",
   "version": "3.8.3"
  }
 },
 "nbformat": 4,
 "nbformat_minor": 4
}
