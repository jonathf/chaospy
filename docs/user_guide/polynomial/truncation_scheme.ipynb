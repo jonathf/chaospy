{
 "cells": [
  {
   "cell_type": "markdown",
   "metadata": {},
   "source": [
    "## Truncation scheme \n",
    "\n",
    "By default, the constructor functions that create polynomial expansions are ordered using _graded reversed lexicographical sorting_.\n",
    "In practice this mostly means that the order of the polynomials are fixed deterministic.\n",
    "Here is explanation of what that entails.\n",
    "\n",
    "Each polynomial in an expansion (at least in orthogonal ones) can be determined by a multi-index that refers to the largest exponent among its terms along each dimension.\n",
    "For example, we defined the bivariate polynomial $\\Phi_{nm}$ to be on the form:\n",
    "\n",
    "$$\n",
    "\\Phi_{nm} = q_0^nq_1^m + \\sum_{i<n, j<m}^{i+j< n+m} \\alpha_{ij} q_0^i q_1^j\n",
    "$$\n",
    "\n",
    "where $\\alpha_{ij}$ are scalar coefficients.\n",
    "For ``chaospy.monomial``, all $\\alpha_{ij}$ are zero, reducing the expansion to just the leading term.\n",
    "\n",
    "We say that the order of this polynomial is $n+m$.\n",
    "\n",
    "Following the same bivariate, we can iterate through all polynomials:\n",
    "\n",
    "$$\n",
    "  \\begin{align*}\n",
    "     k &= 0 &  &\\Phi_{00} & &\\Phi_0 \\\\ \n",
    "     k &= 1 &  \\Phi_{10} &\\quad \\Phi_{01} & \\Phi_{1} &\\quad \\Phi_{2}\\\\\n",
    "     k &= 2 & \\Phi_{20} \\quad &\\Phi_{11} \\quad\\Phi_{02} & \\Phi_{3} \\quad &\\Phi_{4} \\quad\\Phi_{5} \\\\\n",
    "     k &= 3 & \\Phi_{30} \\quad \\Phi_{21} & \\quad \\Phi_{12} \\quad\\Phi_{03} &\n",
    "   \\Phi_{6} \\quad \\Phi_{7} & \\quad \\Phi_{8} \\quad\\Phi_{9} \\\\\n",
    "  \\end{align*}\n",
    "$$\n",
    "\n",
    "Here we also denote the polynomials twice: One with the multi-index and one with a single index.\n",
    "These polynomials are equivalent.\n",
    "But in addition, we divide the polynomials into _orders_ defined as $k=n+m$.\n",
    "\n",
    "When constructing a polynomial expansion in `chaospy`, using the constructors `chaospy.generate_expansion` or `chaospy.monomial`, providing an integer for the order, will truncate the expansion to a specific order.\n",
    "For example a 3-dimensional expansion truncated at order 20:"
   ]
  },
  {
   "cell_type": "code",
   "execution_count": 1,
   "metadata": {
    "execution": {
     "iopub.execute_input": "2021-05-18T10:56:20.402687Z",
     "iopub.status.busy": "2021-05-18T10:56:20.402333Z",
     "iopub.status.idle": "2021-05-18T10:56:20.416627Z",
     "shell.execute_reply": "2021-05-18T10:56:20.416861Z"
    },
    "scrolled": true
   },
   "outputs": [
    {
     "data": {
      "text/plain": [
       "polynomial([1, q0, q1, q0**2, q1**2, q0*q1])"
      ]
     },
     "execution_count": 1,
     "metadata": {},
     "output_type": "execute_result"
    }
   ],
   "source": [
    "import chaospy\n",
    "\n",
    "expansion = chaospy.monomial(start=0, stop=21, dimensions=2, graded=True)\n",
    "expansion[:6]"
   ]
  },
  {
   "cell_type": "markdown",
   "metadata": {},
   "source": [
    "The exponents represents the multi-indices here.\n",
    "For simplicity, we use the function `chaospy.glexindex` which produces the same exponents more directly, so we can plot them:"
   ]
  },
  {
   "cell_type": "code",
   "execution_count": 2,
   "metadata": {
    "execution": {
     "iopub.execute_input": "2021-05-18T10:56:20.419195Z",
     "iopub.status.busy": "2021-05-18T10:56:20.418881Z",
     "iopub.status.idle": "2021-05-18T10:56:20.427680Z",
     "shell.execute_reply": "2021-05-18T10:56:20.427361Z"
    }
   },
   "outputs": [
    {
     "data": {
      "text/plain": [
       "array([[0, 1, 0, 2, 0, 1],\n",
       "       [0, 0, 1, 0, 2, 1]])"
      ]
     },
     "execution_count": 1,
     "metadata": {},
     "output_type": "execute_result"
    }
   ],
   "source": [
    "indices = chaospy.glexindex(start=0, stop=21, dimensions=2, graded=True)\n",
    "indices[:6].T"
   ]
  },
  {
   "cell_type": "markdown",
   "metadata": {},
   "source": [
    "Here `[0, 0]` represents `q0**0*q1**0`, `[1, 0]` represents `q0**1*q1**0`, and so forth.\n",
    "\n",
    "Alternatively, it is possible to extract the same indices using the `ndpoly.exponents` attribute:"
   ]
  },
  {
   "cell_type": "code",
   "execution_count": 3,
   "metadata": {
    "execution": {
     "iopub.execute_input": "2021-05-18T10:56:20.429839Z",
     "iopub.status.busy": "2021-05-18T10:56:20.429538Z",
     "iopub.status.idle": "2021-05-18T10:56:20.437796Z",
     "shell.execute_reply": "2021-05-18T10:56:20.437483Z"
    }
   },
   "outputs": [
    {
     "data": {
      "text/plain": [
       "array([[0, 1, 0, 2, 0, 1],\n",
       "       [0, 0, 1, 0, 2, 1]], dtype=uint32)"
      ]
     },
     "execution_count": 1,
     "metadata": {},
     "output_type": "execute_result"
    }
   ],
   "source": [
    "expansion.exponents[:6].T"
   ]
  },
  {
   "cell_type": "markdown",
   "metadata": {},
   "source": [
    "In ether case, the exponents can be visualized as follows:"
   ]
  },
  {
   "cell_type": "code",
   "execution_count": 4,
   "metadata": {
    "execution": {
     "iopub.execute_input": "2021-05-18T10:56:20.440362Z",
     "iopub.status.busy": "2021-05-18T10:56:20.440048Z",
     "iopub.status.idle": "2021-05-18T10:56:20.519107Z",
     "shell.execute_reply": "2021-05-18T10:56:20.518819Z"
    }
   },
   "outputs": [
    {
     "data": {
      "image/png": "[encoded data removed]",
      "text/plain": [
       "<Figure size 432x432 with 1 Axes>"
      ]
     },
     "metadata": {
      "needs_background": "light"
     },
     "output_type": "display_data"
    }
   ],
   "source": [
    "from matplotlib import pyplot\n",
    "\n",
    "pyplot.rc(\"figure\", figsize=[6, 6])\n",
    "\n",
    "pyplot.scatter(*indices.T)\n",
    "pyplot.axis([-1, 21, -1, 21])\n",
    "pyplot.show()"
   ]
  },
  {
   "cell_type": "markdown",
   "metadata": {},
   "source": [
    "The dots represents multi-index that are included.\n",
    "These dots represents a total order truncation scheme, which means that :math:`L_1`-norm of the exponents are limited by the `stop` value, giving this straight bound line.\n",
    "\n",
    "### The $L_p$-norm\n",
    "\n",
    "From a metric point of view, this boundary behaves like the indices are limited to 20 under the $L_1$-norm.\n",
    "Following this perspective, we can change the norm to be any $L_p$ norm.\n",
    "For example, to increase the cross terms, we can use the $L_{0.6}$ norm:"
   ]
  },
  {
   "cell_type": "code",
   "execution_count": 5,
   "metadata": {
    "execution": {
     "iopub.execute_input": "2021-05-18T10:56:20.521623Z",
     "iopub.status.busy": "2021-05-18T10:56:20.521178Z",
     "iopub.status.idle": "2021-05-18T10:56:20.592391Z",
     "shell.execute_reply": "2021-05-18T10:56:20.592056Z"
    }
   },
   "outputs": [
    {
     "data": {
      "image/png": "[encoded data removed]",
      "text/plain": [
       "<Figure size 432x432 with 1 Axes>"
      ]
     },
     "metadata": {
      "needs_background": "light"
     },
     "output_type": "display_data"
    }
   ],
   "source": [
    "indices = chaospy.glexindex(\n",
    "    start=0, stop=21, dimensions=2, cross_truncation=0.6)\n",
    "\n",
    "pyplot.scatter(*indices.T)\n",
    "pyplot.show()"
   ]
  },
  {
   "cell_type": "markdown",
   "metadata": {},
   "source": [
    "This represents a more aggressive cross-truncation scheme."
   ]
  },
  {
   "cell_type": "markdown",
   "metadata": {},
   "source": [
    "### Full tensor grid\n",
    "\n",
    "If a full tensor grid is needed, set the norm to be ``numpy.inf``: "
   ]
  },
  {
   "cell_type": "code",
   "execution_count": 6,
   "metadata": {
    "execution": {
     "iopub.execute_input": "2021-05-18T10:56:20.594735Z",
     "iopub.status.busy": "2021-05-18T10:56:20.594416Z",
     "iopub.status.idle": "2021-05-18T10:56:20.666622Z",
     "shell.execute_reply": "2021-05-18T10:56:20.666170Z"
    }
   },
   "outputs": [
    {
     "data": {
      "image/png": "[encoded data removed]",
      "text/plain": [
       "<Figure size 432x432 with 1 Axes>"
      ]
     },
     "metadata": {
      "needs_background": "light"
     },
     "output_type": "display_data"
    }
   ],
   "source": [
    "import numpy\n",
    "\n",
    "indices = chaospy.glexindex(\n",
    "    start=0, stop=21, dimensions=2, cross_truncation=numpy.inf)\n",
    "\n",
    "pyplot.scatter(*indices.T)\n",
    "pyplot.show()"
   ]
  },
  {
   "cell_type": "markdown",
   "metadata": {},
   "source": [
    "### Dimension prioritization\n",
    "\n",
    "So far the various dimensions have been limited to a single integer.\n",
    "However, there is support for different order along the different dimensions.\n",
    "To get this idea working with the custom norm, we redefine the $L_q$-norm limit to the following inequality:\n",
    "\n",
    "$$\n",
    "\\left( \\sum_i |n_i/b_i|^p\\right)^{1/p} \\leq 1\n",
    "$$\n",
    "\n",
    "Here $b_i$ is the individual limit along dimension $i$.\n",
    "\n",
    "In practice, this will look as follows:"
   ]
  },
  {
   "cell_type": "code",
   "execution_count": 7,
   "metadata": {
    "execution": {
     "iopub.execute_input": "2021-05-18T10:56:20.668931Z",
     "iopub.status.busy": "2021-05-18T10:56:20.668598Z",
     "iopub.status.idle": "2021-05-18T10:56:20.769731Z",
     "shell.execute_reply": "2021-05-18T10:56:20.770113Z"
    }
   },
   "outputs": [
    {
     "data": {
      "image/png": "[encoded data removed]",
      "text/plain": [
       "<Figure size 432x432 with 1 Axes>"
      ]
     },
     "metadata": {
      "needs_background": "light"
     },
     "output_type": "display_data"
    }
   ],
   "source": [
    "indices = chaospy.glexindex(\n",
    "    start=0, stop=[11, 21], cross_truncation=2)\n",
    "\n",
    "pyplot.scatter(*indices.T)\n",
    "pyplot.axis([-1, 21, -1, 21])\n",
    "pyplot.show()"
   ]
  },
  {
   "cell_type": "markdown",
   "metadata": {},
   "source": [
    "Note that the flag `dimensions=2` is omitted, as it is now inferred from the `stop` flag."
   ]
  }
 ],
 "metadata": {
  "jupytext": {
   "formats": "ipynb,py:percent"
  },
  "kernelspec": {
   "display_name": "Python 3",
   "language": "python",
   "name": "python3"
  },
  "language_info": {
   "codemirror_mode": {
    "name": "ipython",
    "version": 3
   },
   "file_extension": ".py",
   "mimetype": "text/x-python",
   "name": "python",
   "nbconvert_exporter": "python",
   "pygments_lexer": "ipython3",
   "version": "3.9.5"
  }
 },
 "nbformat": 4,
 "nbformat_minor": 2
}
