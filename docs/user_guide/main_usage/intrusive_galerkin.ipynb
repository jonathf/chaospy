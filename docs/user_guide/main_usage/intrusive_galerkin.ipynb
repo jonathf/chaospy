{
 "cells": [
  {
   "cell_type": "markdown",
   "metadata": {},
   "source": [
    "## Intrusive Galerkin\n",
    "\n",
    "When talking about polynomial chaos expansions, there are typically two\n",
    "categories methods that are used: non-intrusive and intrusive methods. The\n",
    "distinction between the two categories lies in how one tries to solve the\n",
    "problem at hand. In the intrusive methods, the core problem formulation,\n",
    "often in the form of some governing equations to solve is reformulated to\n",
    "target a polynomial chaos expansion. In the case of the non-intrusive methods\n",
    "a solver for deterministic case is used in combination of some form of\n",
    "collocation method to fit to the expansion.\n",
    "\n",
    "The ``chaospy`` toolbox caters for the most part to the non-intrusive\n",
    "methods. However it is still possible to use the toolbox to solve intrusive\n",
    "formulation. It just requires that the user to do more of the mathematics\n",
    "them selves."
   ]
  },
  {
   "cell_type": "markdown",
   "metadata": {},
   "source": [
    "### Problem revisited\n",
    "\n",
    "This section uses the same example as the [problem\n",
    "formulation](./problem_formulation.ipynb). To reiterate the problem\n",
    "formulation:\n",
    "\n",
    "$$\n",
    "   \\frac{d}{dt} u(t) = -\\beta\\ u(t) \\qquad u(0) = \\alpha \\qquad t \\in [0, 10]\n",
    "$$\n",
    "\n",
    "Here $\\alpha$ is initial condition and $\\beta$ is the exponential growth\n",
    "rate. They are both unknown hyper parameters which can be described through a\n",
    "joint probability distribution:"
   ]
  },
  {
   "cell_type": "code",
   "execution_count": 1,
   "metadata": {
    "execution": {
     "iopub.execute_input": "2021-05-18T10:56:36.621214Z",
     "iopub.status.busy": "2021-05-18T10:56:36.620878Z",
     "iopub.status.idle": "2021-05-18T10:56:38.588823Z",
     "shell.execute_reply": "2021-05-18T10:56:38.589079Z"
    }
   },
   "outputs": [
    {
     "data": {
      "text/plain": [
       "J(Normal(mu=1.5, sigma=0.2), Uniform(lower=0.1, upper=0.2))"
      ]
     },
     "execution_count": 1,
     "metadata": {},
     "output_type": "execute_result"
    }
   ],
   "source": [
    "from problem_formulation import joint\n",
    "\n",
    "joint"
   ]
  },
  {
   "cell_type": "markdown",
   "metadata": {},
   "source": [
    "Here the parameters are positional defined as $\\alpha$ and $\\beta$\n",
    "respectively.\n",
    "\n",
    "First step of intrusive Galerkin's method, we will first assume that the\n",
    "solution $u(t)$ can be expressed as the sum:\n",
    "\n",
    "$$\n",
    "   u(t; \\alpha, \\beta) = \\sum_{n=0}^N c_n(t)\\ \\Phi_n(\\alpha, \\beta)\n",
    "$$\n",
    "\n",
    "Here $\\Phi_n$ are orthogonal polynomials and $c_n$ Fourier coefficients. We\n",
    "do not know what the latter is yet, but the former we can construct from\n",
    "distribution alone."
   ]
  },
  {
   "cell_type": "code",
   "execution_count": 2,
   "metadata": {
    "execution": {
     "iopub.execute_input": "2021-05-18T10:56:38.591144Z",
     "iopub.status.busy": "2021-05-18T10:56:38.590881Z",
     "iopub.status.idle": "2021-05-18T10:56:38.635427Z",
     "shell.execute_reply": "2021-05-18T10:56:38.635655Z"
    }
   },
   "outputs": [
    {
     "data": {
      "text/plain": [
       "polynomial([1.0, q1-0.15, q0-1.5, q1**2-0.3*q1+0.0216666667])"
      ]
     },
     "execution_count": 1,
     "metadata": {},
     "output_type": "execute_result"
    }
   ],
   "source": [
    "import chaospy\n",
    "\n",
    "polynomial_expansion = chaospy.generate_expansion(3, joint)\n",
    "polynomial_expansion[:4].round(10)"
   ]
  },
  {
   "cell_type": "markdown",
   "metadata": {},
   "source": [
    "Note again, that the variables are here defined positional. $\\alpha$ and\n",
    "$\\beta$ corresponds to positions 0 and 1, which again corresponds to the\n",
    "polynomial variables `q0` and `q1` respectively.\n",
    "\n",
    "The second step of the method is to fill in the assumed solution into the\n",
    "equations we are trying to solve the following two equations:\n",
    "\n",
    "$$\n",
    "   \\frac{d}{dt} \\sum_{n=0}^N c_n\\ \\Phi_n = -\\beta \\sum_{n=0}^N c_n \\qquad\n",
    "   \\sum_{n=0}^N c_n(0)\\ \\Phi_n = \\alpha\n",
    "$$\n",
    "\n",
    "The third step is to take the inner product of each side of both equations\n",
    "against the polynomial $\\Phi_k$ for $k=0,\\cdots,N$. For the first equation,\n",
    "this will have the following form:\n",
    "\n",
    "$$\n",
    "\\begin{align*}\n",
    "   \\left\\langle \\frac{d}{dt} \\sum_{n=0}^N c_n \\Phi_n, \\Phi_k \\right\\rangle &=\n",
    "   \\left\\langle -\\beta \\sum_{n=0}^N c_n\\Phi_n, \\Phi_k \\right\\rangle \\\\\n",
    "   \\left\\langle \\sum_{n=0}^N c_n(0)\\ \\Phi_n, \\Phi_k \\right\\rangle &=\n",
    "   \\left\\langle \\alpha, \\Phi_k \\right\\rangle \\\\\n",
    "\\end{align*}\n",
    "$$\n",
    "\n",
    "Let us define the first equation as the main equation, and the latter as the\n",
    "initial condition equation."
   ]
  },
  {
   "cell_type": "markdown",
   "metadata": {},
   "source": [
    "### Main equation\n",
    "\n",
    "We start by simplifying the equation. A lot of collapsing of the sums is\n",
    "possible because of the orthogonality property of the polynomials $\\langle\n",
    "\\Phi_i, \\Phi_j\\rangle$ for $i \\neq j$.\n",
    "\n",
    "$$\n",
    "\\begin{align*}\n",
    "   \\left\\langle \\frac{d}{dt} \\sum_{n=0}^N c_n \\Phi_n, \\Phi_k \\right\\rangle &=\n",
    "   \\left\\langle -\\beta \\sum_{n=0}^N c_n\\Phi_n, \\Phi_k \\right\\rangle \\\\\n",
    "   \\sum_{n=0}^N \\frac{d}{dt} c_n \\left\\langle \\Phi_n, \\Phi_k \\right\\rangle &=\n",
    "   -\\sum_{n=0}^N c_n \\left\\langle \\beta\\ \\Phi_n, \\Phi_n \\right\\rangle \\\\\n",
    "      \\frac{d}{dt} c_k \\left\\langle \\Phi_k, \\Phi_k \\right\\rangle &=\n",
    "   -\\sum_{n=0}^N c_n \\left\\langle \\beta\\ \\Phi_n, \\Phi_k \\right\\rangle \\\\\n",
    "   \\frac{d}{dt} c_k &=\n",
    "   -\\sum_{n=0}^N c_n\n",
    "   \\frac{\n",
    "      \\left\\langle \\beta\\ \\Phi_n, \\Phi_k \\right\\rangle\n",
    "   }{\n",
    "      \\left\\langle \\Phi_k, \\Phi_k \\right\\rangle\n",
    "   }\n",
    "\\end{align*}\n",
    "$$\n",
    "\n",
    "Or equivalent, using probability notation:\n",
    "\n",
    "$$\n",
    "   \\frac{d}{dt} c_k =\n",
    "   -\\sum_{n=0}^N c_n\n",
    "   \\frac{\n",
    "      \\mbox E\\left( \\beta\\ \\Phi_n \\Phi_k \\right)\n",
    "   }{\n",
    "      \\mbox E\\left( \\Phi_k \\Phi_k \\right)\n",
    "   }\n",
    "$$\n",
    "\n",
    "This is a set of linear equations. To solve them in practice, we need to\n",
    "formulate the right-hand-side as a function. To start we create variables to\n",
    "deal with the fact that $\\alpha$ and $\\beta$ are part of the equation."
   ]
  },
  {
   "cell_type": "code",
   "execution_count": 3,
   "metadata": {
    "execution": {
     "iopub.execute_input": "2021-05-18T10:56:38.637580Z",
     "iopub.status.busy": "2021-05-18T10:56:38.637307Z",
     "iopub.status.idle": "2021-05-18T10:56:38.644573Z",
     "shell.execute_reply": "2021-05-18T10:56:38.644325Z"
    }
   },
   "outputs": [],
   "source": [
    "alpha, beta = chaospy.variable(2)"
   ]
  },
  {
   "cell_type": "markdown",
   "metadata": {},
   "source": [
    "As above, these two variables are defined positional to correspond to both\n",
    "the distribution and polynomial.\n",
    "\n",
    "From the simplified equation above, it can be observed that the fraction of\n",
    "expected values doesn't depend on neither $c$ nor $t$, and can therefore be\n",
    "pre-computed."
   ]
  },
  {
   "cell_type": "markdown",
   "metadata": {},
   "source": [
    "For the denominator $\\mathbb E[\\beta\\Phi_n\\Phi_k]$, since there are both $\\Phi_k$\n",
    "and $\\Phi_n$ terms, the full expression can be defined as a two-dimensional\n",
    "tensor:"
   ]
  },
  {
   "cell_type": "code",
   "execution_count": 4,
   "metadata": {
    "execution": {
     "iopub.execute_input": "2021-05-18T10:56:38.646490Z",
     "iopub.status.busy": "2021-05-18T10:56:38.646231Z",
     "iopub.status.idle": "2021-05-18T10:56:38.658420Z",
     "shell.execute_reply": "2021-05-18T10:56:38.658142Z"
    }
   },
   "outputs": [
    {
     "data": {
      "text/plain": [
       "[(10,), (10, 10)]"
      ]
     },
     "execution_count": 1,
     "metadata": {},
     "output_type": "execute_result"
    }
   ],
   "source": [
    "phi_phi = chaospy.outer(\n",
    "    polynomial_expansion, polynomial_expansion)\n",
    "[polynomial_expansion.shape, phi_phi.shape]"
   ]
  },
  {
   "cell_type": "markdown",
   "metadata": {},
   "source": [
    "This allows us to calculate the full expression:"
   ]
  },
  {
   "cell_type": "code",
   "execution_count": 5,
   "metadata": {
    "execution": {
     "iopub.execute_input": "2021-05-18T10:56:38.660422Z",
     "iopub.status.busy": "2021-05-18T10:56:38.660161Z",
     "iopub.status.idle": "2021-05-18T10:56:38.835901Z",
     "shell.execute_reply": "2021-05-18T10:56:38.835661Z"
    }
   },
   "outputs": [
    {
     "data": {
      "text/plain": [
       "array([[1.50e-01, 8.33e-04, 0.00e+00],\n",
       "       [8.33e-04, 1.25e-04, 0.00e+00],\n",
       "       [0.00e+00, 0.00e+00, 6.00e-03]])"
      ]
     },
     "execution_count": 1,
     "metadata": {},
     "output_type": "execute_result"
    }
   ],
   "source": [
    "e_beta_phi_phi = chaospy.E(beta*phi_phi, joint)\n",
    "e_beta_phi_phi[:3, :3].round(6)"
   ]
  },
  {
   "cell_type": "markdown",
   "metadata": {},
   "source": [
    "For the numerator $\\mbox E(\\Phi_k\\Phi_k)$, it is worth noting that these are\n",
    "the square of the norms $\\|\\Phi_k\\|^2$. We could calculate them the same way,\n",
    "but choose not to. Calculating the norms is often numerically unstable, and\n",
    "it is better to retrieve them from three-terms-recursion process. In\n",
    "``chaospy`` this can be extracted during the creation of the orthogonal\n",
    "polynomials:"
   ]
  },
  {
   "cell_type": "code",
   "execution_count": 6,
   "metadata": {
    "execution": {
     "iopub.execute_input": "2021-05-18T10:56:38.837936Z",
     "iopub.status.busy": "2021-05-18T10:56:38.837677Z",
     "iopub.status.idle": "2021-05-18T10:56:38.880238Z",
     "shell.execute_reply": "2021-05-18T10:56:38.880452Z"
    }
   },
   "outputs": [
    {
     "data": {
      "text/plain": [
       "array([1.00e+00, 8.33e-04, 4.00e-02, 1.00e-06])"
      ]
     },
     "execution_count": 1,
     "metadata": {},
     "output_type": "execute_result"
    }
   ],
   "source": [
    "_, norms = chaospy.generate_expansion(3, joint, retall=True)\n",
    "norms[:4].round(6)"
   ]
  },
  {
   "cell_type": "markdown",
   "metadata": {},
   "source": [
    "Having all terms in place, we can create a function for the right-hand-side\n",
    "of the equation:"
   ]
  },
  {
   "cell_type": "code",
   "execution_count": 7,
   "metadata": {
    "execution": {
     "iopub.execute_input": "2021-05-18T10:56:38.882537Z",
     "iopub.status.busy": "2021-05-18T10:56:38.882272Z",
     "iopub.status.idle": "2021-05-18T10:56:38.889040Z",
     "shell.execute_reply": "2021-05-18T10:56:38.888753Z"
    }
   },
   "outputs": [],
   "source": [
    "import numpy\n",
    "\n",
    "def right_hand_side(c, t):\n",
    "    return -numpy.sum(c*e_beta_phi_phi, -1)/norms"
   ]
  },
  {
   "cell_type": "markdown",
   "metadata": {},
   "source": [
    "### Initial conditions\n",
    "\n",
    "The equation associated with the initial condition can be reformulated as\n",
    "follows:\n",
    "\n",
    "$$\n",
    "\\begin{align*}\n",
    "   \\left\\langle \\sum_{n=0}^N c_n(0)\\ \\Phi_n, \\Phi_k \\right\\rangle &=\n",
    "   \\left\\langle \\alpha, \\Phi_k \\right\\rangle \\\\\n",
    "   \\sum_{n=0}^N c_n(0) \\left\\langle \\Phi_n, \\Phi_k \\right\\rangle &=\n",
    "   \\left\\langle \\alpha, \\Phi_k \\right\\rangle \\\\\n",
    "   c_k(0) \\left\\langle \\Phi_k, \\Phi_k \\right\\rangle &=\n",
    "   \\left\\langle \\alpha, \\Phi_k \\right\\rangle \\\\\n",
    "   c_k(0) &=\n",
    "   \\frac{\n",
    "      \\left\\langle \\alpha, \\Phi_k \\right\\rangle\n",
    "   }{\n",
    "      \\left\\langle \\Phi_k, \\Phi_k \\right\\rangle\n",
    "   }\n",
    "\\end{align*}\n",
    "$$\n",
    "\n",
    "Or equivalently:\n",
    "\n",
    "$$\n",
    "   c_k(0) =\n",
    "   \\frac{\n",
    "      \\mbox E\\left( \\alpha\\ \\Phi_k \\right)\n",
    "   }{\n",
    "      \\mbox E\\left( \\Phi_k \\Phi_k \\right)\n",
    "   }\n",
    "$$\n",
    "\n",
    "Using the same logic as for the first equation we get:"
   ]
  },
  {
   "cell_type": "code",
   "execution_count": 8,
   "metadata": {
    "execution": {
     "iopub.execute_input": "2021-05-18T10:56:38.891057Z",
     "iopub.status.busy": "2021-05-18T10:56:38.890749Z",
     "iopub.status.idle": "2021-05-18T10:56:38.900930Z",
     "shell.execute_reply": "2021-05-18T10:56:38.901150Z"
    }
   },
   "outputs": [],
   "source": [
    "e_alpha_phi = chaospy.E(alpha*polynomial_expansion, joint)\n",
    "initial_condition = e_alpha_phi/norms"
   ]
  },
  {
   "cell_type": "markdown",
   "metadata": {},
   "source": [
    "### Equation solving\n",
    "\n",
    "With the right-hand-side for both the main set of equations and the initial\n",
    "conditions, it should be straight forward to solve the equations numerically.\n",
    "For example using `scipy.integrate.odeint`:"
   ]
  },
  {
   "cell_type": "code",
   "execution_count": 9,
   "metadata": {
    "execution": {
     "iopub.execute_input": "2021-05-18T10:56:38.903384Z",
     "iopub.status.busy": "2021-05-18T10:56:38.903124Z",
     "iopub.status.idle": "2021-05-18T10:56:38.911000Z",
     "shell.execute_reply": "2021-05-18T10:56:38.910740Z"
    }
   },
   "outputs": [
    {
     "data": {
      "text/plain": [
       "(1000, 10)"
      ]
     },
     "execution_count": 1,
     "metadata": {},
     "output_type": "execute_result"
    }
   ],
   "source": [
    "from scipy.integrate import odeint\n",
    "\n",
    "coordinates = numpy.linspace(0, 10, 1000)\n",
    "coefficients = odeint(func=right_hand_side,\n",
    "                      y0=initial_condition, t=coordinates)\n",
    "\n",
    "coefficients.shape"
   ]
  },
  {
   "cell_type": "markdown",
   "metadata": {},
   "source": [
    "These coefficients can then be used to construct the approximation for $u$\n",
    "using the assumption about the solutions form:"
   ]
  },
  {
   "cell_type": "code",
   "execution_count": 10,
   "metadata": {
    "execution": {
     "iopub.execute_input": "2021-05-18T10:56:38.913220Z",
     "iopub.status.busy": "2021-05-18T10:56:38.912894Z",
     "iopub.status.idle": "2021-05-18T10:56:38.936483Z",
     "shell.execute_reply": "2021-05-18T10:56:38.936234Z"
    }
   },
   "outputs": [
    {
     "data": {
      "text/plain": [
       "polynomial([q0, -0.01*q0*q1+q0, -0.02*q0*q1+q0, -0.03*q0*q1+q0])"
      ]
     },
     "execution_count": 1,
     "metadata": {},
     "output_type": "execute_result"
    }
   ],
   "source": [
    "u_approx = chaospy.sum(polynomial_expansion*coefficients, -1)\n",
    "u_approx[:4].round(2)"
   ]
  },
  {
   "cell_type": "markdown",
   "metadata": {},
   "source": [
    "Finally, this can be used to calculate statistical properties:"
   ]
  },
  {
   "cell_type": "code",
   "execution_count": 11,
   "metadata": {
    "execution": {
     "iopub.execute_input": "2021-05-18T10:56:38.938754Z",
     "iopub.status.busy": "2021-05-18T10:56:38.938439Z",
     "iopub.status.idle": "2021-05-18T10:56:38.953843Z",
     "shell.execute_reply": "2021-05-18T10:56:38.954059Z"
    }
   },
   "outputs": [
    {
     "data": {
      "text/plain": [
       "(array([1.5     , 1.49775 , 1.495503, 1.493259, 1.491019]),\n",
       " array([0.04    , 0.03988 , 0.039761, 0.039643, 0.039525]))"
      ]
     },
     "execution_count": 1,
     "metadata": {},
     "output_type": "execute_result"
    }
   ],
   "source": [
    "mean = chaospy.E(u_approx, joint)\n",
    "variance = chaospy.Var(u_approx, joint)\n",
    "\n",
    "mean[:5].round(6), variance[:5].round(6)"
   ]
  },
  {
   "cell_type": "code",
   "execution_count": 12,
   "metadata": {
    "execution": {
     "iopub.execute_input": "2021-05-18T10:56:38.956492Z",
     "iopub.status.busy": "2021-05-18T10:56:38.956225Z",
     "iopub.status.idle": "2021-05-18T10:56:39.024700Z",
     "shell.execute_reply": "2021-05-18T10:56:39.024917Z"
    }
   },
   "outputs": [
    {
     "data": {
      "image/png": "[encoded data removed]",
      "text/plain": [
       "<Figure size 432x288 with 1 Axes>"
      ]
     },
     "metadata": {
      "needs_background": "light"
     },
     "output_type": "display_data"
    }
   ],
   "source": [
    "from matplotlib import pyplot\n",
    "\n",
    "pyplot.rc(\"figure\", figsize=[6, 4])\n",
    "\n",
    "pyplot.xlabel(\"coordinates\")\n",
    "pyplot.ylabel(\"model approximation\")\n",
    "pyplot.axis([0, 10, 0, 2])\n",
    "sigma = numpy.sqrt(variance)\n",
    "pyplot.fill_between(coordinates, mean-sigma, mean+sigma, alpha=0.3)\n",
    "pyplot.plot(coordinates, mean)\n",
    "pyplot.show()"
   ]
  },
  {
   "cell_type": "markdown",
   "metadata": {},
   "source": [
    "Using the true mean and variance as reference, we can also calculate the mean\n",
    "absolute error:"
   ]
  },
  {
   "cell_type": "code",
   "execution_count": 13,
   "metadata": {
    "execution": {
     "iopub.execute_input": "2021-05-18T10:56:39.027149Z",
     "iopub.status.busy": "2021-05-18T10:56:39.026841Z",
     "iopub.status.idle": "2021-05-18T10:56:39.034361Z",
     "shell.execute_reply": "2021-05-18T10:56:39.034125Z"
    }
   },
   "outputs": [
    {
     "data": {
      "text/plain": [
       "(5.54252e-11, 1.6888e-08)"
      ]
     },
     "execution_count": 1,
     "metadata": {},
     "output_type": "execute_result"
    }
   ],
   "source": [
    "from problem_formulation import error_in_mean, error_in_variance\n",
    "\n",
    "error_in_mean(mean).round(16), error_in_variance(variance).round(12)"
   ]
  }
 ],
 "metadata": {
  "jupytext": {
   "formats": "ipynb,py:percent"
  },
  "kernelspec": {
   "display_name": "Python 3",
   "language": "python",
   "name": "python3"
  },
  "language_info": {
   "codemirror_mode": {
    "name": "ipython",
    "version": 3
   },
   "file_extension": ".py",
   "mimetype": "text/x-python",
   "name": "python",
   "nbconvert_exporter": "python",
   "pygments_lexer": "ipython3",
   "version": "3.9.5"
  }
 },
 "nbformat": 4,
 "nbformat_minor": 4
}
