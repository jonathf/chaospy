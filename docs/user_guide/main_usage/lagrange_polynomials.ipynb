{
 "cells": [
  {
   "cell_type": "markdown",
   "metadata": {},
   "source": [
    "## Lagrange Polynomials\n",
    "\n",
    "This tutorial uses the same example as the [problem formulation](./problem_formulation.ipynb).\n",
    "\n",
    "[Lagrange polynomials](https://en.wikipedia.org/wiki/Lagrange_polynomial) are not a method for creating orthogonal polynomials.\n",
    "Instead it is an interpolation method for creating an polynomial expansion that has the property that each polynomial interpolates exactly one point in space with the value 1 and has the value 0 for all other interpolation values.\n",
    "\n",
    "To summarize, we need to do the following:\n",
    "\n",
    "* Generate $Q_1, ..., Q_N = (\\alpha_1, \\beta_1), ..., (\\alpha_N, \\beta_N)$, using (pseudo-)random samples or otherwise.\n",
    "* Construct a Lagrange polynomial expansion $\\Phi_1, ..., \\Phi_M$ from the samples $Q_1, ..., Q_N$.\n",
    "* Evaluate model predictor $U_1, ..., U_N$ for each sample.\n",
    "* Analyze model approximation $u(t; \\alpha, \\beta) = \\sum_m U_m(t) \\Phi_n(\\alpha, \\beta)$ instead of actual model solver. "
   ]
  },
  {
   "cell_type": "markdown",
   "metadata": {},
   "source": [
    "### Evaluation samples\n",
    "\n",
    "In chaospy, creating low-discrepancy sequences can be done using the `distribution.sample` method.\n",
    "Creating quadrature points can be done using `chaospy.generate_quadrature`.\n",
    "For example:"
   ]
  },
  {
   "cell_type": "code",
   "execution_count": 1,
   "metadata": {
    "execution": {
     "iopub.execute_input": "2021-05-18T10:57:03.285670Z",
     "iopub.status.busy": "2021-05-18T10:57:03.285301Z",
     "iopub.status.idle": "2021-05-18T10:57:05.210102Z",
     "shell.execute_reply": "2021-05-18T10:57:05.209761Z"
    }
   },
   "outputs": [],
   "source": [
    "from problem_formulation import joint\n",
    "\n",
    "samples = joint.sample(5, rule=\"halton\")"
   ]
  },
  {
   "cell_type": "code",
   "execution_count": 2,
   "metadata": {
    "execution": {
     "iopub.execute_input": "2021-05-18T10:57:05.212399Z",
     "iopub.status.busy": "2021-05-18T10:57:05.212130Z",
     "iopub.status.idle": "2021-05-18T10:57:05.377266Z",
     "shell.execute_reply": "2021-05-18T10:57:05.377525Z"
    }
   },
   "outputs": [
    {
     "data": {
      "image/png": "[encoded data removed]",
      "text/plain": [
       "<Figure size 432x288 with 1 Axes>"
      ]
     },
     "metadata": {
      "needs_background": "light"
     },
     "output_type": "display_data"
    }
   ],
   "source": [
    "from matplotlib import pyplot\n",
    "\n",
    "pyplot.scatter(*samples)\n",
    "    \n",
    "pyplot.rc(\"figure\", figsize=[6, 4])\n",
    "pyplot.xlabel(\"Parameter $I$ (normal)\")\n",
    "pyplot.ylabel(\"Parameter $a$ (uniform)\")\n",
    "pyplot.axis([1, 2, 0.1, 0.2])\n",
    "\n",
    "pyplot.show()"
   ]
  },
  {
   "cell_type": "markdown",
   "metadata": {},
   "source": [
    "### Lagrange basis\n",
    "\n",
    "Creating an expansion of Lagrange polynomial terms can be done using the following constructor:"
   ]
  },
  {
   "cell_type": "code",
   "execution_count": 3,
   "metadata": {
    "execution": {
     "iopub.execute_input": "2021-05-18T10:57:05.379804Z",
     "iopub.status.busy": "2021-05-18T10:57:05.379487Z",
     "iopub.status.idle": "2021-05-18T10:57:05.393605Z",
     "shell.execute_reply": "2021-05-18T10:57:05.393273Z"
    }
   },
   "outputs": [
    {
     "data": {
      "text/plain": [
       "polynomial(-694.24*q1**2+28.97*q0*q1+170.1*q1-6.65*q0-5.96)"
      ]
     },
     "execution_count": 1,
     "metadata": {},
     "output_type": "execute_result"
    }
   ],
   "source": [
    "import chaospy\n",
    "\n",
    "polynomial_expansion = chaospy.expansion.lagrange(samples)\n",
    "polynomial_expansion[0].round(2)"
   ]
  },
  {
   "cell_type": "markdown",
   "metadata": {},
   "source": [
    "On can verify that the returned polynomials follows the property of evaluating 0 for all but one of the samples used in the construction as follows:"
   ]
  },
  {
   "cell_type": "code",
   "execution_count": 4,
   "metadata": {
    "execution": {
     "iopub.execute_input": "2021-05-18T10:57:05.395549Z",
     "iopub.status.busy": "2021-05-18T10:57:05.395232Z",
     "iopub.status.idle": "2021-05-18T10:57:05.404406Z",
     "shell.execute_reply": "2021-05-18T10:57:05.404070Z"
    }
   },
   "outputs": [
    {
     "data": {
      "text/plain": [
       "array([[ 1., -0., -0., -0., -0.],\n",
       "       [ 0.,  1.,  0.,  0.,  0.],\n",
       "       [ 0.,  0.,  1.,  0.,  0.],\n",
       "       [-0., -0., -0.,  1.,  0.],\n",
       "       [-0., -0., -0., -0.,  1.]])"
      ]
     },
     "execution_count": 1,
     "metadata": {},
     "output_type": "execute_result"
    }
   ],
   "source": [
    "polynomial_expansion(*samples).round(8)"
   ]
  },
  {
   "cell_type": "markdown",
   "metadata": {},
   "source": [
    "### Model approximation\n",
    "\n",
    "Fitting the polynomials to the evaluations does not need to involve regression.\n",
    "Instead it is enough to just multiply the Lagrange polynomial expansion with the evaluations, and sum it up:"
   ]
  },
  {
   "cell_type": "code",
   "execution_count": 5,
   "metadata": {
    "execution": {
     "iopub.execute_input": "2021-05-18T10:57:05.406783Z",
     "iopub.status.busy": "2021-05-18T10:57:05.406469Z",
     "iopub.status.idle": "2021-05-18T10:57:05.419236Z",
     "shell.execute_reply": "2021-05-18T10:57:05.418903Z"
    }
   },
   "outputs": [
    {
     "data": {
      "text/plain": [
       "(1000,)"
      ]
     },
     "execution_count": 1,
     "metadata": {},
     "output_type": "execute_result"
    }
   ],
   "source": [
    "from problem_formulation import model_solver\n",
    "\n",
    "model_evaluations = numpy.array([\n",
    "    model_solver(sample) for sample in samples.T])\n",
    "model_approximation = chaospy.sum(\n",
    "    model_evaluations.T*polynomial_expansion, axis=-1).T\n",
    "\n",
    "model_approximation.shape"
   ]
  },
  {
   "cell_type": "markdown",
   "metadata": {},
   "source": [
    "### Assess statistics\n",
    "\n",
    "The results is close to what we are used to from the other methods:"
   ]
  },
  {
   "cell_type": "code",
   "execution_count": 6,
   "metadata": {
    "execution": {
     "iopub.execute_input": "2021-05-18T10:57:05.421134Z",
     "iopub.status.busy": "2021-05-18T10:57:05.420871Z",
     "iopub.status.idle": "2021-05-18T10:57:05.488642Z",
     "shell.execute_reply": "2021-05-18T10:57:05.488340Z"
    }
   },
   "outputs": [],
   "source": [
    "expected = chaospy.E(model_approximation, joint)\n",
    "variance = chaospy.Var(model_approximation, joint)"
   ]
  },
  {
   "cell_type": "code",
   "execution_count": 7,
   "metadata": {
    "execution": {
     "iopub.execute_input": "2021-05-18T10:57:05.491006Z",
     "iopub.status.busy": "2021-05-18T10:57:05.490691Z",
     "iopub.status.idle": "2021-05-18T10:57:05.557041Z",
     "shell.execute_reply": "2021-05-18T10:57:05.556754Z"
    },
    "scrolled": true
   },
   "outputs": [
    {
     "data": {
      "image/png": "[encoded data removed]",
      "text/plain": [
       "<Figure size 432x288 with 1 Axes>"
      ]
     },
     "metadata": {
      "needs_background": "light"
     },
     "output_type": "display_data"
    }
   ],
   "source": [
    "from problem_formulation import coordinates\n",
    "\n",
    "pyplot.fill_between(coordinates, expected-variance**0.5,\n",
    "                    expected+variance**0.5, alpha=0.3)\n",
    "pyplot.plot(coordinates, expected)\n",
    "\n",
    "pyplot.axis([0, 10, 0, 2])\n",
    "pyplot.xlabel(\"coordinates $t$\")\n",
    "pyplot.ylabel(\"Model evaluations $u$\")\n",
    "\n",
    "pyplot.show()"
   ]
  },
  {
   "cell_type": "markdown",
   "metadata": {},
   "source": [
    "### Avoiding matrix inversion issues\n",
    "\n",
    "It is worth noting that the construction of Lagrange polynomials are not always numerically stable.\n",
    "For example when using grids along , most often the expansion construction fails:"
   ]
  },
  {
   "cell_type": "code",
   "execution_count": 8,
   "metadata": {
    "execution": {
     "iopub.execute_input": "2021-05-18T10:57:05.559212Z",
     "iopub.status.busy": "2021-05-18T10:57:05.558951Z",
     "iopub.status.idle": "2021-05-18T10:57:05.567715Z",
     "shell.execute_reply": "2021-05-18T10:57:05.567970Z"
    }
   },
   "outputs": [
    {
     "data": {
      "text/plain": [
       "'Lagrange abscissas resulted in invertible matrix'"
      ]
     },
     "execution_count": 1,
     "metadata": {},
     "output_type": "execute_result"
    }
   ],
   "source": [
    "nodes, _ = chaospy.generate_quadrature(1, joint)\n",
    "\n",
    "try:\n",
    "    chaospy.expansion.lagrange(nodes)\n",
    "except numpy.linalg.LinAlgError as err:\n",
    "    error = err.args[0]\n",
    "error"
   ]
  },
  {
   "cell_type": "markdown",
   "metadata": {},
   "source": [
    "It is impossible to avoid the issue entirely, but in the case of structured grid, it is often possible to get around the problem.\n",
    "To do so, the following steps can be taken:\n",
    "\n",
    "* Create multiple Lagrange polynomials, one for each marginal distribution.\n",
    "* Rotate dimensions so each expansion get a dimension corresponding to the marginal it was created for.\n",
    "* Use an outer product of the expansions to combine them into a single expansion.\n",
    "\n",
    "So we begin with making marginal Lagrange polynomials:"
   ]
  },
  {
   "cell_type": "code",
   "execution_count": 9,
   "metadata": {
    "execution": {
     "iopub.execute_input": "2021-05-18T10:57:05.570362Z",
     "iopub.status.busy": "2021-05-18T10:57:05.570043Z",
     "iopub.status.idle": "2021-05-18T10:57:05.588691Z",
     "shell.execute_reply": "2021-05-18T10:57:05.588360Z"
    }
   },
   "outputs": [
    {
     "data": {
      "text/plain": [
       "[polynomial([-0.3041*q0+0.9562, 0.3041*q0+0.0438]),\n",
       " polynomial([-10.0*q0+2.0, 10.0*q0-1.0])]"
      ]
     },
     "execution_count": 1,
     "metadata": {},
     "output_type": "execute_result"
    }
   ],
   "source": [
    "nodes, _ = list(zip(*[chaospy.generate_quadrature(1, marginal)\n",
    "                      for marginal in joint]))\n",
    "expansions = [chaospy.expansion.lagrange(nodes_)\n",
    "              for nodes_ in nodes]\n",
    "\n",
    "[expansion_.round(4) for expansion_ in expansions]"
   ]
  },
  {
   "cell_type": "markdown",
   "metadata": {},
   "source": [
    "Then we rotate the dimensions:"
   ]
  },
  {
   "cell_type": "code",
   "execution_count": 10,
   "metadata": {
    "execution": {
     "iopub.execute_input": "2021-05-18T10:57:05.591056Z",
     "iopub.status.busy": "2021-05-18T10:57:05.590739Z",
     "iopub.status.idle": "2021-05-18T10:57:05.631756Z",
     "shell.execute_reply": "2021-05-18T10:57:05.631417Z"
    }
   },
   "outputs": [
    {
     "data": {
      "text/plain": [
       "[polynomial([-0.3041*q0+0.9562, 0.3041*q0+0.0438]),\n",
       " polynomial([-10.0*q1+2.0, 10.0*q1-1.0])]"
      ]
     },
     "execution_count": 1,
     "metadata": {},
     "output_type": "execute_result"
    }
   ],
   "source": [
    "vars_ = chaospy.variable(len(joint))\n",
    "expansions = [\n",
    "    expans(q0=var)\n",
    "    for expans, var in zip(expansions, vars_)]\n",
    "\n",
    "[expans.round(4) for expans in expansions]"
   ]
  },
  {
   "cell_type": "markdown",
   "metadata": {},
   "source": [
    "And finally construct the final expansion using an outer product:"
   ]
  },
  {
   "cell_type": "code",
   "execution_count": 11,
   "metadata": {
    "execution": {
     "iopub.execute_input": "2021-05-18T10:57:05.633900Z",
     "iopub.status.busy": "2021-05-18T10:57:05.633578Z",
     "iopub.status.idle": "2021-05-18T10:57:05.648001Z",
     "shell.execute_reply": "2021-05-18T10:57:05.647708Z"
    }
   },
   "outputs": [
    {
     "data": {
      "text/plain": [
       "polynomial([3.04*q0*q1-9.56*q1-0.61*q0+1.91,\n",
       "            -3.04*q0*q1+9.56*q1+0.3*q0-0.96,\n",
       "            -3.04*q0*q1-0.44*q1+0.61*q0+0.09,\n",
       "            3.04*q0*q1+0.44*q1-0.3*q0-0.04])"
      ]
     },
     "execution_count": 1,
     "metadata": {},
     "output_type": "execute_result"
    }
   ],
   "source": [
    "expansion = chaospy.outer(*expansions).flatten()\n",
    "expansion.round(2)"
   ]
  },
  {
   "cell_type": "markdown",
   "metadata": {},
   "source": [
    "The end results can be verified to have the properties we are looking for:"
   ]
  },
  {
   "cell_type": "code",
   "execution_count": 12,
   "metadata": {
    "execution": {
     "iopub.execute_input": "2021-05-18T10:57:05.650395Z",
     "iopub.status.busy": "2021-05-18T10:57:05.650028Z",
     "iopub.status.idle": "2021-05-18T10:57:05.660996Z",
     "shell.execute_reply": "2021-05-18T10:57:05.660655Z"
    },
    "scrolled": true
   },
   "outputs": [
    {
     "data": {
      "text/plain": [
       "array([[ 1., -0., -0., -0.],\n",
       "       [ 0.,  1.,  0.,  0.],\n",
       "       [ 0.,  0.,  1.,  0.],\n",
       "       [ 0.,  0.,  0.,  1.]])"
      ]
     },
     "execution_count": 1,
     "metadata": {},
     "output_type": "execute_result"
    }
   ],
   "source": [
    "nodes, _ = chaospy.generate_quadrature(1, joint)\n",
    "expansion(*nodes).round(8)"
   ]
  }
 ],
 "metadata": {
  "jupytext": {
   "formats": "ipynb,py:percent"
  },
  "kernelspec": {
   "display_name": "Python 3",
   "language": "python",
   "name": "python3"
  },
  "language_info": {
   "codemirror_mode": {
    "name": "ipython",
    "version": 3
   },
   "file_extension": ".py",
   "mimetype": "text/x-python",
   "name": "python",
   "nbconvert_exporter": "python",
   "pygments_lexer": "ipython3",
   "version": "3.9.5"
  }
 },
 "nbformat": 4,
 "nbformat_minor": 4
}
