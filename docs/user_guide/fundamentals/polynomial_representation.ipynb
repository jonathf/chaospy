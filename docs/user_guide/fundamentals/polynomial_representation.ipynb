{
 "cells": [
  {
   "cell_type": "markdown",
   "metadata": {},
   "source": [
    "## Polynomial representation\n",
    "\n",
    "In [numpy](https://numpy.org/doc/stable) the concept of *array* is\n",
    "generalized to imply arrays of arbitrary dimension, overlapping with the\n",
    "concept of *scalars*, *matrices* and *tensors*. To allow arrays of\n",
    "various dimensions to operate together it defines unambiguous\n",
    "broadcasting rules for what to expect. The results is a library that is\n",
    "used as the reference for almost all of the numerical Python community.\n",
    "\n",
    "In mathematical literature the term *polynomial expansions* is used to\n",
    "denote a collection of polynomials. Though they strictly do not need to,\n",
    "they are often indexed, giving each polynomial both a label and a\n",
    "position for where to locate a polynomial relative to the others.\n",
    "Assuming that there always is an index, one could say that *polynomial\n",
    "expansions* could just as well be termed *polynomial array*. And using\n",
    "the rules defined in [numpy](https://numpy.org/doc/stable), there no\n",
    "reason not to also start talking about *multi-dimensional polynomial\n",
    "arrays*.\n",
    "\n",
    "The main idea here is that in the same way as\n",
    "`numpy.ndarray` are composed of scalars,\n",
    "[chaospy.ndpoly](../../reference/api/chaospy.ndpoly.rst) \\-- the baseclass for\n",
    "the polynomial arrays \\-- are composed of simpler polynomials. This\n",
    "gives us a mental model of a polynomial that looks like this:\n",
    "\n",
    "$$\\Phi(q_1, \\dots, q_D) =\n",
    "    [\\Phi_1(q_1, \\dots, q_D), \\cdots, \\Phi_N(q_1, \\dots, q_D)]$$\n",
    "\n",
    "where $\\Phi$ is polynomial vector, $N$ is the number of terms in the\n",
    "polynomial sum, and $q_d$ is the $d$-th indeterminant name. This mental\n",
    "model is shown in practice in how chaospy represents its polynomials:"
   ]
  },
  {
   "cell_type": "code",
   "execution_count": 1,
   "metadata": {},
   "outputs": [
    {
     "data": {
      "text/plain": [
       "polynomial(3*q1+4*q0-1)"
      ]
     },
     "execution_count": 1,
     "metadata": {},
     "output_type": "execute_result"
    }
   ],
   "source": [
    "q0, q1 = chaospy.variable(2)\n",
    "poly = chaospy.polynomial(4*q0+3*q1-1)\n",
    "poly"
   ]
  },
  {
   "cell_type": "markdown",
   "metadata": {},
   "source": [
    "Here [chaospy.variable()](../../reference/api/chaospy.variable.rst) creates to simple\n",
    "indeterminants, and the [chaospy.polynomial()](../../reference/api/chaospy.polynomial.rst) constructor joins an array of polynomials into a polynomial\n",
    "array, much like `numpy.array` does for\n",
    "numbers in [numpy](https://numpy.org/doc/stable).\n",
    "\n",
    "Another way to look at the polynomials is to keep the polynomial array\n",
    "as a single polynomial sum: A multivariate polynomial can in the case of\n",
    "`chaospy` be defined as:\n",
    "\n",
    "$$\\Phi(q_1, \\dots, q_D) = \\sum_{n=1}^N c_n q_1^{k_{1n}} \\cdots q_D^{k_{Dn}}$$\n",
    "\n",
    "where $c_n$ is a multi-dimensional polynomial coefficients, and $k_{nd}$\n",
    "is the exponent for the $n$-th polynomial term and the $d$-th\n",
    "indeterminant name.\n",
    "\n",
    "Neither of the two ways of representing a polynomial array is incorrect,\n",
    "and serves different purposes. The former works well for visualisation,\n",
    "while the latter form gives a better mental model of how `chaospy`\n",
    "handles its polynomial internally.\n",
    "\n",
    "Modelling polynomials by storing the coefficients as multi-dimensional\n",
    "arrays is deliberate. Assuming few $k_{nd}$ and large dimensional $c_n$,\n",
    "all numerical operations that are limited to the coefficients, can be\n",
    "done fast, as [numpy](https://numpy.org/doc/stable) can do the heavy\n",
    "lifting.\n",
    "\n",
    "This way of representing a polynomial also means that to uniquely\n",
    "defined a polynomial, we only need the three components:\n",
    "\n",
    "-   [chaospy.ndpoly.coefficients](../../reference/api/chaospy.ndpoly.coefficients.rst) \\--\n",
    "    the polynomial coefficients $c_n$ as multi-dimensional arrays.\n",
    "-   [chaospy.ndpoly.exponents](../../reference/api/chaospy.ndpoly.exponents.rst) \\-- the\n",
    "    exponents $k_{nd}$ as a 2-dimensional matrix.\n",
    "-   [chaospy.ndpoly.indeterminants](../../reference/api/chaospy.ndpoly.indeterminants.rst) \\--\n",
    "    the names of the variables, typically `q0`, `q1`, etc.\n",
    "\n",
    "We can access these three defining properties directly from any\n",
    "[chaospy.ndpoly](../../reference/api/chaospy.ndpoly.rst) polynomial. For\n",
    "example, for a simple polynomial:"
   ]
  },
  {
   "cell_type": "code",
   "execution_count": 2,
   "metadata": {},
   "outputs": [
    {
     "data": {
      "text/plain": [
       "[-1, 4, 3]"
      ]
     },
     "execution_count": 2,
     "metadata": {},
     "output_type": "execute_result"
    }
   ],
   "source": [
    "poly.coefficients"
   ]
  },
  {
   "cell_type": "code",
   "execution_count": 3,
   "metadata": {},
   "outputs": [
    {
     "data": {
      "text/plain": [
       "array([[0, 0],\n",
       "       [1, 0],\n",
       "       [0, 1]], dtype=uint32)"
      ]
     },
     "execution_count": 3,
     "metadata": {},
     "output_type": "execute_result"
    }
   ],
   "source": [
    "poly.exponents"
   ]
  },
  {
   "cell_type": "code",
   "execution_count": 4,
   "metadata": {},
   "outputs": [
    {
     "data": {
      "text/plain": [
       "polynomial([q0, q1])"
      ]
     },
     "execution_count": 4,
     "metadata": {},
     "output_type": "execute_result"
    }
   ],
   "source": [
    "poly.indeterminants"
   ]
  },
  {
   "cell_type": "markdown",
   "metadata": {},
   "source": [
    "Because these three properties uniquely define a polynomial array, they\n",
    "can also be used to reconstruct the original polynomial:"
   ]
  },
  {
   "cell_type": "code",
   "execution_count": 5,
   "metadata": {
    "scrolled": true
   },
   "outputs": [
    {
     "data": {
      "text/plain": [
       "polynomial([-1, 4*q0, 3*q1])"
      ]
     },
     "execution_count": 5,
     "metadata": {},
     "output_type": "execute_result"
    }
   ],
   "source": [
    "poly_ = poly.indeterminants**poly.exponents\n",
    "poly_ = poly.coefficients*chaospy.prod(poly_, axis=-1)\n",
    "poly_"
   ]
  },
  {
   "cell_type": "markdown",
   "metadata": {},
   "source": [
    "Here [chaospy.prod()](../../reference/api/chaospy.prod.rst) and\n",
    "[chaospy.sum()](../../reference/api/chaospy.sum.rst) is used analogous to their\n",
    "[numpy](https://numpy.org/doc/stable) counterparts\n",
    "`numpy.prod` and\n",
    "`numpy.sum` to multiply and add terms\n",
    "together over an axis.\n",
    "\n",
    "As mentioned the chosen representation works best with relatively few\n",
    "$k_{nd}$ and large $c_n$. for large number $k_{nd}$ and relatively small\n",
    "$c_n$ however, the advantage disappears. And even worse, in the case\n",
    "where polynomial terms $q_1^{k_{1n}} \\cdots\n",
    "q_D^{k_{Dn}}$ are sparsely represented, the `chaospy` representation is\n",
    "quite memory inefficient. So it is worth keeping in mind that the\n",
    "advantage of this implementation depends a little upon what kind of\n",
    "problems you are working on. It is not the tool for all problems."
   ]
  },
  {
   "cell_type": "markdown",
   "metadata": {},
   "source": [
    "### Polynomial expansions\n",
    "\n",
    "As illustrated above, simple polynomial can be created through variable constructor\n",
    "[chaospy.variable()](../../reference/api/chaospy.variable.rst).\n",
    "From these simpleton variables, any polynomials can be constructed using simple arithmetics and joining into expansions through [chaospy.polynomial()](../../reference/api/chaospy.polynomial.rst):"
   ]
  },
  {
   "cell_type": "code",
   "execution_count": 6,
   "metadata": {},
   "outputs": [
    {
     "data": {
      "text/plain": [
       "polynomial([1, q0, -q0*q1+1, q0**2*q1, -q1**2+q0])"
      ]
     },
     "execution_count": 6,
     "metadata": {},
     "output_type": "execute_result"
    }
   ],
   "source": [
    "chaospy.polynomial([1, q0, 1-q0*q1, q0**2*q1, q0-q1**2])"
   ]
  },
  {
   "cell_type": "markdown",
   "metadata": {},
   "source": [
    "In practice, having the ability to fine tune a polynomial exactly as one\n",
    "wants it can be useful, but it can also be cumbersome when dealing with\n",
    "larger arrays for application. To automate the construction of simple\n",
    "polynomials, there is the [chaospy.monomial()](../../reference/api/chaospy.monomial.rst) constructor. In its simplest forms it creates an array of\n",
    "simple monomials:"
   ]
  },
  {
   "cell_type": "code",
   "execution_count": 7,
   "metadata": {},
   "outputs": [
    {
     "data": {
      "text/plain": [
       "polynomial([1, q0, q0**2, q0**3, q0**4])"
      ]
     },
     "execution_count": 7,
     "metadata": {},
     "output_type": "execute_result"
    }
   ],
   "source": [
    "chaospy.monomial(5)"
   ]
  },
  {
   "cell_type": "markdown",
   "metadata": {},
   "source": [
    "It can be expanded to include number of dimensions and a lower bound for\n",
    "the polynomial order:"
   ]
  },
  {
   "cell_type": "code",
   "execution_count": 8,
   "metadata": {},
   "outputs": [
    {
     "data": {
      "text/plain": [
       "polynomial([q0**2, q0*q1, q1**2])"
      ]
     },
     "execution_count": 8,
     "metadata": {},
     "output_type": "execute_result"
    }
   ],
   "source": [
    "chaospy.monomial(start=2, stop=3, dimensions=2)"
   ]
  },
  {
   "cell_type": "markdown",
   "metadata": {},
   "source": [
    "Note that the polynomial is here truncated on total order, meaning that\n",
    "the sum of exponents is limited by the $L_1$-norm. If a full\n",
    "tensor-product of polynomials, or another norm is wanted in the\n",
    "truncation, this is also possible using the `cross_truncation` flag:"
   ]
  },
  {
   "cell_type": "code",
   "execution_count": 9,
   "metadata": {},
   "outputs": [
    {
     "data": {
      "text/plain": [
       "polynomial([q0**2, q0**2*q1, q1**2, q0*q1**2, q0**2*q1**2])"
      ]
     },
     "execution_count": 9,
     "metadata": {},
     "output_type": "execute_result"
    }
   ],
   "source": [
    "chaospy.monomial(2, 3, dimensions=2, cross_truncation=numpy.inf)"
   ]
  },
  {
   "cell_type": "code",
   "execution_count": 10,
   "metadata": {},
   "outputs": [
    {
     "data": {
      "text/plain": [
       "polynomial([q0**2, q0**3, q0*q1, q1**2, q1**3])"
      ]
     },
     "execution_count": 10,
     "metadata": {},
     "output_type": "execute_result"
    }
   ],
   "source": [
    "chaospy.monomial(2, 4, dimensions=2, cross_truncation=0.8)"
   ]
  },
  {
   "cell_type": "code",
   "execution_count": 11,
   "metadata": {},
   "outputs": [
    {
     "data": {
      "text/plain": [
       "polynomial([q0**2, q0**3, q1**2, q1**3])"
      ]
     },
     "execution_count": 11,
     "metadata": {},
     "output_type": "execute_result"
    }
   ],
   "source": [
    "chaospy.monomial(2, 4, dimensions=2, cross_truncation=0.0)"
   ]
  },
  {
   "cell_type": "markdown",
   "metadata": {},
   "source": [
    "Alternative to the [chaospy.monomial()](../../reference/api/chaospy.monomial.rst)\n",
    "function, it is also possible to achieve the same expansion using the\n",
    "exponents only. For example:"
   ]
  },
  {
   "cell_type": "code",
   "execution_count": 12,
   "metadata": {},
   "outputs": [
    {
     "data": {
      "text/plain": [
       "polynomial([1, q0, q0**2, q0**3, q0**4])"
      ]
     },
     "execution_count": 12,
     "metadata": {},
     "output_type": "execute_result"
    }
   ],
   "source": [
    "q0**numpy.arange(5)"
   ]
  },
  {
   "cell_type": "markdown",
   "metadata": {},
   "source": [
    "Or in the multivariate case:"
   ]
  },
  {
   "cell_type": "code",
   "execution_count": 13,
   "metadata": {},
   "outputs": [
    {
     "data": {
      "text/plain": [
       "polynomial([q0**2, q0**3, q1**2, q1**3])"
      ]
     },
     "execution_count": 13,
     "metadata": {},
     "output_type": "execute_result"
    }
   ],
   "source": [
    "expon = [[2, 0], [3, 0], [0, 2], [0, 3]]\n",
    "base = chaospy.polynomial([q0, q1])\n",
    "chaospy.prod(base**expon, axis=-1)"
   ]
  },
  {
   "cell_type": "markdown",
   "metadata": {},
   "source": [
    "To help construct these exponent, there is function\n",
    "[chaospy.glexindex()](../../reference/api/chaospy.glexindex.rst). It behave the same\n",
    "as [chaospy.monomial()](../../reference/api/chaospy.monomial.rst), but only creates\n",
    "the exponents. E.g.:"
   ]
  },
  {
   "cell_type": "code",
   "execution_count": 14,
   "metadata": {},
   "outputs": [
    {
     "data": {
      "text/plain": [
       "array([[0, 1, 2, 3, 4]])"
      ]
     },
     "execution_count": 14,
     "metadata": {},
     "output_type": "execute_result"
    }
   ],
   "source": [
    "chaospy.glexindex(0, 5, 1).T"
   ]
  },
  {
   "cell_type": "code",
   "execution_count": 15,
   "metadata": {},
   "outputs": [
    {
     "data": {
      "text/plain": [
       "array([[2, 2, 0, 1, 2],\n",
       "       [0, 1, 2, 2, 2]])"
      ]
     },
     "execution_count": 15,
     "metadata": {},
     "output_type": "execute_result"
    }
   ],
   "source": [
    "chaospy.glexindex(2, 3, 2, numpy.inf).T"
   ]
  },
  {
   "cell_type": "code",
   "execution_count": 16,
   "metadata": {},
   "outputs": [
    {
     "data": {
      "text/plain": [
       "array([[2, 3, 1, 0, 0],\n",
       "       [0, 0, 1, 2, 3]])"
      ]
     },
     "execution_count": 16,
     "metadata": {},
     "output_type": "execute_result"
    }
   ],
   "source": [
    "chaospy.glexindex(2, 4, 2, 0.8).T"
   ]
  },
  {
   "cell_type": "code",
   "execution_count": 17,
   "metadata": {},
   "outputs": [
    {
     "data": {
      "text/plain": [
       "array([[2, 3, 0, 0],\n",
       "       [0, 0, 2, 3]])"
      ]
     },
     "execution_count": 17,
     "metadata": {},
     "output_type": "execute_result"
    }
   ],
   "source": [
    "chaospy.glexindex(2, 4, 2, 0.0).T"
   ]
  },
  {
   "cell_type": "markdown",
   "metadata": {},
   "source": [
    "### Polynomial evaluation\n",
    "\n",
    "Polynomials are not polynomials if they can not be evaluated as such. In\n",
    "the case of `chaospy`, this can be done using object call. `chaospy`\n",
    "supports calls with both positional arguments and by name. In other\n",
    "words, one argument per variable:"
   ]
  },
  {
   "cell_type": "code",
   "execution_count": 18,
   "metadata": {},
   "outputs": [
    {
     "data": {
      "text/plain": [
       "polynomial([1, q0**2, q0*q1])"
      ]
     },
     "execution_count": 18,
     "metadata": {},
     "output_type": "execute_result"
    }
   ],
   "source": [
    "expansion = chaospy.polynomial([1, q0**2, q0*q1])\n",
    "expansion"
   ]
  },
  {
   "cell_type": "code",
   "execution_count": 19,
   "metadata": {},
   "outputs": [
    {
     "data": {
      "text/plain": [
       "array([1, 4, 2])"
      ]
     },
     "execution_count": 19,
     "metadata": {},
     "output_type": "execute_result"
    }
   ],
   "source": [
    "expansion(2, 1)"
   ]
  },
  {
   "cell_type": "code",
   "execution_count": 20,
   "metadata": {},
   "outputs": [
    {
     "data": {
      "text/plain": [
       "array([1, 4, 2])"
      ]
     },
     "execution_count": 20,
     "metadata": {},
     "output_type": "execute_result"
    }
   ],
   "source": [
    "expansion(q0=2, q1=1)"
   ]
  },
  {
   "cell_type": "markdown",
   "metadata": {},
   "source": [
    "Here the return value is a `numpy.ndarray`. However, it is also possible to get a polynomial in\n",
    "return, given a partial evaluations:"
   ]
  },
  {
   "cell_type": "code",
   "execution_count": 21,
   "metadata": {},
   "outputs": [
    {
     "data": {
      "text/plain": [
       "polynomial([1, 9, 3*q1])"
      ]
     },
     "execution_count": 21,
     "metadata": {},
     "output_type": "execute_result"
    }
   ],
   "source": [
    "expansion(3)"
   ]
  },
  {
   "cell_type": "code",
   "execution_count": 22,
   "metadata": {},
   "outputs": [
    {
     "data": {
      "text/plain": [
       "polynomial([1, 9, 3*q1])"
      ]
     },
     "execution_count": 22,
     "metadata": {},
     "output_type": "execute_result"
    }
   ],
   "source": [
    "expansion(q0=3)"
   ]
  },
  {
   "cell_type": "markdown",
   "metadata": {},
   "source": [
    "For positional evaluation, to allow for partial evaluations of variables\n",
    "beyond the first, it is possible to pass a `None` value to the\n",
    "polynomial to indicate that a variable is not to be touched in a partial\n",
    "evaluation. E.g.:"
   ]
  },
  {
   "cell_type": "code",
   "execution_count": 23,
   "metadata": {},
   "outputs": [
    {
     "data": {
      "text/plain": [
       "polynomial([1, q0**2, 2*q0])"
      ]
     },
     "execution_count": 23,
     "metadata": {},
     "output_type": "execute_result"
    }
   ],
   "source": [
    "expansion(None, 2)"
   ]
  },
  {
   "cell_type": "code",
   "execution_count": 24,
   "metadata": {},
   "outputs": [
    {
     "data": {
      "text/plain": [
       "polynomial([1, q0**2, 2*q0])"
      ]
     },
     "execution_count": 24,
     "metadata": {},
     "output_type": "execute_result"
    }
   ],
   "source": [
    "expansion(q1=2)"
   ]
  },
  {
   "cell_type": "markdown",
   "metadata": {},
   "source": [
    "Vectorized evaluations is also allowed. Just pass any\n",
    "`numpy.ndarray` compatible object.\n",
    "`chaospy` will expand the shape such that it ends up being\n",
    "`polynomial.shape+input.shape`. For example:"
   ]
  },
  {
   "cell_type": "code",
   "execution_count": 25,
   "metadata": {},
   "outputs": [
    {
     "data": {
      "text/plain": [
       "polynomial([[1, 1, 1, 1],\n",
       "            [q0**2, q0**2, q0**2, q0**2],\n",
       "            [0, q0, 2*q0, 3*q0]])"
      ]
     },
     "execution_count": 25,
     "metadata": {},
     "output_type": "execute_result"
    }
   ],
   "source": [
    "expansion(q1=range(4))"
   ]
  },
  {
   "cell_type": "markdown",
   "metadata": {},
   "source": [
    "It is also possible to mix both scalar and vector arguments, as long as\n",
    "they are broadcastable in [numpy](https://numpy.org/doc/stable) sense.\n",
    "For example:"
   ]
  },
  {
   "cell_type": "code",
   "execution_count": 26,
   "metadata": {},
   "outputs": [
    {
     "data": {
      "text/plain": [
       "array([[1, 1, 1],\n",
       "       [1, 1, 1],\n",
       "       [1, 2, 3]])"
      ]
     },
     "execution_count": 26,
     "metadata": {},
     "output_type": "execute_result"
    }
   ],
   "source": [
    "expansion(1, [1, 2, 3])"
   ]
  },
  {
   "cell_type": "code",
   "execution_count": 27,
   "metadata": {},
   "outputs": [
    {
     "data": {
      "text/plain": [
       "array([[1, 1, 1],\n",
       "       [1, 4, 9],\n",
       "       [1, 4, 9]])"
      ]
     },
     "execution_count": 27,
     "metadata": {},
     "output_type": "execute_result"
    }
   ],
   "source": [
    "expansion([1, 2, 3], [1, 2, 3])"
   ]
  },
  {
   "cell_type": "markdown",
   "metadata": {},
   "source": [
    "Passing arguments with an other datatype than the polynomial, results in\n",
    "the output using the common denomination:"
   ]
  },
  {
   "cell_type": "code",
   "execution_count": 28,
   "metadata": {},
   "outputs": [
    {
     "data": {
      "text/plain": [
       "polynomial([1.0, 0.25, 0.5*q1])"
      ]
     },
     "execution_count": 28,
     "metadata": {},
     "output_type": "execute_result"
    }
   ],
   "source": [
    "expansion(0.5)"
   ]
  },
  {
   "cell_type": "code",
   "execution_count": 29,
   "metadata": {},
   "outputs": [
    {
     "data": {
      "text/plain": [
       "polynomial([(1+0j), q0**2, 1j*q0])"
      ]
     },
     "execution_count": 29,
     "metadata": {},
     "output_type": "execute_result"
    }
   ],
   "source": [
    "expansion(q1=1j)"
   ]
  },
  {
   "cell_type": "markdown",
   "metadata": {},
   "source": [
    "Assuming the input you want to evaluate is a large matrix and you want\n",
    "an interface where the matrix is kept intact, you can use\n",
    "[chaospy.call()](../../reference/api/chaospy.call.rst). E.g.:"
   ]
  },
  {
   "cell_type": "code",
   "execution_count": 30,
   "metadata": {},
   "outputs": [
    {
     "data": {
      "text/plain": [
       "array([[ 0,  1,  2,  3,  4,  5],\n",
       "       [ 6,  7,  8,  9, 10, 11]])"
      ]
     },
     "execution_count": 30,
     "metadata": {},
     "output_type": "execute_result"
    }
   ],
   "source": [
    "array = numpy.arange(12).reshape(2, 6)\n",
    "array"
   ]
  },
  {
   "cell_type": "code",
   "execution_count": 31,
   "metadata": {},
   "outputs": [
    {
     "data": {
      "text/plain": [
       "array([[ 1,  1,  1,  1,  1,  1],\n",
       "       [ 0,  1,  4,  9, 16, 25],\n",
       "       [ 0,  7, 16, 27, 40, 55]])"
      ]
     },
     "execution_count": 31,
     "metadata": {},
     "output_type": "execute_result"
    }
   ],
   "source": [
    "chaospy.call(expansion, array)"
   ]
  },
  {
   "cell_type": "markdown",
   "metadata": {},
   "source": [
    "Lastly, it is also possible to pass other polynomials as arguments. This\n",
    "simplifies any form for variable substitution."
   ]
  },
  {
   "cell_type": "code",
   "execution_count": 32,
   "metadata": {},
   "outputs": [
    {
     "data": {
      "text/plain": [
       "polynomial([1, q0**2, q0*q1])"
      ]
     },
     "execution_count": 32,
     "metadata": {},
     "output_type": "execute_result"
    }
   ],
   "source": [
    "expansion"
   ]
  },
  {
   "cell_type": "code",
   "execution_count": 33,
   "metadata": {},
   "outputs": [
    {
     "data": {
      "text/plain": [
       "polynomial([1, q1**2, q0*q1])"
      ]
     },
     "execution_count": 33,
     "metadata": {},
     "output_type": "execute_result"
    }
   ],
   "source": [
    "expansion(q0=q1, q1=q0)"
   ]
  },
  {
   "cell_type": "code",
   "execution_count": 34,
   "metadata": {},
   "outputs": [
    {
     "data": {
      "text/plain": [
       "polynomial([1, q0**2, -q0*q1**3+q0])"
      ]
     },
     "execution_count": 34,
     "metadata": {},
     "output_type": "execute_result"
    }
   ],
   "source": [
    "expansion(None, 1-q1**3)"
   ]
  },
  {
   "cell_type": "markdown",
   "metadata": {},
   "source": [
    "### Numpy functions\n",
    "\n",
    "The `chaospy` concept of arrays is taken from\n",
    "[numpy](https://numpy.org/doc/stable). But it goes a bit deeper than\n",
    "just inspiration. The base class [chaospy.ndpoly](../../reference/api/chaospy.ndpoly.rst) is a direct subclass of `numpy.ndarray`:"
   ]
  },
  {
   "cell_type": "code",
   "execution_count": 35,
   "metadata": {},
   "outputs": [
    {
     "data": {
      "text/plain": [
       "True"
      ]
     },
     "execution_count": 35,
     "metadata": {},
     "output_type": "execute_result"
    }
   ],
   "source": [
    "issubclass(chaospy.ndpoly, numpy.ndarray)"
   ]
  },
  {
   "cell_type": "markdown",
   "metadata": {},
   "source": [
    "The intentions is to have a library that is fast with the respect of the\n",
    "number of coefficients, as it leverages\n",
    "[numpy](https://numpy.org/doc/stable)\\'s speed where possible.\n",
    "\n",
    "In addition `chaospy` is designed to be behave both as you would expect\n",
    "as a polynomial, but also, where possible, to behave as a\n",
    "[numpy](https://numpy.org/doc/stable) numerical array. In practice this\n",
    "means that `chaospy` provides a lot functions that also exists in\n",
    "[numpy](https://numpy.org/doc/stable), which does about the same thing.\n",
    "If one of these `chaospy` function is provided with a\n",
    "`numpy.ndarray` object, the returned\n",
    "values is the same as if provided to the\n",
    "[numpy](https://numpy.org/doc/stable) function with the same name. For\n",
    "example [chaospy.transpose()](../../reference/api/chaospy.transpose.rst):"
   ]
  },
  {
   "cell_type": "code",
   "execution_count": 36,
   "metadata": {},
   "outputs": [
    {
     "data": {
      "text/plain": [
       "polynomial([[1, 3],\n",
       "            [2, 4]])"
      ]
     },
     "execution_count": 36,
     "metadata": {},
     "output_type": "execute_result"
    }
   ],
   "source": [
    "num_array = numpy.array([[1, 2], [3, 4]])\n",
    "chaospy.transpose(num_array)"
   ]
  },
  {
   "cell_type": "markdown",
   "metadata": {},
   "source": [
    "And this works the other way around as well. If a polynomial is provided\n",
    "to the [numpy](https://numpy.org/doc/stable) function, it will behave\n",
    "the same way as if it was provided to the `chaospy` equivalent. So\n",
    "following the same example, we can use\n",
    "`numpy.transpose` to transpose\n",
    "[chaospy.ndpoly](../../reference/api/chaospy.ndpoly.rst) polynomials:"
   ]
  },
  {
   "cell_type": "code",
   "execution_count": 37,
   "metadata": {},
   "outputs": [
    {
     "data": {
      "text/plain": [
       "polynomial([[1, q1**2],\n",
       "            [q0-1, 4]])"
      ]
     },
     "execution_count": 37,
     "metadata": {},
     "output_type": "execute_result"
    }
   ],
   "source": [
    "poly_array = chaospy.polynomial([[1, q0-1], [q1**2, 4]])\n",
    "numpy.transpose(poly_array)"
   ]
  },
  {
   "cell_type": "markdown",
   "metadata": {},
   "source": [
    "Though the overlap in functionality between\n",
    "[numpy](https://numpy.org/doc/stable) and `chaospy` is large, there are\n",
    "still lots of functionality which is specific for each of them. The most\n",
    "obvious, in the case of `chaospy` features not found in\n",
    "[numpy](https://numpy.org/doc/stable) is the ability to evaluate the\n",
    "polynomials:"
   ]
  },
  {
   "cell_type": "code",
   "execution_count": 38,
   "metadata": {},
   "outputs": [
    {
     "data": {
      "text/plain": [
       "polynomial(q1**2-q0)"
      ]
     },
     "execution_count": 38,
     "metadata": {},
     "output_type": "execute_result"
    }
   ],
   "source": [
    "poly = q1**2-q0\n",
    "poly"
   ]
  },
  {
   "cell_type": "code",
   "execution_count": 39,
   "metadata": {},
   "outputs": [
    {
     "data": {
      "text/plain": [
       "12"
      ]
     },
     "execution_count": 39,
     "metadata": {},
     "output_type": "execute_result"
    }
   ],
   "source": [
    "poly(4, 4)"
   ]
  },
  {
   "cell_type": "code",
   "execution_count": 40,
   "metadata": {},
   "outputs": [
    {
     "data": {
      "text/plain": [
       "polynomial(q1**2-4)"
      ]
     },
     "execution_count": 40,
     "metadata": {},
     "output_type": "execute_result"
    }
   ],
   "source": [
    "poly(4)"
   ]
  },
  {
   "cell_type": "code",
   "execution_count": 41,
   "metadata": {},
   "outputs": [
    {
     "data": {
      "text/plain": [
       "polynomial([q1**2-1, q1**2-2, q1**2-3])"
      ]
     },
     "execution_count": 41,
     "metadata": {},
     "output_type": "execute_result"
    }
   ],
   "source": [
    "poly([1, 2, 3])"
   ]
  },
  {
   "cell_type": "markdown",
   "metadata": {},
   "source": [
    "### Function compatibility\n",
    "\n",
    "The numpy library comes with a large number of functions for\n",
    "manipulating `numpy.ndarray` objects.\n",
    "Many of these functions are supported `chaospy` as well.\n",
    "In addition [numpy](https://numpy.org/doc/stable)\n",
    "provides dispatching of its functions to subclasses. This\n",
    "means that functions in `chaospy` with the same name as a numpy\n",
    "counterpart, it will work the same irrespectively if the function used\n",
    "was from [numpy](https://numpy.org/doc/stable) or `chaospy`, as the\n",
    "former will pass any job to the latter.\n",
    "\n",
    "For example:"
   ]
  },
  {
   "cell_type": "code",
   "execution_count": 42,
   "metadata": {},
   "outputs": [
    {
     "data": {
      "text/plain": [
       "polynomial([q0*q1+q0**2+1])"
      ]
     },
     "execution_count": 42,
     "metadata": {},
     "output_type": "execute_result"
    }
   ],
   "source": [
    "chaospy.sum(expansion, keepdims=True)"
   ]
  },
  {
   "cell_type": "code",
   "execution_count": 43,
   "metadata": {},
   "outputs": [
    {
     "data": {
      "text/plain": [
       "polynomial([q0*q1+q0**2+1])"
      ]
     },
     "execution_count": 43,
     "metadata": {},
     "output_type": "execute_result"
    }
   ],
   "source": [
    "numpy.sum(expansion, keepdims=True)"
   ]
  },
  {
   "cell_type": "markdown",
   "metadata": {},
   "source": [
    "In addition, not everything is possible to support, and even within the\n",
    "list of supported functions, not all use cases can be covered. Bit if\n",
    "such an unsupported edge case is encountered, an\n",
    "[chaospy.FeatureNotSupported](../../reference/api/chaospy.FeatureNotSupported.rst) error\n",
    "should be raised, so it should be obvious when they happen.\n",
    "\n",
    "As a developer note, `chaospy` aims at being backwards compatible with\n",
    "[numpy](https://numpy.org/doc/stable) as far as possible when it comes\n",
    "to the functions it provides. This means that all functions below should\n",
    "as far as possible mirror the behavior their\n",
    "[numpy](https://numpy.org/doc/stable) counterparts, and for polynomial\n",
    "constant, they should be identical (except for the object type).\n",
    "Function that provides behavior not covered by\n",
    "[numpy](https://numpy.org/doc/stable) should be placed elsewhere."
   ]
  },
  {
   "cell_type": "markdown",
   "metadata": {},
   "source": [
    "### Comparison operators\n",
    "\n",
    "Because (real) numbers have a natural total ordering, mathematically\n",
    "speaking, doing comparisons and sorting is at least conceptually for the\n",
    "most part trivial. There are a few exceptions though. Take for example\n",
    "complex numbers, which does not have a total ordering, it then there are\n",
    "not always possible to assess if one number is large than the other. To\n",
    "get around this limitation, some choices has to be made. For example, in\n",
    "pure Python the choice to raise exception for all comparison of complex\n",
    "numbers:"
   ]
  },
  {
   "cell_type": "code",
   "execution_count": 44,
   "metadata": {},
   "outputs": [],
   "source": [
    "from pytest import raises\n",
    "\n",
    "with raises(TypeError):\n",
    "    1+3j > 3+1j"
   ]
  },
  {
   "cell_type": "markdown",
   "metadata": {},
   "source": [
    "In `numpy` a different choice were made. Comparisons of complex numbers\n",
    "are supported, but they limit the compare to the real part only,\n",
    "ignoring the imaginary part of the numbers. For example:"
   ]
  },
  {
   "cell_type": "code",
   "execution_count": 45,
   "metadata": {},
   "outputs": [
    {
     "data": {
      "text/plain": [
       "array([False, False,  True,  True])"
      ]
     },
     "execution_count": 45,
     "metadata": {},
     "output_type": "execute_result"
    }
   ],
   "source": [
    "arr = numpy.array([1+1j, 1+3j, 3+1j, 3+3j])\n",
    "arr > arr[::-1]"
   ]
  },
  {
   "cell_type": "markdown",
   "metadata": {},
   "source": [
    "Polynomials does not have a total ordering either, and imposing one\n",
    "requires many choices dealing with various edge cases. However, it is\n",
    "possible to impose a total order that is both internally consistent and\n",
    "which is backwards compatible with the behavior of `numpy.ndarray`. It\n",
    "requires some design choices, which are opinionated, and might not\n",
    "always align with everyone's taste.\n",
    "With this in mind, the ordering implemented in `chaospy` is defined as\n",
    "follows.\n",
    "\n",
    "Polynomials containing terms with the highest exponents are\n",
    "considered the largest:"
   ]
  },
  {
   "cell_type": "code",
   "execution_count": 46,
   "metadata": {},
   "outputs": [
    {
     "data": {
      "text/plain": [
       "True"
      ]
     },
     "execution_count": 46,
     "metadata": {},
     "output_type": "execute_result"
    }
   ],
   "source": [
    "q0 < q0**2 < q0**3"
   ]
  },
  {
   "cell_type": "markdown",
   "metadata": {},
   "source": [
    "If the largest polynomial exponent in one polynomial is larger than\n",
    "in another, leading coefficients are ignored:"
   ]
  },
  {
   "cell_type": "code",
   "execution_count": 47,
   "metadata": {},
   "outputs": [
    {
     "data": {
      "text/plain": [
       "True"
      ]
     },
     "execution_count": 47,
     "metadata": {},
     "output_type": "execute_result"
    }
   ],
   "source": [
    "4*q0 < 3*q0**2 < 2*q0**3"
   ]
  },
  {
   "cell_type": "markdown",
   "metadata": {},
   "source": [
    "In the multivariate case, the polynomial order is determined by the\n",
    "sum of the exponents across the indeterminants that are multiplied\n",
    "together:"
   ]
  },
  {
   "cell_type": "code",
   "execution_count": 48,
   "metadata": {},
   "outputs": [
    {
     "data": {
      "text/plain": [
       "True"
      ]
     },
     "execution_count": 48,
     "metadata": {},
     "output_type": "execute_result"
    }
   ],
   "source": [
    "q0**2*q1**2 < q0*q1**5 < q0**6*q1"
   ]
  },
  {
   "cell_type": "markdown",
   "metadata": {},
   "source": [
    "This implies that given a higher polynomial order, indeterminant names are ignored:"
   ]
  },
  {
   "cell_type": "code",
   "execution_count": 49,
   "metadata": {},
   "outputs": [
    {
     "data": {
      "text/plain": [
       "True"
      ]
     },
     "execution_count": 49,
     "metadata": {},
     "output_type": "execute_result"
    }
   ],
   "source": [
    "q0, q1, q2 = chaospy.variable(3)\n",
    "q0 < q2**2 < q1**3"
   ]
  },
  {
   "cell_type": "markdown",
   "metadata": {},
   "source": [
    "The same goes for any polynomial terms which are not leading:"
   ]
  },
  {
   "cell_type": "code",
   "execution_count": 50,
   "metadata": {},
   "outputs": [
    {
     "data": {
      "text/plain": [
       "True"
      ]
     },
     "execution_count": 50,
     "metadata": {},
     "output_type": "execute_result"
    }
   ],
   "source": [
    "4*q0 < q0**2+3*q0 < q0**3+2*q0"
   ]
  },
  {
   "cell_type": "markdown",
   "metadata": {},
   "source": [
    "Here leading means the term in the polynomial that is the largest,\n",
    "as defined by the rules here so far.\n",
    "                                                                   \n",
    "Polynomials of equal polynomial order are sorted reverse\n",
    "lexicographically:"
   ]
  },
  {
   "cell_type": "code",
   "execution_count": 51,
   "metadata": {},
   "outputs": [
    {
     "data": {
      "text/plain": [
       "True"
      ]
     },
     "execution_count": 51,
     "metadata": {},
     "output_type": "execute_result"
    }
   ],
   "source": [
    "q0 < q1 < q2"
   ]
  },
  {
   "cell_type": "markdown",
   "metadata": {},
   "source": [
    "As with polynomial order, coefficients and lower order terms are\n",
    "also ignored:"
   ]
  },
  {
   "cell_type": "code",
   "execution_count": 52,
   "metadata": {},
   "outputs": [
    {
     "data": {
      "text/plain": [
       "True"
      ]
     },
     "execution_count": 52,
     "metadata": {},
     "output_type": "execute_result"
    }
   ],
   "source": [
    "4*q0**3+4*q0 < 3*q1**3+3*q1 < 2*q2**3+2*q2"
   ]
  },
  {
   "cell_type": "markdown",
   "metadata": {},
   "source": [
    "Composite polynomials of the same order are sorted lexicographically\n",
    "by the dominant indeterminant name:"
   ]
  },
  {
   "cell_type": "code",
   "execution_count": 53,
   "metadata": {},
   "outputs": [
    {
     "data": {
      "text/plain": [
       "True"
      ]
     },
     "execution_count": 53,
     "metadata": {},
     "output_type": "execute_result"
    }
   ],
   "source": [
    "q0**3*q1 < q0**2*q1**2 < q0*q1**3"
   ]
  },
  {
   "cell_type": "markdown",
   "metadata": {},
   "source": [
    "If there are more than two indeterminants, the dominant order first\n",
    "addresses the first name (sorted lexicographically), then the\n",
    "second, and so on:"
   ]
  },
  {
   "cell_type": "code",
   "execution_count": 54,
   "metadata": {},
   "outputs": [
    {
     "data": {
      "text/plain": [
       "True"
      ]
     },
     "execution_count": 54,
     "metadata": {},
     "output_type": "execute_result"
    }
   ],
   "source": [
    "q0**2*q1**2*q2 < q0**2*q1*q2**2 < q0*q1**2*q2**2"
   ]
  },
  {
   "cell_type": "markdown",
   "metadata": {},
   "source": [
    "Polynomials that have the same leading polynomial exponents, are\n",
    "compared by the leading polynomial coefficient:"
   ]
  },
  {
   "cell_type": "code",
   "execution_count": 55,
   "metadata": {},
   "outputs": [
    {
     "data": {
      "text/plain": [
       "True"
      ]
     },
     "execution_count": 55,
     "metadata": {},
     "output_type": "execute_result"
    }
   ],
   "source": [
    "-4*q0 < -1*q0 < 2*q0"
   ]
  },
  {
   "cell_type": "markdown",
   "metadata": {},
   "source": [
    "This notion implies that constant polynomials behave in the same way\n",
    "as `numpy` arrays:"
   ]
  },
  {
   "cell_type": "code",
   "execution_count": 56,
   "metadata": {},
   "outputs": [
    {
     "data": {
      "text/plain": [
       "array([False,  True,  True])"
      ]
     },
     "execution_count": 56,
     "metadata": {},
     "output_type": "execute_result"
    }
   ],
   "source": [
    "chaospy.polynomial([2, 4, 6]) > 3"
   ]
  },
  {
   "cell_type": "markdown",
   "metadata": {},
   "source": [
    "Polynomials with the same leading polynomial and coefficient are\n",
    "compared on the next largest leading polynomial:"
   ]
  },
  {
   "cell_type": "code",
   "execution_count": 57,
   "metadata": {},
   "outputs": [
    {
     "data": {
      "text/plain": [
       "True"
      ]
     },
     "execution_count": 57,
     "metadata": {},
     "output_type": "execute_result"
    }
   ],
   "source": [
    "q0**2+1 < q0**2+2 < q0**2+3"
   ]
  },
  {
   "cell_type": "markdown",
   "metadata": {},
   "source": [
    "And if both the first two leading terms are the same, use the third\n",
    "and so on:"
   ]
  },
  {
   "cell_type": "code",
   "execution_count": 58,
   "metadata": {},
   "outputs": [
    {
     "data": {
      "text/plain": [
       "True"
      ]
     },
     "execution_count": 58,
     "metadata": {},
     "output_type": "execute_result"
    }
   ],
   "source": [
    "q0**2+q0+1 < q0**2+q0+2 < q0**2+q0+3"
   ]
  },
  {
   "cell_type": "markdown",
   "metadata": {},
   "source": [
    "Unlike for the leading polynomial term, missing terms are considered\n",
    "present as 0. E.g.:"
   ]
  },
  {
   "cell_type": "code",
   "execution_count": 59,
   "metadata": {},
   "outputs": [
    {
     "data": {
      "text/plain": [
       "True"
      ]
     },
     "execution_count": 59,
     "metadata": {},
     "output_type": "execute_result"
    }
   ],
   "source": [
    "q0**2-1 < q0**2 < q0**2+1"
   ]
  },
  {
   "cell_type": "markdown",
   "metadata": {},
   "source": [
    "These rules together allow for a total comparison for all polynomials.\n",
    "\n",
    "In `chaospy`, there are a few global options that can be passed to\n",
    "[chaospy.set_options()](../../reference/api/chaospy.set_options.rst) (or\n",
    "[chaospy.global_options()](../../reference/api/chaospy.global_options.rst)) to change this\n",
    "behavior. In particular:\n",
    "\n",
    "-  `sort_graded`\n",
    "\n",
    "    Impose that polynomials are sorted by grade, meaning the indices are\n",
    "    always sorted by the index sum. E.g. `q0**2*q1**2*q2**2` has an\n",
    "    exponent sum of 6, and will therefore be consider larger than both\n",
    "    `q0**3*q1*q2`, `q0*q1**3*q2` and `q0*q1*q2**3`. Defaults to true.\n",
    "\n",
    "-   `sort_reverse`\n",
    "\n",
    "    Impose that polynomials are sorted by reverses lexicographical\n",
    "    sorting, meaning that `q0*q1**3` is considered smaller than\n",
    "    `q0**3*q1`, instead of the opposite. Defaults to false."
   ]
  },
  {
   "cell_type": "markdown",
   "metadata": {},
   "source": [
    "### Polynomial division\n",
    "\n",
    "Numerical division can be split into two variants: floor division\n",
    "([chaospy.floor_divide()](../../reference/api/chaospy.floor_divide.rst)) and true\n",
    "division ([chaospy.true_divide()](../../reference/api/chaospy.true_divide.rst)):"
   ]
  },
  {
   "cell_type": "code",
   "execution_count": 60,
   "metadata": {},
   "outputs": [
    {
     "data": {
      "text/plain": [
       "3.5"
      ]
     },
     "execution_count": 60,
     "metadata": {},
     "output_type": "execute_result"
    }
   ],
   "source": [
    "dividend = 7\n",
    "divisor = 2\n",
    "quotient_true = numpy.true_divide(dividend, divisor)\n",
    "quotient_true"
   ]
  },
  {
   "cell_type": "code",
   "execution_count": 61,
   "metadata": {},
   "outputs": [
    {
     "data": {
      "text/plain": [
       "3"
      ]
     },
     "execution_count": 61,
     "metadata": {},
     "output_type": "execute_result"
    }
   ],
   "source": [
    "quotient_floor = numpy.floor_divide(dividend, divisor)\n",
    "quotient_floor"
   ]
  },
  {
   "cell_type": "markdown",
   "metadata": {},
   "source": [
    "The discrepancy between the two can be captured by a remainder\n",
    "([chaospy.remainder()](../../reference/api/chaospy.remainder.rst)), which allow us to\n",
    "more formally define them as follows:"
   ]
  },
  {
   "cell_type": "code",
   "execution_count": 62,
   "metadata": {},
   "outputs": [
    {
     "data": {
      "text/plain": [
       "1"
      ]
     },
     "execution_count": 62,
     "metadata": {},
     "output_type": "execute_result"
    }
   ],
   "source": [
    "remainder = numpy.remainder(dividend, divisor)\n",
    "remainder"
   ]
  },
  {
   "cell_type": "code",
   "execution_count": 63,
   "metadata": {},
   "outputs": [
    {
     "data": {
      "text/plain": [
       "True"
      ]
     },
     "execution_count": 63,
     "metadata": {},
     "output_type": "execute_result"
    }
   ],
   "source": [
    "dividend == quotient_floor*divisor+remainder"
   ]
  },
  {
   "cell_type": "code",
   "execution_count": 64,
   "metadata": {},
   "outputs": [
    {
     "data": {
      "text/plain": [
       "True"
      ]
     },
     "execution_count": 64,
     "metadata": {},
     "output_type": "execute_result"
    }
   ],
   "source": [
    "dividend == quotient_true*divisor"
   ]
  },
  {
   "cell_type": "markdown",
   "metadata": {},
   "source": [
    "In the case of polynomials, neither true nor floor division is supported\n",
    "like this. Instead it support its own kind of polynomial division\n",
    "[chaospy.poly_divide()](../../reference/api/chaospy.poly_divide.rst). Polynomial\n",
    "division falls back to behave like floor division for all constants, as\n",
    "it does not round values:"
   ]
  },
  {
   "cell_type": "code",
   "execution_count": 65,
   "metadata": {},
   "outputs": [
    {
     "data": {
      "text/plain": [
       "polynomial(q0+1.0)"
      ]
     },
     "execution_count": 65,
     "metadata": {},
     "output_type": "execute_result"
    }
   ],
   "source": [
    "dividend = q0**2+q1\n",
    "divisor = q0-1\n",
    "quotient = chaospy.poly_divide(dividend, divisor)\n",
    "quotient"
   ]
  },
  {
   "cell_type": "markdown",
   "metadata": {},
   "source": [
    "However, like floor division, it can still have remainders using\n",
    "[chaospy.poly_remainder()](../../reference/api/chaospy.poly_remainder.rst). For example:"
   ]
  },
  {
   "cell_type": "code",
   "execution_count": 66,
   "metadata": {},
   "outputs": [
    {
     "data": {
      "text/plain": [
       "polynomial(q1+1.0)"
      ]
     },
     "execution_count": 66,
     "metadata": {},
     "output_type": "execute_result"
    }
   ],
   "source": [
    "remainder = chaospy.poly_remainder(dividend, divisor)\n",
    "remainder"
   ]
  },
  {
   "cell_type": "code",
   "execution_count": 67,
   "metadata": {},
   "outputs": [
    {
     "data": {
      "text/plain": [
       "True"
      ]
     },
     "execution_count": 67,
     "metadata": {},
     "output_type": "execute_result"
    }
   ],
   "source": [
    "dividend == quotient*divisor+remainder"
   ]
  },
  {
   "cell_type": "markdown",
   "metadata": {},
   "source": [
    "In `numpy`, the \\\"Python syntactic sugar\\\" operators have the following\n",
    "behavior:\n",
    "\n",
    "-   `/` is used for true division\n",
    "    [chaospy.true_divide()](../../reference/api/chaospy.true_divide.rst).\n",
    "-   `//` is used for floor division\n",
    "    [chaospy.floor_divide()](../../reference/api/chaospy.floor_divide.rst).\n",
    "-   `%` is used for remainder [chaospy.remainder()](../../reference/api/chaospy.remainder.rst).\n",
    "-   `divmod` is used for floor division and remainder in combination to\n",
    "    save computational cost through [chaospy.divmod()](../../reference/api/chaospy.divmod.rst).\n",
    "\n",
    "In `chaospy`, which takes precedence if any of the values are of\n",
    "[chaospy.ndpoly](../../reference/api/chaospy.ndpoly.rst) objects, take the\n",
    "following behavior:\n",
    "\n",
    "-   `/` is used for polynomial division\n",
    "    [chaospy.poly_divide()](../../reference/api/chaospy.poly_divide.rst), which is not\n",
    "    compatible with [numpy](https://numpy.org/doc/stable).\n",
    "-   `//` is still used for floor division\n",
    "    [chaospy.floor_divide()](../../reference/api/chaospy.floor_divide.rst) which is\n",
    "    compatible with [numpy](https://numpy.org/doc/stable), and only\n",
    "    works if divisor is a constant.\n",
    "-   `%` is used for polynomial remainder\n",
    "    [chaospy.poly_remainder()](../../reference/api/chaospy.poly_remainder.rst), which is\n",
    "    not backwards compatible.\n",
    "-   `divmod` uses [chaospy.poly_divmod()](../../reference/api/chaospy.poly_divmod.rst)\n",
    "    which is used to save computation cost by doing\n",
    "    [chaospy.poly_divide()](../../reference/api/chaospy.poly_divide.rst) and\n",
    "    [chaospy.remainder()](../../reference/api/chaospy.remainder.rst) at the same time."
   ]
  }
 ],
 "metadata": {
  "jupytext": {
   "formats": "ipynb,py:percent"
  },
  "kernelspec": {
   "display_name": "Python 3",
   "language": "python",
   "name": "python3"
  },
  "language_info": {
   "codemirror_mode": {
    "name": "ipython",
    "version": 3
   },
   "file_extension": ".py",
   "mimetype": "text/x-python",
   "name": "python",
   "nbconvert_exporter": "python",
   "pygments_lexer": "ipython3",
   "version": "3.9.2"
  }
 },
 "nbformat": 4,
 "nbformat_minor": 4
}
