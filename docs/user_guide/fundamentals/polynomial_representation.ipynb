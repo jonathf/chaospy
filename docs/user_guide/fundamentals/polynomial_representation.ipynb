{
 "cells": [
  {
   "cell_type": "markdown",
   "metadata": {},
   "source": [
    "## Polynomial representation\n",
    "\n",
    "In [numpy](https://numpy.org/doc/stable) the concept of *array* is\n",
    "generalized to imply arrays of arbitrary dimension, overlapping with the\n",
    "concept of *scalars*, *matrices* and *tensors*. To allow arrays of\n",
    "various dimensions to operate together it defines unambiguous\n",
    "broadcasting rules for what to expect. The results is a library that is\n",
    "used as the reference for almost all of the numerical Python community.\n",
    "\n",
    "In mathematical literature the term *polynomial expansions* is used to\n",
    "denote a collection of polynomials. Though they strictly do not need to,\n",
    "they are often indexed, giving each polynomial both a label and a\n",
    "position for where to locate a polynomial relative to the others.\n",
    "Assuming that there always is an index, one could say that *polynomial\n",
    "expansions* could just as well be termed *polynomial array*. And using\n",
    "the rules defined in [numpy](https://numpy.org/doc/stable), there no\n",
    "reason not to also start talking about *multi-dimensional polynomial\n",
    "arrays*.\n",
    "\n",
    "The main idea here is that in the same way as\n",
    "`numpy.ndarray` are composed of scalars,\n",
    "[chaospy.ndpoly](../../api/chaospy.ndpoly.rst) \\-- the baseclass for\n",
    "the polynomial arrays \\-- are composed of simpler polynomials. This\n",
    "gives us a mental model of a polynomial that looks like this:\n",
    "\n",
    "$$\\Phi(q_1, \\dots, q_D) =\n",
    "    [\\Phi_1(q_1, \\dots, q_D), \\cdots, \\Phi_N(q_1, \\dots, q_D)]$$\n",
    "\n",
    "where $\\Phi$ is polynomial vector, $N$ is the number of terms in the\n",
    "polynomial sum, and $q_d$ is the $d$-th indeterminant name. This mental\n",
    "model is shown in practice in how chaospy represents its polynomials:"
   ]
  },
  {
   "cell_type": "code",
   "execution_count": 1,
   "metadata": {
    "execution": {
     "iopub.execute_input": "2021-05-18T10:56:22.712691Z",
     "iopub.status.busy": "2021-05-18T10:56:22.712362Z",
     "iopub.status.idle": "2021-05-18T10:56:22.743944Z",
     "shell.execute_reply": "2021-05-18T10:56:22.744186Z"
    }
   },
   "outputs": [
    {
     "data": {
      "text/plain": [
       "polynomial(3*q1+4*q0-1)"
      ]
     },
     "execution_count": 1,
     "metadata": {},
     "output_type": "execute_result"
    }
   ],
   "source": [
    "q0, q1 = chaospy.variable(2)\n",
    "poly = chaospy.polynomial(4*q0+3*q1-1)\n",
    "poly"
   ]
  },
  {
   "cell_type": "markdown",
   "metadata": {},
   "source": [
    "Here [chaospy.variable()](../../api/chaospy.variable.rst) creates to simple\n",
    "indeterminants, and the [chaospy.polynomial()](../../api/chaospy.polynomial.rst) constructor joins an array of polynomials into a polynomial\n",
    "array, much like `numpy.array` does for\n",
    "numbers in [numpy](https://numpy.org/doc/stable).\n",
    "\n",
    "Another way to look at the polynomials is to keep the polynomial array\n",
    "as a single polynomial sum: A multivariate polynomial can in the case of\n",
    "`chaospy` be defined as:\n",
    "\n",
    "$$\\Phi(q_1, \\dots, q_D) = \\sum_{n=1}^N c_n q_1^{k_{1n}} \\cdots q_D^{k_{Dn}}$$\n",
    "\n",
    "where $c_n$ is a multi-dimensional polynomial coefficients, and $k_{nd}$\n",
    "is the exponent for the $n$-th polynomial term and the $d$-th\n",
    "indeterminant name.\n",
    "\n",
    "Neither of the two ways of representing a polynomial array is incorrect,\n",
    "and serves different purposes. The former works well for visualization,\n",
    "while the latter form gives a better mental model of how `chaospy`\n",
    "handles its polynomial internally.\n",
    "\n",
    "Modeling polynomials by storing the coefficients as multi-dimensional\n",
    "arrays is deliberate. Assuming few $k_{nd}$ and large dimensional $c_n$,\n",
    "all numerical operations that are limited to the coefficients, can be\n",
    "done fast, as [numpy](https://numpy.org/doc/stable) can do the heavy\n",
    "lifting.\n",
    "\n",
    "This way of representing a polynomial also means that to uniquely\n",
    "defined a polynomial, we only need the three components:\n",
    "\n",
    "-   [chaospy.ndpoly.coefficients](../../api/chaospy.ndpoly.coefficients.rst) \\--\n",
    "    the polynomial coefficients $c_n$ as multi-dimensional arrays.\n",
    "-   [chaospy.ndpoly.exponents](../../api/chaospy.ndpoly.exponents.rst) \\-- the\n",
    "    exponents $k_{nd}$ as a 2-dimensional matrix.\n",
    "-   [chaospy.ndpoly.indeterminants](../../api/chaospy.ndpoly.indeterminants.rst) \\--\n",
    "    the names of the variables, typically `q0`, `q1`, etc.\n",
    "\n",
    "We can access these three defining properties directly from any\n",
    "[chaospy.ndpoly](../../api/chaospy.ndpoly.rst) polynomial. For\n",
    "example, for a simple polynomial:"
   ]
  },
  {
   "cell_type": "code",
   "execution_count": 2,
   "metadata": {
    "execution": {
     "iopub.execute_input": "2021-05-18T10:56:22.746778Z",
     "iopub.status.busy": "2021-05-18T10:56:22.746456Z",
     "iopub.status.idle": "2021-05-18T10:56:22.757832Z",
     "shell.execute_reply": "2021-05-18T10:56:22.757491Z"
    }
   },
   "outputs": [
    {
     "data": {
      "text/plain": [
       "[-1, 4, 3]"
      ]
     },
     "execution_count": 1,
     "metadata": {},
     "output_type": "execute_result"
    }
   ],
   "source": [
    "poly.coefficients"
   ]
  },
  {
   "cell_type": "code",
   "execution_count": 3,
   "metadata": {
    "execution": {
     "iopub.execute_input": "2021-05-18T10:56:22.759833Z",
     "iopub.status.busy": "2021-05-18T10:56:22.759585Z",
     "iopub.status.idle": "2021-05-18T10:56:22.766931Z",
     "shell.execute_reply": "2021-05-18T10:56:22.767184Z"
    }
   },
   "outputs": [
    {
     "data": {
      "text/plain": [
       "array([[0, 0],\n",
       "       [1, 0],\n",
       "       [0, 1]], dtype=uint32)"
      ]
     },
     "execution_count": 1,
     "metadata": {},
     "output_type": "execute_result"
    }
   ],
   "source": [
    "poly.exponents"
   ]
  },
  {
   "cell_type": "code",
   "execution_count": 4,
   "metadata": {
    "execution": {
     "iopub.execute_input": "2021-05-18T10:56:22.769315Z",
     "iopub.status.busy": "2021-05-18T10:56:22.769008Z",
     "iopub.status.idle": "2021-05-18T10:56:22.777860Z",
     "shell.execute_reply": "2021-05-18T10:56:22.777523Z"
    }
   },
   "outputs": [
    {
     "data": {
      "text/plain": [
       "polynomial([q0, q1])"
      ]
     },
     "execution_count": 1,
     "metadata": {},
     "output_type": "execute_result"
    }
   ],
   "source": [
    "poly.indeterminants"
   ]
  },
  {
   "cell_type": "markdown",
   "metadata": {},
   "source": [
    "Because these three properties uniquely define a polynomial array, they\n",
    "can also be used to reconstruct the original polynomial:"
   ]
  },
  {
   "cell_type": "code",
   "execution_count": 5,
   "metadata": {
    "execution": {
     "iopub.execute_input": "2021-05-18T10:56:22.780030Z",
     "iopub.status.busy": "2021-05-18T10:56:22.779726Z",
     "iopub.status.idle": "2021-05-18T10:56:22.805109Z",
     "shell.execute_reply": "2021-05-18T10:56:22.805427Z"
    },
    "scrolled": true
   },
   "outputs": [
    {
     "data": {
      "text/plain": [
       "polynomial([-1, 4*q0, 3*q1])"
      ]
     },
     "execution_count": 1,
     "metadata": {},
     "output_type": "execute_result"
    }
   ],
   "source": [
    "poly_ = poly.indeterminants**poly.exponents\n",
    "poly_ = poly.coefficients*chaospy.prod(poly_, axis=-1)\n",
    "poly_"
   ]
  },
  {
   "cell_type": "markdown",
   "metadata": {},
   "source": [
    "Here [chaospy.prod()](../../api/chaospy.prod.rst) and\n",
    "[chaospy.sum()](../../api/chaospy.sum.rst) is used analogous to their\n",
    "[numpy](https://numpy.org/doc/stable) counterparts\n",
    "`numpy.prod` and\n",
    "`numpy.sum` to multiply and add terms\n",
    "together over an axis.\n",
    "\n",
    "As mentioned the chosen representation works best with relatively few\n",
    "$k_{nd}$ and large $c_n$. For large number $k_{nd}$ and relatively small\n",
    "$c_n$ however, the advantage disappears. And even worse, in the case\n",
    "where polynomial terms $q_1^{k_{1n}} \\cdots\n",
    "q_D^{k_{Dn}}$ are sparsely represented, the `chaospy` representation is\n",
    "quite memory inefficient. So it is worth keeping in mind that the\n",
    "advantage of this implementation depends a little upon what kind of\n",
    "problems you are working on. It is not the tool for all problems."
   ]
  },
  {
   "cell_type": "markdown",
   "metadata": {},
   "source": [
    "### Polynomial expansions\n",
    "\n",
    "As illustrated above, simple polynomial can be created through variable constructor\n",
    "[chaospy.variable()](../../api/chaospy.variable.rst).\n",
    "From these simpleton variables, any polynomials can be constructed using simple arithmetic and joining into expansions through [chaospy.polynomial()](../../api/chaospy.polynomial.rst):"
   ]
  },
  {
   "cell_type": "code",
   "execution_count": 6,
   "metadata": {
    "execution": {
     "iopub.execute_input": "2021-05-18T10:56:22.807596Z",
     "iopub.status.busy": "2021-05-18T10:56:22.807291Z",
     "iopub.status.idle": "2021-05-18T10:56:22.827884Z",
     "shell.execute_reply": "2021-05-18T10:56:22.828236Z"
    }
   },
   "outputs": [
    {
     "data": {
      "text/plain": [
       "polynomial([1, q0, -q0*q1+1, q0**2*q1, -q1**2+q0])"
      ]
     },
     "execution_count": 1,
     "metadata": {},
     "output_type": "execute_result"
    }
   ],
   "source": [
    "chaospy.polynomial([1, q0, 1-q0*q1, q0**2*q1, q0-q1**2])"
   ]
  },
  {
   "cell_type": "markdown",
   "metadata": {},
   "source": [
    "In practice, having the ability to fine tune a polynomial exactly as one\n",
    "wants it can be useful, but it can also be cumbersome when dealing with\n",
    "larger arrays for application. To automate the construction of simple\n",
    "polynomials, there is the [chaospy.monomial()](../../api/chaospy.monomial.rst) constructor. In its simplest forms it creates an array of\n",
    "simple monomials:"
   ]
  },
  {
   "cell_type": "code",
   "execution_count": 7,
   "metadata": {
    "execution": {
     "iopub.execute_input": "2021-05-18T10:56:22.831348Z",
     "iopub.status.busy": "2021-05-18T10:56:22.830809Z",
     "iopub.status.idle": "2021-05-18T10:56:22.842272Z",
     "shell.execute_reply": "2021-05-18T10:56:22.841767Z"
    }
   },
   "outputs": [
    {
     "data": {
      "text/plain": [
       "polynomial([1, q0, q0**2, q0**3, q0**4])"
      ]
     },
     "execution_count": 1,
     "metadata": {},
     "output_type": "execute_result"
    }
   ],
   "source": [
    "chaospy.monomial(5)"
   ]
  },
  {
   "cell_type": "markdown",
   "metadata": {},
   "source": [
    "It can be expanded to include number of dimensions and a lower bound for\n",
    "the polynomial order:"
   ]
  },
  {
   "cell_type": "code",
   "execution_count": 8,
   "metadata": {
    "execution": {
     "iopub.execute_input": "2021-05-18T10:56:22.845624Z",
     "iopub.status.busy": "2021-05-18T10:56:22.845057Z",
     "iopub.status.idle": "2021-05-18T10:56:22.856150Z",
     "shell.execute_reply": "2021-05-18T10:56:22.855800Z"
    }
   },
   "outputs": [
    {
     "data": {
      "text/plain": [
       "polynomial([q0**2, q0*q1, q1**2])"
      ]
     },
     "execution_count": 1,
     "metadata": {},
     "output_type": "execute_result"
    }
   ],
   "source": [
    "chaospy.monomial(start=2, stop=3, dimensions=2)"
   ]
  },
  {
   "cell_type": "markdown",
   "metadata": {},
   "source": [
    "Note that the polynomial is here truncated on total order, meaning that\n",
    "the sum of exponents is limited by the $L_1$-norm. If a full\n",
    "tensor-product of polynomials, or another norm is wanted in the\n",
    "truncation, this is also possible using the `cross_truncation` flag:"
   ]
  },
  {
   "cell_type": "code",
   "execution_count": 9,
   "metadata": {
    "execution": {
     "iopub.execute_input": "2021-05-18T10:56:22.858423Z",
     "iopub.status.busy": "2021-05-18T10:56:22.858098Z",
     "iopub.status.idle": "2021-05-18T10:56:22.870074Z",
     "shell.execute_reply": "2021-05-18T10:56:22.869745Z"
    }
   },
   "outputs": [
    {
     "data": {
      "text/plain": [
       "polynomial([q0**2, q0**2*q1, q1**2, q0*q1**2, q0**2*q1**2])"
      ]
     },
     "execution_count": 1,
     "metadata": {},
     "output_type": "execute_result"
    }
   ],
   "source": [
    "chaospy.monomial(2, 3, dimensions=2, cross_truncation=numpy.inf)"
   ]
  },
  {
   "cell_type": "code",
   "execution_count": 10,
   "metadata": {
    "execution": {
     "iopub.execute_input": "2021-05-18T10:56:22.873174Z",
     "iopub.status.busy": "2021-05-18T10:56:22.872623Z",
     "iopub.status.idle": "2021-05-18T10:56:22.883484Z",
     "shell.execute_reply": "2021-05-18T10:56:22.883117Z"
    }
   },
   "outputs": [
    {
     "data": {
      "text/plain": [
       "polynomial([q0**2, q0**3, q0*q1, q1**2, q1**3])"
      ]
     },
     "execution_count": 1,
     "metadata": {},
     "output_type": "execute_result"
    }
   ],
   "source": [
    "chaospy.monomial(2, 4, dimensions=2, cross_truncation=0.8)"
   ]
  },
  {
   "cell_type": "code",
   "execution_count": 11,
   "metadata": {
    "execution": {
     "iopub.execute_input": "2021-05-18T10:56:22.886478Z",
     "iopub.status.busy": "2021-05-18T10:56:22.885678Z",
     "iopub.status.idle": "2021-05-18T10:56:22.896694Z",
     "shell.execute_reply": "2021-05-18T10:56:22.896335Z"
    }
   },
   "outputs": [
    {
     "data": {
      "text/plain": [
       "polynomial([q0**2, q0**3, q1**2, q1**3])"
      ]
     },
     "execution_count": 1,
     "metadata": {},
     "output_type": "execute_result"
    }
   ],
   "source": [
    "chaospy.monomial(2, 4, dimensions=2, cross_truncation=0.0)"
   ]
  },
  {
   "cell_type": "markdown",
   "metadata": {},
   "source": [
    "Alternative to the [chaospy.monomial()](../../api/chaospy.monomial.rst)\n",
    "function, it is also possible to achieve the same expansion using the\n",
    "exponents only. For example:"
   ]
  },
  {
   "cell_type": "code",
   "execution_count": 12,
   "metadata": {
    "execution": {
     "iopub.execute_input": "2021-05-18T10:56:22.899056Z",
     "iopub.status.busy": "2021-05-18T10:56:22.898728Z",
     "iopub.status.idle": "2021-05-18T10:56:22.934139Z",
     "shell.execute_reply": "2021-05-18T10:56:22.933796Z"
    }
   },
   "outputs": [
    {
     "data": {
      "text/plain": [
       "polynomial([1, q0, q0**2, q0**3, q0**4])"
      ]
     },
     "execution_count": 1,
     "metadata": {},
     "output_type": "execute_result"
    }
   ],
   "source": [
    "q0**numpy.arange(5)"
   ]
  },
  {
   "cell_type": "markdown",
   "metadata": {},
   "source": [
    "Or in the multivariate case:"
   ]
  },
  {
   "cell_type": "code",
   "execution_count": 13,
   "metadata": {
    "execution": {
     "iopub.execute_input": "2021-05-18T10:56:22.936725Z",
     "iopub.status.busy": "2021-05-18T10:56:22.936421Z",
     "iopub.status.idle": "2021-05-18T10:56:22.978934Z",
     "shell.execute_reply": "2021-05-18T10:56:22.978578Z"
    }
   },
   "outputs": [
    {
     "data": {
      "text/plain": [
       "polynomial([q0**2, q0**3, q1**2, q1**3])"
      ]
     },
     "execution_count": 1,
     "metadata": {},
     "output_type": "execute_result"
    }
   ],
   "source": [
    "expon = [[2, 0], [3, 0], [0, 2], [0, 3]]\n",
    "base = chaospy.polynomial([q0, q1])\n",
    "chaospy.prod(base**expon, axis=-1)"
   ]
  },
  {
   "cell_type": "markdown",
   "metadata": {},
   "source": [
    "To help construct these exponent, there is function\n",
    "[chaospy.glexindex()](../../api/chaospy.glexindex.rst). It behave the same\n",
    "as [chaospy.monomial()](../../api/chaospy.monomial.rst), but only creates\n",
    "the exponents. E.g.:"
   ]
  },
  {
   "cell_type": "code",
   "execution_count": 14,
   "metadata": {
    "execution": {
     "iopub.execute_input": "2021-05-18T10:56:22.981287Z",
     "iopub.status.busy": "2021-05-18T10:56:22.980947Z",
     "iopub.status.idle": "2021-05-18T10:56:22.988630Z",
     "shell.execute_reply": "2021-05-18T10:56:22.988884Z"
    }
   },
   "outputs": [
    {
     "data": {
      "text/plain": [
       "array([[0, 1, 2, 3, 4]])"
      ]
     },
     "execution_count": 1,
     "metadata": {},
     "output_type": "execute_result"
    }
   ],
   "source": [
    "chaospy.glexindex(0, 5, 1).T"
   ]
  },
  {
   "cell_type": "code",
   "execution_count": 15,
   "metadata": {
    "execution": {
     "iopub.execute_input": "2021-05-18T10:56:22.990865Z",
     "iopub.status.busy": "2021-05-18T10:56:22.990595Z",
     "iopub.status.idle": "2021-05-18T10:56:22.998371Z",
     "shell.execute_reply": "2021-05-18T10:56:22.998095Z"
    }
   },
   "outputs": [
    {
     "data": {
      "text/plain": [
       "array([[2, 2, 0, 1, 2],\n",
       "       [0, 1, 2, 2, 2]])"
      ]
     },
     "execution_count": 1,
     "metadata": {},
     "output_type": "execute_result"
    }
   ],
   "source": [
    "chaospy.glexindex(2, 3, 2, numpy.inf).T"
   ]
  },
  {
   "cell_type": "code",
   "execution_count": 16,
   "metadata": {
    "execution": {
     "iopub.execute_input": "2021-05-18T10:56:23.000393Z",
     "iopub.status.busy": "2021-05-18T10:56:23.000083Z",
     "iopub.status.idle": "2021-05-18T10:56:23.007671Z",
     "shell.execute_reply": "2021-05-18T10:56:23.007900Z"
    }
   },
   "outputs": [
    {
     "data": {
      "text/plain": [
       "array([[2, 3, 1, 0, 0],\n",
       "       [0, 0, 1, 2, 3]])"
      ]
     },
     "execution_count": 1,
     "metadata": {},
     "output_type": "execute_result"
    }
   ],
   "source": [
    "chaospy.glexindex(2, 4, 2, 0.8).T"
   ]
  },
  {
   "cell_type": "code",
   "execution_count": 17,
   "metadata": {
    "execution": {
     "iopub.execute_input": "2021-05-18T10:56:23.009963Z",
     "iopub.status.busy": "2021-05-18T10:56:23.009659Z",
     "iopub.status.idle": "2021-05-18T10:56:23.017079Z",
     "shell.execute_reply": "2021-05-18T10:56:23.017302Z"
    }
   },
   "outputs": [
    {
     "data": {
      "text/plain": [
       "array([[2, 3, 0, 0],\n",
       "       [0, 0, 2, 3]])"
      ]
     },
     "execution_count": 1,
     "metadata": {},
     "output_type": "execute_result"
    }
   ],
   "source": [
    "chaospy.glexindex(2, 4, 2, 0.0).T"
   ]
  },
  {
   "cell_type": "markdown",
   "metadata": {},
   "source": [
    "### Polynomial evaluation\n",
    "\n",
    "Polynomials are not polynomials if they can not be evaluated as such. In\n",
    "the case of `chaospy`, this can be done using object call. `chaospy`\n",
    "supports calls with both positional arguments and by name. In other\n",
    "words, one argument per variable:"
   ]
  },
  {
   "cell_type": "code",
   "execution_count": 18,
   "metadata": {
    "execution": {
     "iopub.execute_input": "2021-05-18T10:56:23.019430Z",
     "iopub.status.busy": "2021-05-18T10:56:23.019071Z",
     "iopub.status.idle": "2021-05-18T10:56:23.030860Z",
     "shell.execute_reply": "2021-05-18T10:56:23.031078Z"
    }
   },
   "outputs": [
    {
     "data": {
      "text/plain": [
       "polynomial([1, q0**2, q0*q1])"
      ]
     },
     "execution_count": 1,
     "metadata": {},
     "output_type": "execute_result"
    }
   ],
   "source": [
    "expansion = chaospy.polynomial([1, q0**2, q0*q1])\n",
    "expansion"
   ]
  },
  {
   "cell_type": "code",
   "execution_count": 19,
   "metadata": {
    "execution": {
     "iopub.execute_input": "2021-05-18T10:56:23.033116Z",
     "iopub.status.busy": "2021-05-18T10:56:23.032847Z",
     "iopub.status.idle": "2021-05-18T10:56:23.041629Z",
     "shell.execute_reply": "2021-05-18T10:56:23.041344Z"
    }
   },
   "outputs": [
    {
     "data": {
      "text/plain": [
       "array([1, 4, 2])"
      ]
     },
     "execution_count": 1,
     "metadata": {},
     "output_type": "execute_result"
    }
   ],
   "source": [
    "expansion(2, 1)"
   ]
  },
  {
   "cell_type": "code",
   "execution_count": 20,
   "metadata": {
    "execution": {
     "iopub.execute_input": "2021-05-18T10:56:23.043472Z",
     "iopub.status.busy": "2021-05-18T10:56:23.043207Z",
     "iopub.status.idle": "2021-05-18T10:56:23.052175Z",
     "shell.execute_reply": "2021-05-18T10:56:23.051830Z"
    }
   },
   "outputs": [
    {
     "data": {
      "text/plain": [
       "array([1, 4, 2])"
      ]
     },
     "execution_count": 1,
     "metadata": {},
     "output_type": "execute_result"
    }
   ],
   "source": [
    "expansion(q0=2, q1=1)"
   ]
  },
  {
   "cell_type": "markdown",
   "metadata": {},
   "source": [
    "Here the return value is a `numpy.ndarray`. However, it is also possible to get a polynomial in\n",
    "return, given a partial evaluations:"
   ]
  },
  {
   "cell_type": "code",
   "execution_count": 21,
   "metadata": {
    "execution": {
     "iopub.execute_input": "2021-05-18T10:56:23.054088Z",
     "iopub.status.busy": "2021-05-18T10:56:23.053837Z",
     "iopub.status.idle": "2021-05-18T10:56:23.082663Z",
     "shell.execute_reply": "2021-05-18T10:56:23.082373Z"
    }
   },
   "outputs": [
    {
     "data": {
      "text/plain": [
       "polynomial([1, 9, 3*q1])"
      ]
     },
     "execution_count": 1,
     "metadata": {},
     "output_type": "execute_result"
    }
   ],
   "source": [
    "expansion(3)"
   ]
  },
  {
   "cell_type": "code",
   "execution_count": 22,
   "metadata": {
    "execution": {
     "iopub.execute_input": "2021-05-18T10:56:23.084616Z",
     "iopub.status.busy": "2021-05-18T10:56:23.084348Z",
     "iopub.status.idle": "2021-05-18T10:56:23.112783Z",
     "shell.execute_reply": "2021-05-18T10:56:23.113018Z"
    }
   },
   "outputs": [
    {
     "data": {
      "text/plain": [
       "polynomial([1, 9, 3*q1])"
      ]
     },
     "execution_count": 1,
     "metadata": {},
     "output_type": "execute_result"
    }
   ],
   "source": [
    "expansion(q0=3)"
   ]
  },
  {
   "cell_type": "markdown",
   "metadata": {},
   "source": [
    "For positional evaluation, to allow for partial evaluations of variables\n",
    "beyond the first, it is possible to pass a `None` value to the\n",
    "polynomial to indicate that a variable is not to be touched in a partial\n",
    "evaluation. E.g.:"
   ]
  },
  {
   "cell_type": "code",
   "execution_count": 23,
   "metadata": {
    "execution": {
     "iopub.execute_input": "2021-05-18T10:56:23.114906Z",
     "iopub.status.busy": "2021-05-18T10:56:23.114644Z",
     "iopub.status.idle": "2021-05-18T10:56:23.148441Z",
     "shell.execute_reply": "2021-05-18T10:56:23.148658Z"
    }
   },
   "outputs": [
    {
     "data": {
      "text/plain": [
       "polynomial([1, q0**2, 2*q0])"
      ]
     },
     "execution_count": 1,
     "metadata": {},
     "output_type": "execute_result"
    }
   ],
   "source": [
    "expansion(None, 2)"
   ]
  },
  {
   "cell_type": "code",
   "execution_count": 24,
   "metadata": {
    "execution": {
     "iopub.execute_input": "2021-05-18T10:56:23.150638Z",
     "iopub.status.busy": "2021-05-18T10:56:23.150377Z",
     "iopub.status.idle": "2021-05-18T10:56:23.184254Z",
     "shell.execute_reply": "2021-05-18T10:56:23.184562Z"
    }
   },
   "outputs": [
    {
     "data": {
      "text/plain": [
       "polynomial([1, q0**2, 2*q0])"
      ]
     },
     "execution_count": 1,
     "metadata": {},
     "output_type": "execute_result"
    }
   ],
   "source": [
    "expansion(q1=2)"
   ]
  },
  {
   "cell_type": "markdown",
   "metadata": {},
   "source": [
    "Vectorized evaluations is also allowed. Just pass any\n",
    "`numpy.ndarray` compatible object.\n",
    "`chaospy` will expand the shape such that it ends up being\n",
    "`polynomial.shape+input.shape`. For example:"
   ]
  },
  {
   "cell_type": "code",
   "execution_count": 25,
   "metadata": {
    "execution": {
     "iopub.execute_input": "2021-05-18T10:56:23.186909Z",
     "iopub.status.busy": "2021-05-18T10:56:23.186602Z",
     "iopub.status.idle": "2021-05-18T10:56:23.222992Z",
     "shell.execute_reply": "2021-05-18T10:56:23.222737Z"
    }
   },
   "outputs": [
    {
     "data": {
      "text/plain": [
       "polynomial([[1, 1, 1, 1],\n",
       "            [q0**2, q0**2, q0**2, q0**2],\n",
       "            [0, q0, 2*q0, 3*q0]])"
      ]
     },
     "execution_count": 1,
     "metadata": {},
     "output_type": "execute_result"
    }
   ],
   "source": [
    "expansion(q1=range(4))"
   ]
  },
  {
   "cell_type": "markdown",
   "metadata": {},
   "source": [
    "It is also possible to mix both scalar and vector arguments, as long as\n",
    "they are broadcastable in [numpy](https://numpy.org/doc/stable) sense.\n",
    "For example:"
   ]
  },
  {
   "cell_type": "code",
   "execution_count": 26,
   "metadata": {
    "execution": {
     "iopub.execute_input": "2021-05-18T10:56:23.224880Z",
     "iopub.status.busy": "2021-05-18T10:56:23.224621Z",
     "iopub.status.idle": "2021-05-18T10:56:23.233274Z",
     "shell.execute_reply": "2021-05-18T10:56:23.232984Z"
    }
   },
   "outputs": [
    {
     "data": {
      "text/plain": [
       "array([[1, 1, 1],\n",
       "       [1, 1, 1],\n",
       "       [1, 2, 3]])"
      ]
     },
     "execution_count": 1,
     "metadata": {},
     "output_type": "execute_result"
    }
   ],
   "source": [
    "expansion(1, [1, 2, 3])"
   ]
  },
  {
   "cell_type": "code",
   "execution_count": 27,
   "metadata": {
    "execution": {
     "iopub.execute_input": "2021-05-18T10:56:23.235074Z",
     "iopub.status.busy": "2021-05-18T10:56:23.234826Z",
     "iopub.status.idle": "2021-05-18T10:56:23.243500Z",
     "shell.execute_reply": "2021-05-18T10:56:23.243209Z"
    }
   },
   "outputs": [
    {
     "data": {
      "text/plain": [
       "array([[1, 1, 1],\n",
       "       [1, 4, 9],\n",
       "       [1, 4, 9]])"
      ]
     },
     "execution_count": 1,
     "metadata": {},
     "output_type": "execute_result"
    }
   ],
   "source": [
    "expansion([1, 2, 3], [1, 2, 3])"
   ]
  },
  {
   "cell_type": "markdown",
   "metadata": {},
   "source": [
    "Passing arguments with an other datatype than the polynomial, results in\n",
    "the output using the common denomination:"
   ]
  },
  {
   "cell_type": "code",
   "execution_count": 28,
   "metadata": {
    "execution": {
     "iopub.execute_input": "2021-05-18T10:56:23.245764Z",
     "iopub.status.busy": "2021-05-18T10:56:23.245449Z",
     "iopub.status.idle": "2021-05-18T10:56:23.273897Z",
     "shell.execute_reply": "2021-05-18T10:56:23.273611Z"
    }
   },
   "outputs": [
    {
     "data": {
      "text/plain": [
       "polynomial([1.0, 0.25, 0.5*q1])"
      ]
     },
     "execution_count": 1,
     "metadata": {},
     "output_type": "execute_result"
    }
   ],
   "source": [
    "expansion(0.5)"
   ]
  },
  {
   "cell_type": "code",
   "execution_count": 29,
   "metadata": {
    "execution": {
     "iopub.execute_input": "2021-05-18T10:56:23.276056Z",
     "iopub.status.busy": "2021-05-18T10:56:23.275787Z",
     "iopub.status.idle": "2021-05-18T10:56:23.310097Z",
     "shell.execute_reply": "2021-05-18T10:56:23.309788Z"
    }
   },
   "outputs": [
    {
     "data": {
      "text/plain": [
       "polynomial([(1+0j), q0**2, 1j*q0])"
      ]
     },
     "execution_count": 1,
     "metadata": {},
     "output_type": "execute_result"
    }
   ],
   "source": [
    "expansion(q1=1j)"
   ]
  },
  {
   "cell_type": "markdown",
   "metadata": {},
   "source": [
    "Assuming the input you want to evaluate is a large matrix and you want\n",
    "an interface where the matrix is kept intact, you can use\n",
    "[chaospy.call()](../../api/chaospy.call.rst). E.g.:"
   ]
  },
  {
   "cell_type": "code",
   "execution_count": 30,
   "metadata": {
    "execution": {
     "iopub.execute_input": "2021-05-18T10:56:23.312167Z",
     "iopub.status.busy": "2021-05-18T10:56:23.311874Z",
     "iopub.status.idle": "2021-05-18T10:56:23.319264Z",
     "shell.execute_reply": "2021-05-18T10:56:23.318979Z"
    }
   },
   "outputs": [
    {
     "data": {
      "text/plain": [
       "array([[ 0,  1,  2,  3,  4,  5],\n",
       "       [ 6,  7,  8,  9, 10, 11]])"
      ]
     },
     "execution_count": 1,
     "metadata": {},
     "output_type": "execute_result"
    }
   ],
   "source": [
    "array = numpy.arange(12).reshape(2, 6)\n",
    "array"
   ]
  },
  {
   "cell_type": "code",
   "execution_count": 31,
   "metadata": {
    "execution": {
     "iopub.execute_input": "2021-05-18T10:56:23.321127Z",
     "iopub.status.busy": "2021-05-18T10:56:23.320870Z",
     "iopub.status.idle": "2021-05-18T10:56:23.329626Z",
     "shell.execute_reply": "2021-05-18T10:56:23.329337Z"
    }
   },
   "outputs": [
    {
     "data": {
      "text/plain": [
       "array([[ 1,  1,  1,  1,  1,  1],\n",
       "       [ 0,  1,  4,  9, 16, 25],\n",
       "       [ 0,  7, 16, 27, 40, 55]])"
      ]
     },
     "execution_count": 1,
     "metadata": {},
     "output_type": "execute_result"
    }
   ],
   "source": [
    "chaospy.call(expansion, array)"
   ]
  },
  {
   "cell_type": "markdown",
   "metadata": {},
   "source": [
    "Lastly, it is also possible to pass other polynomials as arguments. This\n",
    "simplifies any form for variable substitution."
   ]
  },
  {
   "cell_type": "code",
   "execution_count": 32,
   "metadata": {
    "execution": {
     "iopub.execute_input": "2021-05-18T10:56:23.331482Z",
     "iopub.status.busy": "2021-05-18T10:56:23.331226Z",
     "iopub.status.idle": "2021-05-18T10:56:23.339521Z",
     "shell.execute_reply": "2021-05-18T10:56:23.339232Z"
    }
   },
   "outputs": [
    {
     "data": {
      "text/plain": [
       "polynomial([1, q0**2, q0*q1])"
      ]
     },
     "execution_count": 1,
     "metadata": {},
     "output_type": "execute_result"
    }
   ],
   "source": [
    "expansion"
   ]
  },
  {
   "cell_type": "code",
   "execution_count": 33,
   "metadata": {
    "execution": {
     "iopub.execute_input": "2021-05-18T10:56:23.341404Z",
     "iopub.status.busy": "2021-05-18T10:56:23.341133Z",
     "iopub.status.idle": "2021-05-18T10:56:23.378990Z",
     "shell.execute_reply": "2021-05-18T10:56:23.378672Z"
    }
   },
   "outputs": [
    {
     "data": {
      "text/plain": [
       "polynomial([1, q1**2, q0*q1])"
      ]
     },
     "execution_count": 1,
     "metadata": {},
     "output_type": "execute_result"
    }
   ],
   "source": [
    "expansion(q0=q1, q1=q0)"
   ]
  },
  {
   "cell_type": "code",
   "execution_count": 34,
   "metadata": {
    "execution": {
     "iopub.execute_input": "2021-05-18T10:56:23.380878Z",
     "iopub.status.busy": "2021-05-18T10:56:23.380618Z",
     "iopub.status.idle": "2021-05-18T10:56:23.425513Z",
     "shell.execute_reply": "2021-05-18T10:56:23.425219Z"
    }
   },
   "outputs": [
    {
     "data": {
      "text/plain": [
       "polynomial([1, q0**2, -q0*q1**3+q0])"
      ]
     },
     "execution_count": 1,
     "metadata": {},
     "output_type": "execute_result"
    }
   ],
   "source": [
    "expansion(None, 1-q1**3)"
   ]
  },
  {
   "cell_type": "markdown",
   "metadata": {},
   "source": [
    "### Numpy functions\n",
    "\n",
    "The `chaospy` concept of arrays is taken from\n",
    "[numpy](https://numpy.org/doc/stable). But it goes a bit deeper than\n",
    "just inspiration. The base class [chaospy.ndpoly](../../api/chaospy.ndpoly.rst) is a direct subclass of `numpy.ndarray`:"
   ]
  },
  {
   "cell_type": "code",
   "execution_count": 35,
   "metadata": {
    "execution": {
     "iopub.execute_input": "2021-05-18T10:56:23.427522Z",
     "iopub.status.busy": "2021-05-18T10:56:23.427256Z",
     "iopub.status.idle": "2021-05-18T10:56:23.434824Z",
     "shell.execute_reply": "2021-05-18T10:56:23.434541Z"
    }
   },
   "outputs": [
    {
     "data": {
      "text/plain": [
       "True"
      ]
     },
     "execution_count": 1,
     "metadata": {},
     "output_type": "execute_result"
    }
   ],
   "source": [
    "issubclass(chaospy.ndpoly, numpy.ndarray)"
   ]
  },
  {
   "cell_type": "markdown",
   "metadata": {},
   "source": [
    "The intentions is to have a library that is fast with the respect of the\n",
    "number of coefficients, as it leverages\n",
    "[numpy](https://numpy.org/doc/stable)\\'s speed where possible.\n",
    "\n",
    "In addition `chaospy` is designed to be behave both as you would expect\n",
    "as a polynomial, but also, where possible, to behave as a\n",
    "[numpy](https://numpy.org/doc/stable) numerical array. In practice this\n",
    "means that `chaospy` provides a lot functions that also exists in\n",
    "[numpy](https://numpy.org/doc/stable), which does about the same thing.\n",
    "If one of these `chaospy` function is provided with a\n",
    "`numpy.ndarray` object, the returned\n",
    "values is the same as if provided to the\n",
    "[numpy](https://numpy.org/doc/stable) function with the same name. For\n",
    "example [chaospy.transpose()](../../api/chaospy.transpose.rst):"
   ]
  },
  {
   "cell_type": "code",
   "execution_count": 36,
   "metadata": {
    "execution": {
     "iopub.execute_input": "2021-05-18T10:56:23.436715Z",
     "iopub.status.busy": "2021-05-18T10:56:23.436464Z",
     "iopub.status.idle": "2021-05-18T10:56:23.445624Z",
     "shell.execute_reply": "2021-05-18T10:56:23.445333Z"
    }
   },
   "outputs": [
    {
     "data": {
      "text/plain": [
       "polynomial([[1, 3],\n",
       "            [2, 4]])"
      ]
     },
     "execution_count": 1,
     "metadata": {},
     "output_type": "execute_result"
    }
   ],
   "source": [
    "num_array = numpy.array([[1, 2], [3, 4]])\n",
    "chaospy.transpose(num_array)"
   ]
  },
  {
   "cell_type": "markdown",
   "metadata": {},
   "source": [
    "And this works the other way around as well. If a polynomial is provided\n",
    "to the [numpy](https://numpy.org/doc/stable) function, it will behave\n",
    "the same way as if it was provided to the `chaospy` equivalent. So\n",
    "following the same example, we can use\n",
    "`numpy.transpose` to transpose\n",
    "[chaospy.ndpoly](../../api/chaospy.ndpoly.rst) polynomials:"
   ]
  },
  {
   "cell_type": "code",
   "execution_count": 37,
   "metadata": {
    "execution": {
     "iopub.execute_input": "2021-05-18T10:56:23.447683Z",
     "iopub.status.busy": "2021-05-18T10:56:23.447414Z",
     "iopub.status.idle": "2021-05-18T10:56:23.461605Z",
     "shell.execute_reply": "2021-05-18T10:56:23.461297Z"
    }
   },
   "outputs": [
    {
     "data": {
      "text/plain": [
       "polynomial([[1, q1**2],\n",
       "            [q0-1, 4]])"
      ]
     },
     "execution_count": 1,
     "metadata": {},
     "output_type": "execute_result"
    }
   ],
   "source": [
    "poly_array = chaospy.polynomial([[1, q0-1], [q1**2, 4]])\n",
    "numpy.transpose(poly_array)"
   ]
  },
  {
   "cell_type": "markdown",
   "metadata": {},
   "source": [
    "Though the overlap in functionality between\n",
    "[numpy](https://numpy.org/doc/stable) and `chaospy` is large, there are\n",
    "still lots of functionality which is specific for each of them. The most\n",
    "obvious, in the case of `chaospy` features not found in\n",
    "[numpy](https://numpy.org/doc/stable) is the ability to evaluate the\n",
    "polynomials:"
   ]
  },
  {
   "cell_type": "code",
   "execution_count": 38,
   "metadata": {
    "execution": {
     "iopub.execute_input": "2021-05-18T10:56:23.463583Z",
     "iopub.status.busy": "2021-05-18T10:56:23.463276Z",
     "iopub.status.idle": "2021-05-18T10:56:23.473970Z",
     "shell.execute_reply": "2021-05-18T10:56:23.473683Z"
    }
   },
   "outputs": [
    {
     "data": {
      "text/plain": [
       "polynomial(q1**2-q0)"
      ]
     },
     "execution_count": 1,
     "metadata": {},
     "output_type": "execute_result"
    }
   ],
   "source": [
    "poly = q1**2-q0\n",
    "poly"
   ]
  },
  {
   "cell_type": "code",
   "execution_count": 39,
   "metadata": {
    "execution": {
     "iopub.execute_input": "2021-05-18T10:56:23.475920Z",
     "iopub.status.busy": "2021-05-18T10:56:23.475625Z",
     "iopub.status.idle": "2021-05-18T10:56:23.484057Z",
     "shell.execute_reply": "2021-05-18T10:56:23.483776Z"
    }
   },
   "outputs": [
    {
     "data": {
      "text/plain": [
       "12"
      ]
     },
     "execution_count": 1,
     "metadata": {},
     "output_type": "execute_result"
    }
   ],
   "source": [
    "poly(4, 4)"
   ]
  },
  {
   "cell_type": "code",
   "execution_count": 40,
   "metadata": {
    "execution": {
     "iopub.execute_input": "2021-05-18T10:56:23.486115Z",
     "iopub.status.busy": "2021-05-18T10:56:23.485849Z",
     "iopub.status.idle": "2021-05-18T10:56:23.508040Z",
     "shell.execute_reply": "2021-05-18T10:56:23.508258Z"
    }
   },
   "outputs": [
    {
     "data": {
      "text/plain": [
       "polynomial(q1**2-4)"
      ]
     },
     "execution_count": 1,
     "metadata": {},
     "output_type": "execute_result"
    }
   ],
   "source": [
    "poly(4)"
   ]
  },
  {
   "cell_type": "code",
   "execution_count": 41,
   "metadata": {
    "execution": {
     "iopub.execute_input": "2021-05-18T10:56:23.510371Z",
     "iopub.status.busy": "2021-05-18T10:56:23.510101Z",
     "iopub.status.idle": "2021-05-18T10:56:23.532711Z",
     "shell.execute_reply": "2021-05-18T10:56:23.532425Z"
    }
   },
   "outputs": [
    {
     "data": {
      "text/plain": [
       "polynomial([q1**2-1, q1**2-2, q1**2-3])"
      ]
     },
     "execution_count": 1,
     "metadata": {},
     "output_type": "execute_result"
    }
   ],
   "source": [
    "poly([1, 2, 3])"
   ]
  },
  {
   "cell_type": "markdown",
   "metadata": {},
   "source": [
    "### Function compatibility\n",
    "\n",
    "The numpy library comes with a large number of functions for\n",
    "manipulating `numpy.ndarray` objects.\n",
    "Many of these functions are supported `chaospy` as well.\n",
    "In addition [numpy](https://numpy.org/doc/stable)\n",
    "provides dispatching of its functions to subclasses. This\n",
    "means that functions in `chaospy` with the same name as a numpy\n",
    "counterpart, it will work the same irrespective if the function used\n",
    "was from [numpy](https://numpy.org/doc/stable) or `chaospy`, as the\n",
    "former will pass any job to the latter.\n",
    "\n",
    "For example:"
   ]
  },
  {
   "cell_type": "code",
   "execution_count": 42,
   "metadata": {
    "execution": {
     "iopub.execute_input": "2021-05-18T10:56:23.534681Z",
     "iopub.status.busy": "2021-05-18T10:56:23.534427Z",
     "iopub.status.idle": "2021-05-18T10:56:23.543346Z",
     "shell.execute_reply": "2021-05-18T10:56:23.543565Z"
    }
   },
   "outputs": [
    {
     "data": {
      "text/plain": [
       "polynomial([q0*q1+q0**2+1])"
      ]
     },
     "execution_count": 1,
     "metadata": {},
     "output_type": "execute_result"
    }
   ],
   "source": [
    "chaospy.sum(expansion, keepdims=True)"
   ]
  },
  {
   "cell_type": "code",
   "execution_count": 43,
   "metadata": {
    "execution": {
     "iopub.execute_input": "2021-05-18T10:56:23.545589Z",
     "iopub.status.busy": "2021-05-18T10:56:23.545243Z",
     "iopub.status.idle": "2021-05-18T10:56:23.553801Z",
     "shell.execute_reply": "2021-05-18T10:56:23.554016Z"
    }
   },
   "outputs": [
    {
     "data": {
      "text/plain": [
       "polynomial([q0*q1+q0**2+1])"
      ]
     },
     "execution_count": 1,
     "metadata": {},
     "output_type": "execute_result"
    }
   ],
   "source": [
    "numpy.sum(expansion, keepdims=True)"
   ]
  },
  {
   "cell_type": "markdown",
   "metadata": {},
   "source": [
    "In addition, not everything is possible to support, and even within the\n",
    "list of supported functions, not all use cases can be covered. Bit if\n",
    "such an unsupported edge case is encountered, an\n",
    "[chaospy.FeatureNotSupported](../../api/chaospy.FeatureNotSupported.rst) error\n",
    "should be raised, so it should be obvious when they happen.\n",
    "\n",
    "As a developer note, `chaospy` aims at being backwards compatible with\n",
    "[numpy](https://numpy.org/doc/stable) as far as possible when it comes\n",
    "to the functions it provides. This means that all functions below should\n",
    "as far as possible mirror the behavior their\n",
    "[numpy](https://numpy.org/doc/stable) counterparts, and for polynomial\n",
    "constant, they should be identical (except for the object type).\n",
    "Function that provides behavior not covered by\n",
    "[numpy](https://numpy.org/doc/stable) should be placed elsewhere."
   ]
  },
  {
   "cell_type": "markdown",
   "metadata": {},
   "source": [
    "### Comparison operators\n",
    "\n",
    "Because (real) numbers have a natural total ordering, mathematically\n",
    "speaking, doing comparisons and sorting is at least conceptually for the\n",
    "most part trivial. There are a few exceptions though. Take for example\n",
    "complex numbers, which does not have a total ordering, it then there are\n",
    "not always possible to assess if one number is large than the other. To\n",
    "get around this limitation, some choices has to be made. For example, in\n",
    "pure Python the choice to raise exception for all comparison of complex\n",
    "numbers:"
   ]
  },
  {
   "cell_type": "code",
   "execution_count": 44,
   "metadata": {
    "execution": {
     "iopub.execute_input": "2021-05-18T10:56:23.556114Z",
     "iopub.status.busy": "2021-05-18T10:56:23.555854Z",
     "iopub.status.idle": "2021-05-18T10:56:23.596172Z",
     "shell.execute_reply": "2021-05-18T10:56:23.595857Z"
    }
   },
   "outputs": [],
   "source": [
    "from pytest import raises\n",
    "\n",
    "with raises(TypeError):\n",
    "    1+3j > 3+1j"
   ]
  },
  {
   "cell_type": "markdown",
   "metadata": {},
   "source": [
    "In `numpy` a different choice were made. Comparisons of complex numbers\n",
    "are supported, but they limit the compare to the real part only,\n",
    "ignoring the imaginary part of the numbers. For example:"
   ]
  },
  {
   "cell_type": "code",
   "execution_count": 45,
   "metadata": {
    "execution": {
     "iopub.execute_input": "2021-05-18T10:56:23.598402Z",
     "iopub.status.busy": "2021-05-18T10:56:23.598088Z",
     "iopub.status.idle": "2021-05-18T10:56:23.606242Z",
     "shell.execute_reply": "2021-05-18T10:56:23.605966Z"
    }
   },
   "outputs": [
    {
     "data": {
      "text/plain": [
       "array([False, False,  True,  True])"
      ]
     },
     "execution_count": 1,
     "metadata": {},
     "output_type": "execute_result"
    }
   ],
   "source": [
    "arr = numpy.array([1+1j, 1+3j, 3+1j, 3+3j])\n",
    "arr > arr[::-1]"
   ]
  },
  {
   "cell_type": "markdown",
   "metadata": {},
   "source": [
    "Polynomials does not have a total ordering either, and imposing one\n",
    "requires many choices dealing with various edge cases. However, it is\n",
    "possible to impose a total order that is both internally consistent and\n",
    "which is backwards compatible with the behavior of `numpy.ndarray`. It\n",
    "requires some design choices, which are opinionated, and might not\n",
    "always align with everyone's taste.\n",
    "With this in mind, the ordering implemented in `chaospy` is defined as\n",
    "follows.\n",
    "\n",
    "Polynomials containing terms with the highest exponents are\n",
    "considered the largest:"
   ]
  },
  {
   "cell_type": "code",
   "execution_count": 46,
   "metadata": {
    "execution": {
     "iopub.execute_input": "2021-05-18T10:56:23.608245Z",
     "iopub.status.busy": "2021-05-18T10:56:23.607982Z",
     "iopub.status.idle": "2021-05-18T10:56:23.627792Z",
     "shell.execute_reply": "2021-05-18T10:56:23.627502Z"
    }
   },
   "outputs": [
    {
     "data": {
      "text/plain": [
       "True"
      ]
     },
     "execution_count": 1,
     "metadata": {},
     "output_type": "execute_result"
    }
   ],
   "source": [
    "q0 < q0**2 < q0**3"
   ]
  },
  {
   "cell_type": "markdown",
   "metadata": {},
   "source": [
    "If the largest polynomial exponent in one polynomial is larger than\n",
    "in another, leading coefficients are ignored:"
   ]
  },
  {
   "cell_type": "code",
   "execution_count": 47,
   "metadata": {
    "execution": {
     "iopub.execute_input": "2021-05-18T10:56:23.629847Z",
     "iopub.status.busy": "2021-05-18T10:56:23.629585Z",
     "iopub.status.idle": "2021-05-18T10:56:23.655109Z",
     "shell.execute_reply": "2021-05-18T10:56:23.654818Z"
    }
   },
   "outputs": [
    {
     "data": {
      "text/plain": [
       "True"
      ]
     },
     "execution_count": 1,
     "metadata": {},
     "output_type": "execute_result"
    }
   ],
   "source": [
    "4*q0 < 3*q0**2 < 2*q0**3"
   ]
  },
  {
   "cell_type": "markdown",
   "metadata": {},
   "source": [
    "In the multivariate case, the polynomial order is determined by the\n",
    "sum of the exponents across the indeterminants that are multiplied\n",
    "together:"
   ]
  },
  {
   "cell_type": "code",
   "execution_count": 48,
   "metadata": {
    "execution": {
     "iopub.execute_input": "2021-05-18T10:56:23.657166Z",
     "iopub.status.busy": "2021-05-18T10:56:23.656899Z",
     "iopub.status.idle": "2021-05-18T10:56:23.696990Z",
     "shell.execute_reply": "2021-05-18T10:56:23.697221Z"
    }
   },
   "outputs": [
    {
     "data": {
      "text/plain": [
       "True"
      ]
     },
     "execution_count": 1,
     "metadata": {},
     "output_type": "execute_result"
    }
   ],
   "source": [
    "q0**2*q1**2 < q0*q1**5 < q0**6*q1"
   ]
  },
  {
   "cell_type": "markdown",
   "metadata": {},
   "source": [
    "This implies that given a higher polynomial order, indeterminant names are ignored:"
   ]
  },
  {
   "cell_type": "code",
   "execution_count": 49,
   "metadata": {
    "execution": {
     "iopub.execute_input": "2021-05-18T10:56:23.699276Z",
     "iopub.status.busy": "2021-05-18T10:56:23.699010Z",
     "iopub.status.idle": "2021-05-18T10:56:23.719900Z",
     "shell.execute_reply": "2021-05-18T10:56:23.719607Z"
    }
   },
   "outputs": [
    {
     "data": {
      "text/plain": [
       "True"
      ]
     },
     "execution_count": 1,
     "metadata": {},
     "output_type": "execute_result"
    }
   ],
   "source": [
    "q0, q1, q2 = chaospy.variable(3)\n",
    "q0 < q2**2 < q1**3"
   ]
  },
  {
   "cell_type": "markdown",
   "metadata": {},
   "source": [
    "The same goes for any polynomial terms which are not leading:"
   ]
  },
  {
   "cell_type": "code",
   "execution_count": 50,
   "metadata": {
    "execution": {
     "iopub.execute_input": "2021-05-18T10:56:23.722183Z",
     "iopub.status.busy": "2021-05-18T10:56:23.721843Z",
     "iopub.status.idle": "2021-05-18T10:56:23.750202Z",
     "shell.execute_reply": "2021-05-18T10:56:23.750425Z"
    }
   },
   "outputs": [
    {
     "data": {
      "text/plain": [
       "True"
      ]
     },
     "execution_count": 1,
     "metadata": {},
     "output_type": "execute_result"
    }
   ],
   "source": [
    "4*q0 < q0**2+3*q0 < q0**3+2*q0"
   ]
  },
  {
   "cell_type": "markdown",
   "metadata": {},
   "source": [
    "Here leading means the term in the polynomial that is the largest,\n",
    "as defined by the rules here so far.\n",
    "                                                                   \n",
    "Polynomials of equal polynomial order are reverse\n",
    "lexicographical sorted:"
   ]
  },
  {
   "cell_type": "code",
   "execution_count": 51,
   "metadata": {
    "execution": {
     "iopub.execute_input": "2021-05-18T10:56:23.752534Z",
     "iopub.status.busy": "2021-05-18T10:56:23.752209Z",
     "iopub.status.idle": "2021-05-18T10:56:23.765420Z",
     "shell.execute_reply": "2021-05-18T10:56:23.765687Z"
    }
   },
   "outputs": [
    {
     "data": {
      "text/plain": [
       "True"
      ]
     },
     "execution_count": 1,
     "metadata": {},
     "output_type": "execute_result"
    }
   ],
   "source": [
    "q0 < q1 < q2"
   ]
  },
  {
   "cell_type": "markdown",
   "metadata": {},
   "source": [
    "As with polynomial order, coefficients and lower order terms are\n",
    "also ignored:"
   ]
  },
  {
   "cell_type": "code",
   "execution_count": 52,
   "metadata": {
    "execution": {
     "iopub.execute_input": "2021-05-18T10:56:23.767764Z",
     "iopub.status.busy": "2021-05-18T10:56:23.767497Z",
     "iopub.status.idle": "2021-05-18T10:56:23.812499Z",
     "shell.execute_reply": "2021-05-18T10:56:23.812763Z"
    }
   },
   "outputs": [
    {
     "data": {
      "text/plain": [
       "True"
      ]
     },
     "execution_count": 1,
     "metadata": {},
     "output_type": "execute_result"
    }
   ],
   "source": [
    "4*q0**3+4*q0 < 3*q1**3+3*q1 < 2*q2**3+2*q2"
   ]
  },
  {
   "cell_type": "markdown",
   "metadata": {},
   "source": [
    "Composite polynomials of the same order are lexicographical sorted\n",
    "by the dominant indeterminant name:"
   ]
  },
  {
   "cell_type": "code",
   "execution_count": 53,
   "metadata": {
    "execution": {
     "iopub.execute_input": "2021-05-18T10:56:23.814777Z",
     "iopub.status.busy": "2021-05-18T10:56:23.814513Z",
     "iopub.status.idle": "2021-05-18T10:56:23.846554Z",
     "shell.execute_reply": "2021-05-18T10:56:23.846270Z"
    }
   },
   "outputs": [
    {
     "data": {
      "text/plain": [
       "True"
      ]
     },
     "execution_count": 1,
     "metadata": {},
     "output_type": "execute_result"
    }
   ],
   "source": [
    "q0**3*q1 < q0**2*q1**2 < q0*q1**3"
   ]
  },
  {
   "cell_type": "markdown",
   "metadata": {},
   "source": [
    "If there are more than two indeterminants, the dominant order first\n",
    "addresses the first name (lexicographical sorted), then the\n",
    "second, and so on:"
   ]
  },
  {
   "cell_type": "code",
   "execution_count": 54,
   "metadata": {
    "execution": {
     "iopub.execute_input": "2021-05-18T10:56:23.848691Z",
     "iopub.status.busy": "2021-05-18T10:56:23.848375Z",
     "iopub.status.idle": "2021-05-18T10:56:23.880089Z",
     "shell.execute_reply": "2021-05-18T10:56:23.880349Z"
    }
   },
   "outputs": [
    {
     "data": {
      "text/plain": [
       "True"
      ]
     },
     "execution_count": 1,
     "metadata": {},
     "output_type": "execute_result"
    }
   ],
   "source": [
    "q0**2*q1**2*q2 < q0**2*q1*q2**2 < q0*q1**2*q2**2"
   ]
  },
  {
   "cell_type": "markdown",
   "metadata": {},
   "source": [
    "Polynomials that have the same leading polynomial exponents, are\n",
    "compared by the leading polynomial coefficient:"
   ]
  },
  {
   "cell_type": "code",
   "execution_count": 55,
   "metadata": {
    "execution": {
     "iopub.execute_input": "2021-05-18T10:56:23.882544Z",
     "iopub.status.busy": "2021-05-18T10:56:23.882230Z",
     "iopub.status.idle": "2021-05-18T10:56:23.900649Z",
     "shell.execute_reply": "2021-05-18T10:56:23.900312Z"
    }
   },
   "outputs": [
    {
     "data": {
      "text/plain": [
       "True"
      ]
     },
     "execution_count": 1,
     "metadata": {},
     "output_type": "execute_result"
    }
   ],
   "source": [
    "-4*q0 < -1*q0 < 2*q0"
   ]
  },
  {
   "cell_type": "markdown",
   "metadata": {},
   "source": [
    "This notion implies that constant polynomials behave in the same way\n",
    "as `numpy` arrays:"
   ]
  },
  {
   "cell_type": "code",
   "execution_count": 56,
   "metadata": {
    "execution": {
     "iopub.execute_input": "2021-05-18T10:56:23.902736Z",
     "iopub.status.busy": "2021-05-18T10:56:23.902420Z",
     "iopub.status.idle": "2021-05-18T10:56:23.911533Z",
     "shell.execute_reply": "2021-05-18T10:56:23.911799Z"
    }
   },
   "outputs": [
    {
     "data": {
      "text/plain": [
       "array([False,  True,  True])"
      ]
     },
     "execution_count": 1,
     "metadata": {},
     "output_type": "execute_result"
    }
   ],
   "source": [
    "chaospy.polynomial([2, 4, 6]) > 3"
   ]
  },
  {
   "cell_type": "markdown",
   "metadata": {},
   "source": [
    "Polynomials with the same leading polynomial and coefficient are\n",
    "compared on the next largest leading polynomial:"
   ]
  },
  {
   "cell_type": "code",
   "execution_count": 57,
   "metadata": {
    "execution": {
     "iopub.execute_input": "2021-05-18T10:56:23.913892Z",
     "iopub.status.busy": "2021-05-18T10:56:23.913577Z",
     "iopub.status.idle": "2021-05-18T10:56:23.936422Z",
     "shell.execute_reply": "2021-05-18T10:56:23.936088Z"
    }
   },
   "outputs": [
    {
     "data": {
      "text/plain": [
       "True"
      ]
     },
     "execution_count": 1,
     "metadata": {},
     "output_type": "execute_result"
    }
   ],
   "source": [
    "q0**2+1 < q0**2+2 < q0**2+3"
   ]
  },
  {
   "cell_type": "markdown",
   "metadata": {},
   "source": [
    "And if both the first two leading terms are the same, use the third\n",
    "and so on:"
   ]
  },
  {
   "cell_type": "code",
   "execution_count": 58,
   "metadata": {
    "execution": {
     "iopub.execute_input": "2021-05-18T10:56:23.939074Z",
     "iopub.status.busy": "2021-05-18T10:56:23.938466Z",
     "iopub.status.idle": "2021-05-18T10:56:23.965004Z",
     "shell.execute_reply": "2021-05-18T10:56:23.965262Z"
    }
   },
   "outputs": [
    {
     "data": {
      "text/plain": [
       "True"
      ]
     },
     "execution_count": 1,
     "metadata": {},
     "output_type": "execute_result"
    }
   ],
   "source": [
    "q0**2+q0+1 < q0**2+q0+2 < q0**2+q0+3"
   ]
  },
  {
   "cell_type": "markdown",
   "metadata": {},
   "source": [
    "Unlike for the leading polynomial term, missing terms are considered\n",
    "present as 0. E.g.:"
   ]
  },
  {
   "cell_type": "code",
   "execution_count": 59,
   "metadata": {
    "execution": {
     "iopub.execute_input": "2021-05-18T10:56:23.967415Z",
     "iopub.status.busy": "2021-05-18T10:56:23.967098Z",
     "iopub.status.idle": "2021-05-18T10:56:23.987667Z",
     "shell.execute_reply": "2021-05-18T10:56:23.987359Z"
    }
   },
   "outputs": [
    {
     "data": {
      "text/plain": [
       "True"
      ]
     },
     "execution_count": 1,
     "metadata": {},
     "output_type": "execute_result"
    }
   ],
   "source": [
    "q0**2-1 < q0**2 < q0**2+1"
   ]
  },
  {
   "cell_type": "markdown",
   "metadata": {},
   "source": [
    "These rules together allow for a total comparison for all polynomials.\n",
    "\n",
    "In `chaospy`, there are a few global options that can be passed to\n",
    "[chaospy.set_options()](../../api/chaospy.set_options.rst) (or\n",
    "[chaospy.global_options()](../../api/chaospy.global_options.rst)) to change this\n",
    "behavior. In particular:\n",
    "\n",
    "-  `sort_graded`\n",
    "\n",
    "    Impose that polynomials are sorted by grade, meaning the indices are\n",
    "    always sorted by the index sum. E.g. `q0**2*q1**2*q2**2` has an\n",
    "    exponent sum of 6, and will therefore be consider larger than both\n",
    "    `q0**3*q1*q2`, `q0*q1**3*q2` and `q0*q1*q2**3`. Defaults to true.\n",
    "\n",
    "-   `sort_reverse`\n",
    "\n",
    "    Impose that polynomials are sorted by reverses lexicographical\n",
    "    sorting, meaning that `q0*q1**3` is considered smaller than\n",
    "    `q0**3*q1`, instead of the opposite. Defaults to false."
   ]
  },
  {
   "cell_type": "markdown",
   "metadata": {},
   "source": [
    "### Polynomial division\n",
    "\n",
    "Numerical division can be split into two variants: floor division\n",
    "([chaospy.floor_divide()](../../api/chaospy.floor_divide.rst)) and true\n",
    "division ([chaospy.true_divide()](../../api/chaospy.true_divide.rst)):"
   ]
  },
  {
   "cell_type": "code",
   "execution_count": 60,
   "metadata": {
    "execution": {
     "iopub.execute_input": "2021-05-18T10:56:23.989756Z",
     "iopub.status.busy": "2021-05-18T10:56:23.989496Z",
     "iopub.status.idle": "2021-05-18T10:56:23.997366Z",
     "shell.execute_reply": "2021-05-18T10:56:23.997031Z"
    }
   },
   "outputs": [
    {
     "data": {
      "text/plain": [
       "3.5"
      ]
     },
     "execution_count": 1,
     "metadata": {},
     "output_type": "execute_result"
    }
   ],
   "source": [
    "dividend = 7\n",
    "divisor = 2\n",
    "quotient_true = numpy.true_divide(dividend, divisor)\n",
    "quotient_true"
   ]
  },
  {
   "cell_type": "code",
   "execution_count": 61,
   "metadata": {
    "execution": {
     "iopub.execute_input": "2021-05-18T10:56:23.999249Z",
     "iopub.status.busy": "2021-05-18T10:56:23.998988Z",
     "iopub.status.idle": "2021-05-18T10:56:24.006759Z",
     "shell.execute_reply": "2021-05-18T10:56:24.006433Z"
    }
   },
   "outputs": [
    {
     "data": {
      "text/plain": [
       "3"
      ]
     },
     "execution_count": 1,
     "metadata": {},
     "output_type": "execute_result"
    }
   ],
   "source": [
    "quotient_floor = numpy.floor_divide(dividend, divisor)\n",
    "quotient_floor"
   ]
  },
  {
   "cell_type": "markdown",
   "metadata": {},
   "source": [
    "The discrepancy between the two can be captured by a remainder\n",
    "([chaospy.remainder()](../../api/chaospy.remainder.rst)), which allow us to\n",
    "more formally define them as follows:"
   ]
  },
  {
   "cell_type": "code",
   "execution_count": 62,
   "metadata": {
    "execution": {
     "iopub.execute_input": "2021-05-18T10:56:24.008756Z",
     "iopub.status.busy": "2021-05-18T10:56:24.008437Z",
     "iopub.status.idle": "2021-05-18T10:56:24.016062Z",
     "shell.execute_reply": "2021-05-18T10:56:24.015782Z"
    }
   },
   "outputs": [
    {
     "data": {
      "text/plain": [
       "1"
      ]
     },
     "execution_count": 1,
     "metadata": {},
     "output_type": "execute_result"
    }
   ],
   "source": [
    "remainder = numpy.remainder(dividend, divisor)\n",
    "remainder"
   ]
  },
  {
   "cell_type": "code",
   "execution_count": 63,
   "metadata": {
    "execution": {
     "iopub.execute_input": "2021-05-18T10:56:24.018102Z",
     "iopub.status.busy": "2021-05-18T10:56:24.017793Z",
     "iopub.status.idle": "2021-05-18T10:56:24.025205Z",
     "shell.execute_reply": "2021-05-18T10:56:24.025466Z"
    }
   },
   "outputs": [
    {
     "data": {
      "text/plain": [
       "True"
      ]
     },
     "execution_count": 1,
     "metadata": {},
     "output_type": "execute_result"
    }
   ],
   "source": [
    "dividend == quotient_floor*divisor+remainder"
   ]
  },
  {
   "cell_type": "code",
   "execution_count": 64,
   "metadata": {
    "execution": {
     "iopub.execute_input": "2021-05-18T10:56:24.027411Z",
     "iopub.status.busy": "2021-05-18T10:56:24.027099Z",
     "iopub.status.idle": "2021-05-18T10:56:24.034680Z",
     "shell.execute_reply": "2021-05-18T10:56:24.034936Z"
    }
   },
   "outputs": [
    {
     "data": {
      "text/plain": [
       "True"
      ]
     },
     "execution_count": 1,
     "metadata": {},
     "output_type": "execute_result"
    }
   ],
   "source": [
    "dividend == quotient_true*divisor"
   ]
  },
  {
   "cell_type": "markdown",
   "metadata": {},
   "source": [
    "In the case of polynomials, neither true nor floor division is supported\n",
    "like this. Instead it support its own kind of polynomial division\n",
    "[chaospy.poly_divide()](../../api/chaospy.poly_divide.rst). Polynomial\n",
    "division falls back to behave like floor division for all constants, as\n",
    "it does not round values:"
   ]
  },
  {
   "cell_type": "code",
   "execution_count": 65,
   "metadata": {
    "execution": {
     "iopub.execute_input": "2021-05-18T10:56:24.037172Z",
     "iopub.status.busy": "2021-05-18T10:56:24.036864Z",
     "iopub.status.idle": "2021-05-18T10:56:24.085744Z",
     "shell.execute_reply": "2021-05-18T10:56:24.085411Z"
    }
   },
   "outputs": [
    {
     "data": {
      "text/plain": [
       "polynomial(q0+1.0)"
      ]
     },
     "execution_count": 1,
     "metadata": {},
     "output_type": "execute_result"
    }
   ],
   "source": [
    "dividend = q0**2+q1\n",
    "divisor = q0-1\n",
    "quotient = chaospy.poly_divide(dividend, divisor)\n",
    "quotient"
   ]
  },
  {
   "cell_type": "markdown",
   "metadata": {},
   "source": [
    "However, like floor division, it can still have remainders using\n",
    "[chaospy.poly_remainder()](../../api/chaospy.poly_remainder.rst). For example:"
   ]
  },
  {
   "cell_type": "code",
   "execution_count": 66,
   "metadata": {
    "execution": {
     "iopub.execute_input": "2021-05-18T10:56:24.087677Z",
     "iopub.status.busy": "2021-05-18T10:56:24.087415Z",
     "iopub.status.idle": "2021-05-18T10:56:24.132308Z",
     "shell.execute_reply": "2021-05-18T10:56:24.131962Z"
    }
   },
   "outputs": [
    {
     "data": {
      "text/plain": [
       "polynomial(q1+1.0)"
      ]
     },
     "execution_count": 1,
     "metadata": {},
     "output_type": "execute_result"
    }
   ],
   "source": [
    "remainder = chaospy.poly_remainder(dividend, divisor)\n",
    "remainder"
   ]
  },
  {
   "cell_type": "code",
   "execution_count": 67,
   "metadata": {
    "execution": {
     "iopub.execute_input": "2021-05-18T10:56:24.134314Z",
     "iopub.status.busy": "2021-05-18T10:56:24.133996Z",
     "iopub.status.idle": "2021-05-18T10:56:24.148109Z",
     "shell.execute_reply": "2021-05-18T10:56:24.147770Z"
    }
   },
   "outputs": [
    {
     "data": {
      "text/plain": [
       "True"
      ]
     },
     "execution_count": 1,
     "metadata": {},
     "output_type": "execute_result"
    }
   ],
   "source": [
    "dividend == quotient*divisor+remainder"
   ]
  },
  {
   "cell_type": "markdown",
   "metadata": {},
   "source": [
    "In `numpy`, the \\\"Python syntactic sugar\\\" operators have the following\n",
    "behavior:\n",
    "\n",
    "-   `/` is used for true division\n",
    "    [chaospy.true_divide()](../../api/chaospy.true_divide.rst).\n",
    "-   `//` is used for floor division\n",
    "    [chaospy.floor_divide()](../../api/chaospy.floor_divide.rst).\n",
    "-   `%` is used for remainder [chaospy.remainder()](../../api/chaospy.remainder.rst).\n",
    "-   `divmod` is used for floor division and remainder in combination to\n",
    "    save computational cost through [chaospy.divmod()](../../api/chaospy.divmod.rst).\n",
    "\n",
    "In `chaospy`, which takes precedence if any of the values are of\n",
    "[chaospy.ndpoly](../../api/chaospy.ndpoly.rst) objects, take the\n",
    "following behavior:\n",
    "\n",
    "-   `/` is used for polynomial division\n",
    "    [chaospy.poly_divide()](../../api/chaospy.poly_divide.rst), which is not\n",
    "    compatible with [numpy](https://numpy.org/doc/stable).\n",
    "-   `//` is still used for floor division\n",
    "    [chaospy.floor_divide()](../../api/chaospy.floor_divide.rst) which is\n",
    "    compatible with [numpy](https://numpy.org/doc/stable), and only\n",
    "    works if divisor is a constant.\n",
    "-   `%` is used for polynomial remainder\n",
    "    [chaospy.poly_remainder()](../../api/chaospy.poly_remainder.rst), which is\n",
    "    not backwards compatible.\n",
    "-   `divmod` uses [chaospy.poly_divmod()](../../api/chaospy.poly_divmod.rst)\n",
    "    which is used to save computation cost by doing\n",
    "    [chaospy.poly_divide()](../../api/chaospy.poly_divide.rst) and\n",
    "    [chaospy.remainder()](../../api/chaospy.remainder.rst) at the same time."
   ]
  }
 ],
 "metadata": {
  "jupytext": {
   "formats": "ipynb,py:percent"
  },
  "kernelspec": {
   "display_name": "Python 3",
   "language": "python",
   "name": "python3"
  },
  "language_info": {
   "codemirror_mode": {
    "name": "ipython",
    "version": 3
   },
   "file_extension": ".py",
   "mimetype": "text/x-python",
   "name": "python",
   "nbconvert_exporter": "python",
   "pygments_lexer": "ipython3",
   "version": "3.9.5"
  }
 },
 "nbformat": 4,
 "nbformat_minor": 4
}
