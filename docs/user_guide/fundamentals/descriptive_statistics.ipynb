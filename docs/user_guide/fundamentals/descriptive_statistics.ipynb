{
 "cells": [
  {
   "cell_type": "markdown",
   "metadata": {},
   "source": [
    "## Descriptive statistics\n",
    "\n",
    "Acknowledging that variables and models are uncertain assumes that we directly or indirectly can describe them through probability distributions.\n",
    "However for most applications the distribution is a messy entity that on its own is hard to interpret directly.\n",
    "So instead, we use statistical metrics designed to summarize distribution and to get an intuitive understanding of its statistical properties. \n",
    "\n",
    "In addition, for each statistical property, there almost always exists an empirical counterpart that works as a best estimate of said statistical property in the scenarios where only data is available.\n",
    "This is important, as [Monte Carlo integration](../main_usage/monte_carlo_integration.ipynb) isn't possible without the empirical metrics used to describe the results.\n",
    "\n",
    "This section takes a look at some popular statistical metrics and compares them to their empirical counterparts."
   ]
  },
  {
   "cell_type": "markdown",
   "metadata": {},
   "source": [
    "### Expected value\n",
    "\n",
    "Take for example the most common metric, the expected value function [chaospy.E()](../../api/chaospy.E.rst).\n",
    "This operator works on any distribution:"
   ]
  },
  {
   "cell_type": "code",
   "execution_count": 1,
   "metadata": {
    "execution": {
     "iopub.execute_input": "2021-05-18T10:56:01.067856Z",
     "iopub.status.busy": "2021-05-18T10:56:01.067499Z",
     "iopub.status.idle": "2021-05-18T10:56:01.084604Z",
     "shell.execute_reply": "2021-05-18T10:56:01.084210Z"
    }
   },
   "outputs": [
    {
     "data": {
      "text/plain": [
       "array(2.)"
      ]
     },
     "execution_count": 1,
     "metadata": {},
     "output_type": "execute_result"
    }
   ],
   "source": [
    "import chaospy\n",
    "\n",
    "uniform = chaospy.Uniform(0, 4)\n",
    "chaospy.E(uniform)"
   ]
  },
  {
   "cell_type": "markdown",
   "metadata": {},
   "source": [
    "Its empirical counterpart is the mean function: $\\bar X=\\tfrac 1N \\sum X_i$.\n",
    "This function is available as `numpy.mean` and can be used on samples generated from said distribution:"
   ]
  },
  {
   "cell_type": "code",
   "execution_count": 2,
   "metadata": {
    "execution": {
     "iopub.execute_input": "2021-05-18T10:56:01.087169Z",
     "iopub.status.busy": "2021-05-18T10:56:01.086768Z",
     "iopub.status.idle": "2021-05-18T10:56:01.285412Z",
     "shell.execute_reply": "2021-05-18T10:56:01.285053Z"
    }
   },
   "outputs": [
    {
     "data": {
      "text/plain": [
       "1.9997276896715797"
      ]
     },
     "execution_count": 1,
     "metadata": {},
     "output_type": "execute_result"
    }
   ],
   "source": [
    "samples = uniform.sample(1e7)\n",
    "numpy.mean(samples)"
   ]
  },
  {
   "cell_type": "markdown",
   "metadata": {},
   "source": [
    "The operator can also be used on any polynomial, but would then require the distribution of interest as a second argument:"
   ]
  },
  {
   "cell_type": "code",
   "execution_count": 3,
   "metadata": {
    "execution": {
     "iopub.execute_input": "2021-05-18T10:56:01.287469Z",
     "iopub.status.busy": "2021-05-18T10:56:01.287200Z",
     "iopub.status.idle": "2021-05-18T10:56:01.312749Z",
     "shell.execute_reply": "2021-05-18T10:56:01.312407Z"
    }
   },
   "outputs": [
    {
     "data": {
      "text/plain": [
       "array(15.)"
      ]
     },
     "execution_count": 1,
     "metadata": {},
     "output_type": "execute_result"
    }
   ],
   "source": [
    "q0 = chaospy.variable()\n",
    "\n",
    "chaospy.E(q0**3-1, uniform)"
   ]
  },
  {
   "cell_type": "markdown",
   "metadata": {},
   "source": [
    "In the multivariate case, the distribution and the polynomials needs to coincide politically.\n",
    "E.g."
   ]
  },
  {
   "cell_type": "code",
   "execution_count": 4,
   "metadata": {
    "execution": {
     "iopub.execute_input": "2021-05-18T10:56:01.315393Z",
     "iopub.status.busy": "2021-05-18T10:56:01.315074Z",
     "iopub.status.idle": "2021-05-18T10:56:01.347365Z",
     "shell.execute_reply": "2021-05-18T10:56:01.347025Z"
    }
   },
   "outputs": [
    {
     "data": {
      "text/plain": [
       "array([0., 2.])"
      ]
     },
     "execution_count": 1,
     "metadata": {},
     "output_type": "execute_result"
    }
   ],
   "source": [
    "q0, q1, q2 = chaospy.variable(3)\n",
    "joint3 = chaospy.J(chaospy.Normal(0, 1), chaospy.Uniform(0, 2), chaospy.Normal(2, 2))\n",
    "\n",
    "chaospy.E([q0, q1*q2], joint3)"
   ]
  },
  {
   "cell_type": "markdown",
   "metadata": {},
   "source": [
    "Here `q0`, `q1` and `q2` correspond to `chaospy.Normal(0, 1)`, `chaospy.Uniform(0, 2)` and `chaospy.Normal(2, 2)` respectively.\n",
    "It is the variable name position and distribution length that matters here, not the shape of what is being taken the expected value of.\n",
    "\n",
    "Note also that the model approximations created by e.g. [chaospy.fit_regression()](../../api/chaospy.fit_regression.rst) and [chaospy.fit_quadrature()](../../api/chaospy.fit_quadrature.rst) also are valid polynomials."
   ]
  },
  {
   "cell_type": "markdown",
   "metadata": {},
   "source": [
    "### Higher order moments\n",
    "\n",
    "In addition to the expected value there is also higher order statistics that work in the same way.\n",
    "They are with their numpy and scipy empirical counterparts:\n",
    "\n",
    "Name              | `chaospy`                                    | `numpy` or `scipy`\n",
    "---               | ---                                          | ---\n",
    "Variance          | [chaospy.Var()](../../api/chaospy.Var.rst)   | `numpy.var`\n",
    "Standard deviation| [chaospy.Std()](../../api/chaospy.Std.rst)   | `numpy.std`\n",
    "Covariance        | [chaospy.Cov()](../../api/chaospy.Cov.rst)   | `numpy.cov`\n",
    "Correlation       | [chaospy.Corr()](../../api/chaospy.Corr.rst) | `numpy.corrcoef`\n",
    "Skewness          | [chaospy.Skew()](../../api/chaospy.Skew.rst) | `scipy.stats.skew`\n",
    "Kurtosis          | [chaospy.Kurt()](../../api/chaospy.Kurt.rst) | `scipy.stats.kurtosis`\n",
    "\n",
    "For example (Pearson's) correlation:"
   ]
  },
  {
   "cell_type": "code",
   "execution_count": 5,
   "metadata": {
    "execution": {
     "iopub.execute_input": "2021-05-18T10:56:01.349489Z",
     "iopub.status.busy": "2021-05-18T10:56:01.349165Z",
     "iopub.status.idle": "2021-05-18T10:56:01.381986Z",
     "shell.execute_reply": "2021-05-18T10:56:01.381645Z"
    }
   },
   "outputs": [
    {
     "data": {
      "text/plain": [
       "array([[1.        , 0.70710678],\n",
       "       [0.70710678, 1.        ]])"
      ]
     },
     "execution_count": 1,
     "metadata": {},
     "output_type": "execute_result"
    }
   ],
   "source": [
    "chaospy.Corr([q0, q0*q2], joint3)"
   ]
  },
  {
   "cell_type": "markdown",
   "metadata": {},
   "source": [
    "### Conditional mean\n",
    "\n",
    "The conditional expected value [chaospy.E_cond()](../../api/chaospy.E_cond.rst) is similar to the more conventional [chaospy.E()](../../api/chaospy.E.rst), but differs in that it supports partial conditioning.\n",
    "In other words it is possible to \"freeze\" some of the variables and only evaluate the others.\n",
    "For example:"
   ]
  },
  {
   "cell_type": "code",
   "execution_count": 6,
   "metadata": {
    "execution": {
     "iopub.execute_input": "2021-05-18T10:56:01.384172Z",
     "iopub.status.busy": "2021-05-18T10:56:01.383857Z",
     "iopub.status.idle": "2021-05-18T10:56:01.440688Z",
     "shell.execute_reply": "2021-05-18T10:56:01.440960Z"
    }
   },
   "outputs": [
    {
     "data": {
      "text/plain": [
       "polynomial([q0, 2.0])"
      ]
     },
     "execution_count": 1,
     "metadata": {},
     "output_type": "execute_result"
    }
   ],
   "source": [
    "chaospy.E_cond([q0, q1*q2], q0, joint3)"
   ]
  },
  {
   "cell_type": "code",
   "execution_count": 7,
   "metadata": {
    "execution": {
     "iopub.execute_input": "2021-05-18T10:56:01.443080Z",
     "iopub.status.busy": "2021-05-18T10:56:01.442763Z",
     "iopub.status.idle": "2021-05-18T10:56:01.500170Z",
     "shell.execute_reply": "2021-05-18T10:56:01.499832Z"
    }
   },
   "outputs": [
    {
     "data": {
      "text/plain": [
       "polynomial([0.0, 2.0*q1])"
      ]
     },
     "execution_count": 1,
     "metadata": {},
     "output_type": "execute_result"
    }
   ],
   "source": [
    "chaospy.E_cond([q0, q1*q2], q1, joint3)"
   ]
  },
  {
   "cell_type": "code",
   "execution_count": 8,
   "metadata": {
    "execution": {
     "iopub.execute_input": "2021-05-18T10:56:01.502328Z",
     "iopub.status.busy": "2021-05-18T10:56:01.502006Z",
     "iopub.status.idle": "2021-05-18T10:56:01.558041Z",
     "shell.execute_reply": "2021-05-18T10:56:01.558311Z"
    }
   },
   "outputs": [
    {
     "data": {
      "text/plain": [
       "polynomial([0.0, q1*q2])"
      ]
     },
     "execution_count": 1,
     "metadata": {},
     "output_type": "execute_result"
    }
   ],
   "source": [
    "chaospy.E_cond([q0, q1*q2], [q1, q2], joint3)"
   ]
  },
  {
   "cell_type": "markdown",
   "metadata": {},
   "source": [
    "### Sensitivity analysis\n",
    "\n",
    "Variance-based sensitivity analysis (often referred to as the Sobol method or Sobol indices) is a form of global sensitivity analysis. Working within a probabilistic framework, it decomposes the variance of the output of the model or system into fractions which can be attributed to inputs or sets of inputs. Read more in for example [Wikipedia](https://en.wikipedia.org/wiki/Variance-based_sensitivity_analysis).\n",
    "\n",
    "In `chaospy`, the three functions are available:\n",
    "\n",
    "Name          | `chaospy` function\n",
    "---           | ---\n",
    "1. order main | [chaospy.Sens_m](../../api/chaospy.Sens_m.rst)\n",
    "2. order main | [chaospy.Sens_m2](../../api/chaospy.Sens_m.rst)\n",
    "total order   | [chaospy.Sens_m2](../../api/chaospy.Sens_m.rst)\n",
    "\n",
    "For example:"
   ]
  },
  {
   "cell_type": "code",
   "execution_count": 9,
   "metadata": {
    "execution": {
     "iopub.execute_input": "2021-05-18T10:56:01.560571Z",
     "iopub.status.busy": "2021-05-18T10:56:01.560261Z",
     "iopub.status.idle": "2021-05-18T10:56:01.832381Z",
     "shell.execute_reply": "2021-05-18T10:56:01.832655Z"
    }
   },
   "outputs": [
    {
     "data": {
      "text/plain": [
       "array([0.8372093 , 0.06976744, 0.09302326])"
      ]
     },
     "execution_count": 1,
     "metadata": {},
     "output_type": "execute_result"
    }
   ],
   "source": [
    "chaospy.Sens_m(6*q0+3*q1+q2, joint3)"
   ]
  },
  {
   "cell_type": "code",
   "execution_count": 10,
   "metadata": {
    "execution": {
     "iopub.execute_input": "2021-05-18T10:56:01.834716Z",
     "iopub.status.busy": "2021-05-18T10:56:01.834408Z",
     "iopub.status.idle": "2021-05-18T10:56:02.160349Z",
     "shell.execute_reply": "2021-05-18T10:56:02.160054Z"
    }
   },
   "outputs": [
    {
     "data": {
      "text/plain": [
       "array([[0.        , 0.04166667, 0.        ],\n",
       "       [0.04166667, 0.        , 0.16666667],\n",
       "       [0.        , 0.16666667, 0.        ]])"
      ]
     },
     "execution_count": 1,
     "metadata": {},
     "output_type": "execute_result"
    }
   ],
   "source": [
    "chaospy.Sens_m2(q0*q1+q1*q2, joint3)"
   ]
  },
  {
   "cell_type": "code",
   "execution_count": 11,
   "metadata": {
    "execution": {
     "iopub.execute_input": "2021-05-18T10:56:02.162430Z",
     "iopub.status.busy": "2021-05-18T10:56:02.162112Z",
     "iopub.status.idle": "2021-05-18T10:56:02.423862Z",
     "shell.execute_reply": "2021-05-18T10:56:02.423530Z"
    }
   },
   "outputs": [
    {
     "data": {
      "text/plain": [
       "array([0.8372093 , 0.06976744, 0.09302326])"
      ]
     },
     "execution_count": 1,
     "metadata": {},
     "output_type": "execute_result"
    }
   ],
   "source": [
    "chaospy.Sens_t(6*q0+3*q1+q2, joint3)"
   ]
  },
  {
   "cell_type": "markdown",
   "metadata": {},
   "source": [
    "There are no direct empirical counterparts to these functions, but it is possible to create schemes using for example [Saltelli's method](https://www.sciencedirect.com/science/article/abs/pii/S0010465502002801)."
   ]
  },
  {
   "cell_type": "markdown",
   "metadata": {},
   "source": [
    "### Percentile\n",
    "\n",
    "Calculating a closed form percentile of a multivariate polynomial is not feasible.\n",
    "As such, `chaospy` does not calculate it.\n",
    "However, as a matter of convenience, a simple function wrapper [chaospy.Perc()](../../api/chaospy.Perc.rst) that calculate said values using Monte Carlo integration is provided.\n",
    "For example:"
   ]
  },
  {
   "cell_type": "code",
   "execution_count": 12,
   "metadata": {
    "execution": {
     "iopub.execute_input": "2021-05-18T10:56:02.426176Z",
     "iopub.status.busy": "2021-05-18T10:56:02.425866Z",
     "iopub.status.idle": "2021-05-18T10:56:02.439694Z",
     "shell.execute_reply": "2021-05-18T10:56:02.439351Z"
    }
   },
   "outputs": [
    {
     "data": {
      "text/plain": [
       "array([[-0.68697501,  0.21743063],\n",
       "       [ 0.0506567 ,  1.38448851],\n",
       "       [ 0.75070447,  3.40628725]])"
      ]
     },
     "execution_count": 1,
     "metadata": {},
     "output_type": "execute_result"
    }
   ],
   "source": [
    "chaospy.Perc([q0, q1*q2], [25, 50, 75], joint3, sample=1000, seed=1234)"
   ]
  },
  {
   "cell_type": "markdown",
   "metadata": {},
   "source": [
    "Note that the accuracy of this method is dependent on the number of samples."
   ]
  },
  {
   "cell_type": "markdown",
   "metadata": {},
   "source": [
    "### Quantity of interest\n",
    "\n",
    "If you want to interpret the model approximation as a distribution for further second order analysis, this is possible through the [chaospy.QoI_Dist](../../api/chaospy.QoI_Dist.rst).\n",
    "This is a thin wrapper function that generates samples and pass them to the kernel density estimation class [chaospy.GaussianKDE()](../../api/chaospy.GaussianKDE.rst).\n",
    "It works as follows:"
   ]
  },
  {
   "cell_type": "code",
   "execution_count": 13,
   "metadata": {
    "execution": {
     "iopub.execute_input": "2021-05-18T10:56:02.441838Z",
     "iopub.status.busy": "2021-05-18T10:56:02.441523Z",
     "iopub.status.idle": "2021-05-18T10:56:02.516343Z",
     "shell.execute_reply": "2021-05-18T10:56:02.516035Z"
    }
   },
   "outputs": [
    {
     "data": {
      "text/plain": [
       "array([-0.006853,  2.69112 ,  1.633062,  3.810936,  3.766989,  0.614768])"
      ]
     },
     "execution_count": 1,
     "metadata": {},
     "output_type": "execute_result"
    }
   ],
   "source": [
    "new_dist = chaospy.QoI_Dist(q0*q1+q2, joint3)\n",
    "new_dist.sample(6, seed=1234).round(6)"
   ]
  }
 ],
 "metadata": {
  "jupytext": {
   "formats": "ipynb,py:percent"
  },
  "kernelspec": {
   "display_name": "Python 3",
   "language": "python",
   "name": "python3"
  },
  "language_info": {
   "codemirror_mode": {
    "name": "ipython",
    "version": 3
   },
   "file_extension": ".py",
   "mimetype": "text/x-python",
   "name": "python",
   "nbconvert_exporter": "python",
   "pygments_lexer": "ipython3",
   "version": "3.9.5"
  }
 },
 "nbformat": 4,
 "nbformat_minor": 4
}
