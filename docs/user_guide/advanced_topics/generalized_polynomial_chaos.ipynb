{
 "cells": [
  {
   "cell_type": "markdown",
   "metadata": {},
   "source": [
    "## Generalized polynomial chaos\n",
    "\n",
    "Generalized polynomial chaos is an advanced polynomial chaos method for\n",
    "dealing with problematic random variables. The problems it deals with include\n",
    "heavy tailed distributions (like Log-normal, Cauchy, etc.) which breaks\n",
    "premises for using chaos expansion as approximations, and stochastic\n",
    "dependencies, which there currently does not exist numerically stable method\n",
    "for creating. Let us consider an synthetic exponential model than encompasses\n",
    "both issues by using a multivariate log-normal distribution for its\n",
    "uncertainty:"
   ]
  },
  {
   "cell_type": "code",
   "execution_count": 1,
   "metadata": {
    "execution": {
     "iopub.execute_input": "2021-05-18T10:57:14.662194Z",
     "iopub.status.busy": "2021-05-18T10:57:14.661828Z",
     "iopub.status.idle": "2021-05-18T10:57:14.669124Z",
     "shell.execute_reply": "2021-05-18T10:57:14.669393Z"
    }
   },
   "outputs": [],
   "source": [
    "import numpy\n",
    "import chaospy\n",
    "\n",
    "coordinates = numpy.linspace(0, 10, 1000)\n",
    "\n",
    "\n",
    "def exponential_model(parameters):\n",
    "    initial, rate = parameters\n",
    "    return initial*numpy.e**(-rate*coordinates)\n",
    "\n",
    "\n",
    "distribution = chaospy.MvNormal(mu=[10, 1], sigma=[[1.0, 0.09], [0.09, 0.1]])"
   ]
  },
  {
   "cell_type": "markdown",
   "metadata": {},
   "source": [
    "We are interested in the mean and standard deviation."
   ]
  },
  {
   "cell_type": "markdown",
   "metadata": {},
   "source": [
    "### Monte Carlo integration\n",
    "\n",
    "As a baseline we can solve this using quasi-Monte Carlo integration. It\n",
    "requires no modification compared to the stochastic independent case. It\n",
    "consists of generating samples:"
   ]
  },
  {
   "cell_type": "code",
   "execution_count": 2,
   "metadata": {
    "execution": {
     "iopub.execute_input": "2021-05-18T10:57:14.671634Z",
     "iopub.status.busy": "2021-05-18T10:57:14.671321Z",
     "iopub.status.idle": "2021-05-18T10:57:14.961289Z",
     "shell.execute_reply": "2021-05-18T10:57:14.960818Z"
    }
   },
   "outputs": [],
   "source": [
    "samples = distribution.sample(10**5, rule=\"sobol\")"
   ]
  },
  {
   "cell_type": "markdown",
   "metadata": {},
   "source": [
    "evaluate model for each sample:"
   ]
  },
  {
   "cell_type": "code",
   "execution_count": 3,
   "metadata": {
    "execution": {
     "iopub.execute_input": "2021-05-18T10:57:14.964481Z",
     "iopub.status.busy": "2021-05-18T10:57:14.964040Z",
     "iopub.status.idle": "2021-05-18T10:57:17.161797Z",
     "shell.execute_reply": "2021-05-18T10:57:17.161507Z"
    }
   },
   "outputs": [],
   "source": [
    "evaluations = numpy.array([exponential_model(sample) for sample in samples.T])"
   ]
  },
  {
   "cell_type": "markdown",
   "metadata": {},
   "source": [
    "and performing analysis on samples:"
   ]
  },
  {
   "cell_type": "code",
   "execution_count": 4,
   "metadata": {
    "execution": {
     "iopub.execute_input": "2021-05-18T10:57:17.164282Z",
     "iopub.status.busy": "2021-05-18T10:57:17.163970Z",
     "iopub.status.idle": "2021-05-18T10:57:17.453255Z",
     "shell.execute_reply": "2021-05-18T10:57:17.452918Z"
    }
   },
   "outputs": [
    {
     "data": {
      "text/plain": [
       "(array([9.99998, 9.89953, 9.8002 , 9.70195, 9.60479]),\n",
       " array([0.9999 , 0.9815 , 0.96431, 0.94833, 0.93353]))"
      ]
     },
     "execution_count": 1,
     "metadata": {},
     "output_type": "execute_result"
    }
   ],
   "source": [
    "mean = numpy.mean(evaluations, axis=0)\n",
    "std = numpy.std(evaluations, axis=0)\n",
    "\n",
    "(mean[:5].round(5), std[:5].round(5))"
   ]
  },
  {
   "cell_type": "markdown",
   "metadata": {},
   "source": [
    "We can also plot the final result:"
   ]
  },
  {
   "cell_type": "code",
   "execution_count": 5,
   "metadata": {
    "execution": {
     "iopub.execute_input": "2021-05-18T10:57:17.455620Z",
     "iopub.status.busy": "2021-05-18T10:57:17.455300Z",
     "iopub.status.idle": "2021-05-18T10:57:17.515914Z",
     "shell.execute_reply": "2021-05-18T10:57:17.515560Z"
    }
   },
   "outputs": [
    {
     "data": {
      "image/png": "[encoded data removed]",
      "text/plain": [
       "<Figure size 432x288 with 1 Axes>"
      ]
     },
     "metadata": {
      "needs_background": "light"
     },
     "output_type": "display_data"
    }
   ],
   "source": [
    "from matplotlib import pyplot\n",
    "\n",
    "pyplot.fill_between(coordinates, mean-std, mean+std, alpha=0.6)\n",
    "pyplot.plot(coordinates, mean)\n",
    "\n",
    "pyplot.axis([0, 6, 0, 10])\n",
    "\n",
    "pyplot.show()"
   ]
  },
  {
   "cell_type": "markdown",
   "metadata": {},
   "source": [
    "### Generalized polynomial chaos\n",
    "\n",
    "Polynomial chaos expansions builds on the assumption of having an orthogonal\n",
    "polynomial expansion. However, the classical extension to the multivariate\n",
    "case assumes that the probability distribution consist of stochastic\n",
    "independent components. If the distribution has dependencies, the classical\n",
    "approach will not work.\n",
    "\n",
    "The recommended approach for addressing dependent distribution is to use\n",
    "*generalized polynomial chaos expansion* (g-pce). It assumes that there\n",
    "exists a smooth map $T$ between the dependent variables $Q$ and some other\n",
    "stochastic independent variables $R$, which we can build an expansion for. In\n",
    "other words:\n",
    "\n",
    "$$\n",
    "\\hat u(x, q) = \\hat u(x, T(r)) = \\sum_{n=0}^N c_n \\Phi_n(r)\n",
    "$$\n",
    "\n",
    "For multivariate normal distributions, the obvious choice is to select $R$ to\n",
    "be standard normal:"
   ]
  },
  {
   "cell_type": "code",
   "execution_count": 6,
   "metadata": {
    "execution": {
     "iopub.execute_input": "2021-05-18T10:57:17.518137Z",
     "iopub.status.busy": "2021-05-18T10:57:17.517822Z",
     "iopub.status.idle": "2021-05-18T10:57:17.524783Z",
     "shell.execute_reply": "2021-05-18T10:57:17.525043Z"
    }
   },
   "outputs": [],
   "source": [
    "distribution_q = distribution\n",
    "distribution_r = chaospy.J(chaospy.Normal(0, 1), chaospy.Normal(0, 1))"
   ]
  },
  {
   "cell_type": "markdown",
   "metadata": {},
   "source": [
    "The $T$ is defined as a double Rosenblatt transformation:\n",
    "\n",
    "$$\n",
    "T(r) = F_Q^{-1}\\left( F_R(r) \\right)\n",
    "$$\n",
    "\n",
    "which in `chaospy` can be constructed as follows:"
   ]
  },
  {
   "cell_type": "code",
   "execution_count": 7,
   "metadata": {
    "execution": {
     "iopub.execute_input": "2021-05-18T10:57:17.527222Z",
     "iopub.status.busy": "2021-05-18T10:57:17.526910Z",
     "iopub.status.idle": "2021-05-18T10:57:17.533794Z",
     "shell.execute_reply": "2021-05-18T10:57:17.533529Z"
    }
   },
   "outputs": [],
   "source": [
    "def transform(samples):\n",
    "    return distribution_q.inv(distribution_r.fwd(samples))"
   ]
  },
  {
   "cell_type": "markdown",
   "metadata": {},
   "source": [
    "This formulation is general and can be used with any two distributions of the\n",
    "same size."
   ]
  },
  {
   "cell_type": "markdown",
   "metadata": {},
   "source": [
    "### Point collocation method\n",
    "\n",
    "Implementing g-pce for point collocation require us to generate samples from\n",
    "$R$ and transform them using $T$:"
   ]
  },
  {
   "cell_type": "code",
   "execution_count": 8,
   "metadata": {
    "execution": {
     "iopub.execute_input": "2021-05-18T10:57:17.536135Z",
     "iopub.status.busy": "2021-05-18T10:57:17.535823Z",
     "iopub.status.idle": "2021-05-18T10:57:17.547092Z",
     "shell.execute_reply": "2021-05-18T10:57:17.546787Z"
    }
   },
   "outputs": [],
   "source": [
    "samples_r = distribution_r.sample(1000, rule=\"sobol\")\n",
    "samples_q = transform(samples_r)"
   ]
  },
  {
   "cell_type": "markdown",
   "metadata": {},
   "source": [
    "The resulting samples can then be used to solve the equation above using\n",
    "regression-based method:"
   ]
  },
  {
   "cell_type": "code",
   "execution_count": 9,
   "metadata": {
    "execution": {
     "iopub.execute_input": "2021-05-18T10:57:17.549367Z",
     "iopub.status.busy": "2021-05-18T10:57:17.549048Z",
     "iopub.status.idle": "2021-05-18T10:57:18.215632Z",
     "shell.execute_reply": "2021-05-18T10:57:18.215909Z"
    }
   },
   "outputs": [],
   "source": [
    "expansion = chaospy.generate_expansion(7, distribution_r)\n",
    "evaluations = numpy.array([exponential_model(sample) for sample in samples_q.T])\n",
    "model_approx = chaospy.fit_regression(expansion, samples_r, evaluations)"
   ]
  },
  {
   "cell_type": "markdown",
   "metadata": {},
   "source": [
    "Note that for generating the expansion and the model approximation, we use\n",
    "the distribution from $R$, while for the model evaluation we use the\n",
    "transformed samples from $Q$.\n",
    "\n",
    "The solution model can then be used to do analysis. Just remember that the\n",
    "model is defined with respect to $R$, not $Q$:"
   ]
  },
  {
   "cell_type": "code",
   "execution_count": 10,
   "metadata": {
    "execution": {
     "iopub.execute_input": "2021-05-18T10:57:18.218216Z",
     "iopub.status.busy": "2021-05-18T10:57:18.217900Z",
     "iopub.status.idle": "2021-05-18T10:57:18.754789Z",
     "shell.execute_reply": "2021-05-18T10:57:18.754501Z"
    }
   },
   "outputs": [
    {
     "data": {
      "text/plain": [
       "(array([10.     ,  9.89956,  9.80022,  9.70198,  9.60482]),\n",
       " array([1.     , 0.98159, 0.9644 , 0.94841, 0.93361]))"
      ]
     },
     "execution_count": 1,
     "metadata": {},
     "output_type": "execute_result"
    }
   ],
   "source": [
    "mean = chaospy.E(model_approx, distribution_r)\n",
    "std = chaospy.Std(model_approx, distribution_r)\n",
    "\n",
    "(mean[:5].round(5), std[:5].round(5))"
   ]
  },
  {
   "cell_type": "markdown",
   "metadata": {},
   "source": [
    "Plotting the final results:"
   ]
  },
  {
   "cell_type": "code",
   "execution_count": 11,
   "metadata": {
    "execution": {
     "iopub.execute_input": "2021-05-18T10:57:18.757297Z",
     "iopub.status.busy": "2021-05-18T10:57:18.756984Z",
     "iopub.status.idle": "2021-05-18T10:57:18.811062Z",
     "shell.execute_reply": "2021-05-18T10:57:18.811325Z"
    }
   },
   "outputs": [
    {
     "data": {
      "image/png": "[encoded data removed]",
      "text/plain": [
       "<Figure size 432x288 with 1 Axes>"
      ]
     },
     "metadata": {
      "needs_background": "light"
     },
     "output_type": "display_data"
    }
   ],
   "source": [
    "pyplot.fill_between(coordinates, mean-std, mean+std, alpha=0.6)\n",
    "pyplot.plot(coordinates, mean)\n",
    "\n",
    "pyplot.axis([0, 6, 0, 10])\n",
    "\n",
    "pyplot.show()"
   ]
  },
  {
   "cell_type": "markdown",
   "metadata": {},
   "source": [
    "### Pseudo-spectral projection\n",
    "\n",
    "Implementing g-pce for pseudo-spectral projection require us to generate\n",
    "nodes and weights from $R$ and transform the nodes using $T$:"
   ]
  },
  {
   "cell_type": "code",
   "execution_count": 12,
   "metadata": {
    "execution": {
     "iopub.execute_input": "2021-05-18T10:57:18.813711Z",
     "iopub.status.busy": "2021-05-18T10:57:18.813389Z",
     "iopub.status.idle": "2021-05-18T10:57:19.008625Z",
     "shell.execute_reply": "2021-05-18T10:57:19.008280Z"
    }
   },
   "outputs": [],
   "source": [
    "nodes_r, weights_r = chaospy.generate_quadrature(10, distribution_r, rule=\"gaussian\")\n",
    "nodes_q = transform(nodes_r)"
   ]
  },
  {
   "cell_type": "markdown",
   "metadata": {},
   "source": [
    "The resulting samples can then be used to solve the equation above using the\n",
    "quadrature-based method:"
   ]
  },
  {
   "cell_type": "code",
   "execution_count": 13,
   "metadata": {
    "execution": {
     "iopub.execute_input": "2021-05-18T10:57:19.010969Z",
     "iopub.status.busy": "2021-05-18T10:57:19.010656Z",
     "iopub.status.idle": "2021-05-18T10:57:19.639804Z",
     "shell.execute_reply": "2021-05-18T10:57:19.639438Z"
    }
   },
   "outputs": [],
   "source": [
    "expansion = chaospy.generate_expansion(7, distribution_r)\n",
    "evaluations = numpy.array([exponential_model(sample) for sample in nodes_q.T])\n",
    "model_approx = chaospy.fit_quadrature(expansion, nodes_r, weights_r, evaluations)"
   ]
  },
  {
   "cell_type": "markdown",
   "metadata": {},
   "source": [
    "Note that for generating the expansion and the model approximation, we use\n",
    "the nodes and weights from $R$, while for the model evaluation we use the\n",
    "transformed samples from $Q$.\n",
    "\n",
    "The solution model, defined with respect to $R$ can then be used to do\n",
    "analysis:"
   ]
  },
  {
   "cell_type": "code",
   "execution_count": 14,
   "metadata": {
    "execution": {
     "iopub.execute_input": "2021-05-18T10:57:19.642216Z",
     "iopub.status.busy": "2021-05-18T10:57:19.641864Z",
     "iopub.status.idle": "2021-05-18T10:57:19.688007Z",
     "shell.execute_reply": "2021-05-18T10:57:19.687722Z"
    }
   },
   "outputs": [
    {
     "data": {
      "text/plain": [
       "(array([10.     ,  9.89956,  9.80022,  9.70198,  9.60482]),\n",
       " array([1.     , 0.98159, 0.9644 , 0.94841, 0.93361]))"
      ]
     },
     "execution_count": 1,
     "metadata": {},
     "output_type": "execute_result"
    }
   ],
   "source": [
    "mean = chaospy.E(model_approx, distribution_r)\n",
    "std = chaospy.Std(model_approx, distribution_r)\n",
    "\n",
    "(mean[:5].round(5), std[:5].round(5))"
   ]
  },
  {
   "cell_type": "markdown",
   "metadata": {},
   "source": [
    "Plotting the final results:"
   ]
  },
  {
   "cell_type": "code",
   "execution_count": 15,
   "metadata": {
    "execution": {
     "iopub.execute_input": "2021-05-18T10:57:19.690342Z",
     "iopub.status.busy": "2021-05-18T10:57:19.690028Z",
     "iopub.status.idle": "2021-05-18T10:57:19.743903Z",
     "shell.execute_reply": "2021-05-18T10:57:19.743593Z"
    }
   },
   "outputs": [
    {
     "data": {
      "image/png": "[encoded data removed]",
      "text/plain": [
       "<Figure size 432x288 with 1 Axes>"
      ]
     },
     "metadata": {
      "needs_background": "light"
     },
     "output_type": "display_data"
    }
   ],
   "source": [
    "pyplot.fill_between(coordinates, mean-std, mean+std, alpha=0.6)\n",
    "pyplot.plot(coordinates, mean)\n",
    "\n",
    "pyplot.axis([0, 6, 0, 10])\n",
    "\n",
    "pyplot.show()"
   ]
  },
  {
   "cell_type": "markdown",
   "metadata": {},
   "source": [
    "### Cholesky decomposition\n",
    "\n",
    "The assumption with generalized polynomial chaos expansion is that there\n",
    "exists a smooth mapping to a stochastic independent variable. However, such a\n",
    "mapping does not always exists. In those cases making an orthogonal expansion\n",
    "directly on the dependent variable using Cholesky decomposition. This can be\n",
    "done as follows:"
   ]
  },
  {
   "cell_type": "code",
   "execution_count": 16,
   "metadata": {
    "execution": {
     "iopub.execute_input": "2021-05-18T10:57:19.746111Z",
     "iopub.status.busy": "2021-05-18T10:57:19.745795Z",
     "iopub.status.idle": "2021-05-18T10:57:19.835661Z",
     "shell.execute_reply": "2021-05-18T10:57:19.836266Z"
    }
   },
   "outputs": [
    {
     "data": {
      "text/plain": [
       "polynomial([1.0, q1-1.0, -0.9*q1+q0-9.1, q1**2-2.0*q1+0.9,\n",
       "            -0.9*q1**2+q0*q1-8.2*q1-q0+9.1])"
      ]
     },
     "execution_count": 1,
     "metadata": {},
     "output_type": "execute_result"
    }
   ],
   "source": [
    "expansion = chaospy.generate_expansion(5, distribution_q, rule=\"cholesky\")\n",
    "expansion[:5].round(10)"
   ]
  },
  {
   "cell_type": "markdown",
   "metadata": {},
   "source": [
    "The method is known to be numerical unstable, so it is important to verify\n",
    "that the expansion is indeed orthogonal:"
   ]
  },
  {
   "cell_type": "code",
   "execution_count": 17,
   "metadata": {
    "execution": {
     "iopub.execute_input": "2021-05-18T10:57:19.839586Z",
     "iopub.status.busy": "2021-05-18T10:57:19.839118Z",
     "iopub.status.idle": "2021-05-18T10:57:19.889550Z",
     "shell.execute_reply": "2021-05-18T10:57:19.890138Z"
    }
   },
   "outputs": [
    {
     "data": {
      "text/plain": [
       "array([[ 1., -0.,  0., -0.,  0., -0.,  0.,  0., -0.,  0.],\n",
       "       [-0.,  1.,  0., -0., -0., -0., -0., -0., -0., -0.],\n",
       "       [ 0.,  0.,  1.,  0.,  0.,  0.,  0., -0., -0., -0.],\n",
       "       [-0.,  0.,  0.,  1.,  0., -0., -0.,  0.,  0., -0.],\n",
       "       [-0.,  0., -0.,  0.,  1., -0.,  0.,  0., -0., -0.],\n",
       "       [ 0.,  0.,  0.,  0.,  0.,  1., -0., -0., -0., -0.],\n",
       "       [-0., -0., -0., -0.,  0., -0.,  1., -0.,  0.,  0.],\n",
       "       [-0., -0., -0.,  0.,  0., -0.,  0.,  1.,  0.,  0.],\n",
       "       [-0.,  0., -0.,  0., -0., -0.,  0., -0.,  1.,  0.],\n",
       "       [ 0., -0.,  0., -0.,  0., -0.,  0., -0.,  0.,  1.]])"
      ]
     },
     "execution_count": 1,
     "metadata": {},
     "output_type": "execute_result"
    }
   ],
   "source": [
    "chaospy.Corr(expansion[-10:], distribution).round(5)"
   ]
  },
  {
   "cell_type": "markdown",
   "metadata": {},
   "source": [
    "This expansion can be used with point collocation method directly:"
   ]
  },
  {
   "cell_type": "code",
   "execution_count": 18,
   "metadata": {
    "execution": {
     "iopub.execute_input": "2021-05-18T10:57:19.893720Z",
     "iopub.status.busy": "2021-05-18T10:57:19.893054Z",
     "iopub.status.idle": "2021-05-18T10:57:20.115289Z",
     "shell.execute_reply": "2021-05-18T10:57:20.115023Z"
    }
   },
   "outputs": [],
   "source": [
    "samples_q = distribution_q.sample(1000, rule=\"sobol\")\n",
    "evaluations = numpy.array([exponential_model(sample) for sample in samples_q.T])\n",
    "model_approx = chaospy.fit_regression(expansion, samples_q, evaluations)"
   ]
  },
  {
   "cell_type": "code",
   "execution_count": 19,
   "metadata": {
    "execution": {
     "iopub.execute_input": "2021-05-18T10:57:20.117580Z",
     "iopub.status.busy": "2021-05-18T10:57:20.117306Z",
     "iopub.status.idle": "2021-05-18T10:57:20.143687Z",
     "shell.execute_reply": "2021-05-18T10:57:20.143354Z"
    }
   },
   "outputs": [
    {
     "data": {
      "text/plain": [
       "(array([10.     ,  9.89956,  9.80022,  9.70198,  9.60482]),\n",
       " array([1.     , 0.98159, 0.9644 , 0.94841, 0.93361]))"
      ]
     },
     "execution_count": 1,
     "metadata": {},
     "output_type": "execute_result"
    }
   ],
   "source": [
    "mean = chaospy.E(model_approx, distribution_q)\n",
    "std = chaospy.Std(model_approx, distribution_q)\n",
    "\n",
    "(mean[:5].round(5), std[:5].round(5))"
   ]
  },
  {
   "cell_type": "code",
   "execution_count": 20,
   "metadata": {
    "execution": {
     "iopub.execute_input": "2021-05-18T10:57:20.145917Z",
     "iopub.status.busy": "2021-05-18T10:57:20.145648Z",
     "iopub.status.idle": "2021-05-18T10:57:20.221982Z",
     "shell.execute_reply": "2021-05-18T10:57:20.222253Z"
    }
   },
   "outputs": [
    {
     "data": {
      "image/png": "[encoded data removed]",
      "text/plain": [
       "<Figure size 432x288 with 1 Axes>"
      ]
     },
     "metadata": {
      "needs_background": "light"
     },
     "output_type": "display_data"
    }
   ],
   "source": [
    "pyplot.fill_between(coordinates, mean-std, mean+std, alpha=0.6)\n",
    "pyplot.plot(coordinates, mean)\n",
    "\n",
    "pyplot.axis([0, 6, 0, 10])\n",
    "\n",
    "pyplot.show()"
   ]
  },
  {
   "cell_type": "markdown",
   "metadata": {},
   "source": [
    "For more details on this methodology, you can read the journal article\n",
    "[Multivariate Polynomial Chaos Expansions with Dependent\n",
    "Variables](https://doi.org/10.1137/15M1020447)."
   ]
  }
 ],
 "metadata": {
  "jupytext": {
   "formats": "ipynb,py:percent"
  },
  "kernelspec": {
   "display_name": "Python 3",
   "language": "python",
   "name": "python3"
  },
  "language_info": {
   "codemirror_mode": {
    "name": "ipython",
    "version": 3
   },
   "file_extension": ".py",
   "mimetype": "text/x-python",
   "name": "python",
   "nbconvert_exporter": "python",
   "pygments_lexer": "ipython3",
   "version": "3.9.5"
  }
 },
 "nbformat": 4,
 "nbformat_minor": 4
}
