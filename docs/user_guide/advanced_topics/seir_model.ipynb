{
 "cells": [
  {
   "cell_type": "markdown",
   "id": "be083add",
   "metadata": {},
   "source": [
    "## Epidemiological SEIR model"
   ]
  },
  {
   "cell_type": "markdown",
   "id": "43460fe1",
   "metadata": {},
   "source": [
    "In compartmental modeling in epidemiology, SEIR (Susceptible, Exposed, Infectious, Recovered) is a simplified set of equations to model how an infectious disease spreads through a population. \n",
    "See for example [the Wikipedia article](https://en.wikipedia.org/wiki/Compartmental_models_in_epidemiology) for more information.\n",
    "\n",
    "The form we consider here, the model consists of a system of four non-linear differential equations:\n",
    "\n",
    "\\begin{align*}\n",
    "\\tfrac{\\mathrm{d}S}{\\mathrm{d}t} &= - \\beta IS \\tag{% Susceptible} \\\\\n",
    "\\tfrac{\\mathrm{d}E}{\\mathrm{d}t} &= \\beta IS - \\alpha E  \\tag{% Exposed} \\\\\n",
    "\\tfrac{\\mathrm{d}I}{\\mathrm{d}t} &= -\\gamma I + \\alpha E \\tag{% Infectious} \\\\\n",
    "\\tfrac{\\mathrm{d}R}{\\mathrm{d}t} &= \\gamma I \\tag{% Recovered}\n",
    "\\end{align*}\n",
    "\n",
    "where $S(t)$, $E(t)$, $I(t)$ and $R(t)$ are stochastic processes varying in time.\n",
    "The model has three model parameters: $\\alpha$, $\\beta$ and $\\gamma$, which determine how fast the disease spreads through the population and are different for every infectious disease, so they have to be estimated.\n",
    "\n",
    "We can implement the relationship of these ordinary equations in terms of Python code:"
   ]
  },
  {
   "cell_type": "code",
   "execution_count": 1,
   "id": "cc163d18",
   "metadata": {
    "execution": {
     "iopub.execute_input": "2021-05-18T10:57:22.139337Z",
     "iopub.status.busy": "2021-05-18T10:57:22.138984Z",
     "iopub.status.idle": "2021-05-18T10:57:22.146777Z",
     "shell.execute_reply": "2021-05-18T10:57:22.146425Z"
    }
   },
   "outputs": [],
   "source": [
    "def ode_seir(variables, coordinates, parameters):\n",
    "    var_s, var_e, var_i, var_r = variables\n",
    "    alpha, beta, gamma = parameters\n",
    "    \n",
    "    delta_s = -beta*var_i*var_s\n",
    "    delta_e = beta*var_i*var_s-alpha*var_e\n",
    "    delta_i = -gamma*var_i+alpha*var_e\n",
    "    delta_r = gamma*var_i\n",
    "    \n",
    "    return delta_s, delta_e, delta_i, delta_r"
   ]
  },
  {
   "cell_type": "markdown",
   "id": "2e01fae2",
   "metadata": {},
   "source": [
    "### Initial condition\n",
    "\n",
    "The initial condition $(S(0), E(0), I(0), R(0)) = (1-\\delta, \\delta, 0, 0)$ for some small $\\delta$. Note that the state $(1,0,0,0)$ implies that nobody has been exposed, so we must assume $\\delta>0$ to let the model to actually model spread of the disease. Or in terms of code:"
   ]
  },
  {
   "cell_type": "code",
   "execution_count": 2,
   "id": "10c2e69e",
   "metadata": {
    "execution": {
     "iopub.execute_input": "2021-05-18T10:57:22.148836Z",
     "iopub.status.busy": "2021-05-18T10:57:22.148512Z",
     "iopub.status.idle": "2021-05-18T10:57:22.155762Z",
     "shell.execute_reply": "2021-05-18T10:57:22.155410Z"
    }
   },
   "outputs": [],
   "source": [
    "def initial_condition(delta):\n",
    "    return 1-delta, delta, 0, 0"
   ]
  },
  {
   "cell_type": "markdown",
   "id": "394a8221",
   "metadata": {},
   "source": [
    "### Model parameters\n",
    "\n",
    "The model parameters $\\alpha$, $\\beta$ and $\\gamma$ are assumed to have a value, but are in all practical applications unknown. Because of this, it make more sense to assume that the parameters are inherently uncertain and can only be described through a probability distribution. For this example, we will assume that all parameters are uniformly distributed with \n",
    "\n",
    "\\begin{align*}\n",
    "\\alpha &\\sim \\mathcal{U}(0.15, 0.25) & \\beta &\\sim \\mathcal{U}(0.95, 1.05) & \\gamma &\\sim \\mathcal{U}(0.45, 0.55)\n",
    "\\end{align*}\n",
    "\n",
    "Or using `chaospy`:"
   ]
  },
  {
   "cell_type": "code",
   "execution_count": 3,
   "id": "6e4aabe7",
   "metadata": {
    "execution": {
     "iopub.execute_input": "2021-05-18T10:57:22.158026Z",
     "iopub.status.busy": "2021-05-18T10:57:22.157708Z",
     "iopub.status.idle": "2021-05-18T10:57:22.165495Z",
     "shell.execute_reply": "2021-05-18T10:57:22.165142Z"
    }
   },
   "outputs": [],
   "source": [
    "import chaospy\n",
    "\n",
    "alpha = chaospy.Uniform(0.15, 0.25)\n",
    "beta = chaospy.Uniform(0.95, 1.05)\n",
    "gamma = chaospy.Uniform(0.45, 0.55)\n",
    "distribution = chaospy.J(alpha, beta, gamma)"
   ]
  },
  {
   "cell_type": "markdown",
   "id": "e2015813",
   "metadata": {},
   "source": [
    "### Deterministic model\n",
    "\n",
    "To have a base line of how this model works, we will first assume the uncertain parameters have some fixed value.\n",
    "For example the expected value of the uncertain parameters:"
   ]
  },
  {
   "cell_type": "code",
   "execution_count": 4,
   "id": "800f8c00",
   "metadata": {
    "execution": {
     "iopub.execute_input": "2021-05-18T10:57:22.167462Z",
     "iopub.status.busy": "2021-05-18T10:57:22.167148Z",
     "iopub.status.idle": "2021-05-18T10:57:22.202134Z",
     "shell.execute_reply": "2021-05-18T10:57:22.201797Z"
    }
   },
   "outputs": [
    {
     "data": {
      "text/plain": [
       "array([0.2, 1. , 0.5])"
      ]
     },
     "execution_count": 1,
     "metadata": {},
     "output_type": "execute_result"
    }
   ],
   "source": [
    "parameters = chaospy.E(distribution)\n",
    "parameters"
   ]
  },
  {
   "cell_type": "markdown",
   "id": "397797f9",
   "metadata": {},
   "source": [
    "We then solve the SEIR model on the time interval $[0, 200]$ using $1000$ steps using `scipy.integrate`:"
   ]
  },
  {
   "cell_type": "code",
   "execution_count": 5,
   "id": "b4f20637",
   "metadata": {
    "execution": {
     "iopub.execute_input": "2021-05-18T10:57:22.205180Z",
     "iopub.status.busy": "2021-05-18T10:57:22.204840Z",
     "iopub.status.idle": "2021-05-18T10:57:22.215243Z",
     "shell.execute_reply": "2021-05-18T10:57:22.214919Z"
    },
    "scrolled": true
   },
   "outputs": [],
   "source": [
    "import numpy\n",
    "from scipy.integrate import odeint\n",
    "\n",
    "time_span = numpy.linspace(0, 200, 1000)\n",
    "responses = odeint(ode_seir, initial_condition(delta=1e-4), time_span, args=(parameters,))"
   ]
  },
  {
   "cell_type": "markdown",
   "id": "bcb665a4",
   "metadata": {},
   "source": [
    "We then use `matplotlib` to plot the four processes:"
   ]
  },
  {
   "cell_type": "code",
   "execution_count": 6,
   "id": "2faa948e",
   "metadata": {
    "execution": {
     "iopub.execute_input": "2021-05-18T10:57:22.218544Z",
     "iopub.status.busy": "2021-05-18T10:57:22.218198Z",
     "iopub.status.idle": "2021-05-18T10:57:22.351116Z",
     "shell.execute_reply": "2021-05-18T10:57:22.350772Z"
    }
   },
   "outputs": [
    {
     "data": {
      "text/plain": [
       "<matplotlib.legend.Legend at 0x7f477d8c0130>"
      ]
     },
     "execution_count": 1,
     "metadata": {},
     "output_type": "execute_result"
    },
    {
     "data": {
      "image/png": "[encoded data removed]",
      "text/plain": [
       "<Figure size 432x288 with 1 Axes>"
      ]
     },
     "metadata": {
      "needs_background": "light"
     },
     "output_type": "display_data"
    }
   ],
   "source": [
    "from matplotlib import pyplot\n",
    "\n",
    "labels = ['Susceptible', 'Exposed', 'Infectious', 'Recovered']\n",
    "for response, label in zip(responses.T, labels):\n",
    "    pyplot.plot(time_span, response, label=label)\n",
    "\n",
    "pyplot.title('SEIR model')\n",
    "pyplot.xlabel('Time (days)')\n",
    "pyplot.ylabel('% of population')\n",
    "pyplot.legend()"
   ]
  },
  {
   "cell_type": "markdown",
   "id": "b06905a0",
   "metadata": {},
   "source": [
    "### Stochastic model\n",
    "\n",
    "We now have our deterministic base line model, and can observe that it works. \n",
    "Let us change the assumption to assume that the parameters are random, and model it using polynomial chaos expansion (PCE).\n",
    "\n",
    "We start by generating a PCE bases:"
   ]
  },
  {
   "cell_type": "code",
   "execution_count": 7,
   "id": "623b3315",
   "metadata": {
    "execution": {
     "iopub.execute_input": "2021-05-18T10:57:22.353795Z",
     "iopub.status.busy": "2021-05-18T10:57:22.353457Z",
     "iopub.status.idle": "2021-05-18T10:57:22.416346Z",
     "shell.execute_reply": "2021-05-18T10:57:22.416617Z"
    }
   },
   "outputs": [
    {
     "data": {
      "text/plain": [
       "polynomial([1.0, q2-0.5, q1-1.0, q0-0.2, q2**2-q2+0.24917])"
      ]
     },
     "execution_count": 1,
     "metadata": {},
     "output_type": "execute_result"
    }
   ],
   "source": [
    "polynomial_order = 3\n",
    "polynomial_expansion = chaospy.generate_expansion(\n",
    "    polynomial_order, distribution)\n",
    "polynomial_expansion[:5].round(5)"
   ]
  },
  {
   "cell_type": "markdown",
   "id": "09a1167a",
   "metadata": {},
   "source": [
    "Generate our quadrature nodes and weights:"
   ]
  },
  {
   "cell_type": "code",
   "execution_count": 8,
   "id": "fbc87293",
   "metadata": {
    "execution": {
     "iopub.execute_input": "2021-05-18T10:57:22.418762Z",
     "iopub.status.busy": "2021-05-18T10:57:22.418429Z",
     "iopub.status.idle": "2021-05-18T10:57:22.671882Z",
     "shell.execute_reply": "2021-05-18T10:57:22.672183Z"
    }
   },
   "outputs": [],
   "source": [
    "quadrature_order = 8\n",
    "abscissas, weights = chaospy.generate_quadrature(\n",
    "    quadrature_order, distribution, rule=\"gaussian\")"
   ]
  },
  {
   "cell_type": "markdown",
   "id": "76b585e4",
   "metadata": {},
   "source": [
    "We wrap the deterministic model solution into a function of the model parameters:"
   ]
  },
  {
   "cell_type": "code",
   "execution_count": 9,
   "id": "484f6711",
   "metadata": {
    "execution": {
     "iopub.execute_input": "2021-05-18T10:57:22.674412Z",
     "iopub.status.busy": "2021-05-18T10:57:22.674100Z",
     "iopub.status.idle": "2021-05-18T10:57:22.681548Z",
     "shell.execute_reply": "2021-05-18T10:57:22.681830Z"
    }
   },
   "outputs": [],
   "source": [
    "def model_solver(parameters, delta=1e-4):\n",
    "    return odeint(ode_seir, initial_condition(delta), time_span, args=(parameters,))"
   ]
  },
  {
   "cell_type": "markdown",
   "id": "76985eed",
   "metadata": {},
   "source": [
    "Now we're going to evaluate the model taking parameters from the quadrature. To reduce the computational load, we use multiprocessing to increase the computational speed."
   ]
  },
  {
   "cell_type": "code",
   "execution_count": 10,
   "id": "bdc6e583",
   "metadata": {
    "execution": {
     "iopub.execute_input": "2021-05-18T10:57:22.684049Z",
     "iopub.status.busy": "2021-05-18T10:57:22.683724Z",
     "iopub.status.idle": "2021-05-18T10:57:23.015641Z",
     "shell.execute_reply": "2021-05-18T10:57:23.015948Z"
    }
   },
   "outputs": [],
   "source": [
    "from multiprocessing import Pool\n",
    "\n",
    "with Pool(4) as pool:\n",
    "    evaluations = pool.map(model_solver, abscissas.T)"
   ]
  },
  {
   "cell_type": "markdown",
   "id": "0c4c6f9f",
   "metadata": {},
   "source": [
    "And finally we're calculating the PCE Fourier coefficients:"
   ]
  },
  {
   "cell_type": "code",
   "execution_count": 11,
   "id": "3a3c4a38",
   "metadata": {
    "execution": {
     "iopub.execute_input": "2021-05-18T10:57:23.018270Z",
     "iopub.status.busy": "2021-05-18T10:57:23.017954Z",
     "iopub.status.idle": "2021-05-18T10:57:23.939558Z",
     "shell.execute_reply": "2021-05-18T10:57:23.939235Z"
    }
   },
   "outputs": [],
   "source": [
    "model_approx = chaospy.fit_quadrature(\n",
    "    polynomial_expansion, abscissas, weights, evaluations)"
   ]
  },
  {
   "cell_type": "markdown",
   "id": "f6d180ca",
   "metadata": {},
   "source": [
    "With a model approximation we can calculate the mean and the standard deviations:"
   ]
  },
  {
   "cell_type": "code",
   "execution_count": 12,
   "id": "b807a488",
   "metadata": {
    "execution": {
     "iopub.execute_input": "2021-05-18T10:57:23.942443Z",
     "iopub.status.busy": "2021-05-18T10:57:23.941758Z",
     "iopub.status.idle": "2021-05-18T10:57:24.175127Z",
     "shell.execute_reply": "2021-05-18T10:57:24.174793Z"
    }
   },
   "outputs": [],
   "source": [
    "expected = chaospy.E(model_approx, distribution)\n",
    "std = chaospy.Std(model_approx, distribution)"
   ]
  },
  {
   "cell_type": "markdown",
   "id": "44dfedb4",
   "metadata": {},
   "source": [
    "Finally we can plot the data with uncertainty intervals:"
   ]
  },
  {
   "cell_type": "code",
   "execution_count": 13,
   "id": "4aae4e70",
   "metadata": {
    "execution": {
     "iopub.execute_input": "2021-05-18T10:57:24.177938Z",
     "iopub.status.busy": "2021-05-18T10:57:24.177619Z",
     "iopub.status.idle": "2021-05-18T10:57:24.278937Z",
     "shell.execute_reply": "2021-05-18T10:57:24.279164Z"
    }
   },
   "outputs": [
    {
     "data": {
      "text/plain": [
       "<matplotlib.legend.Legend at 0x7f477d931730>"
      ]
     },
     "execution_count": 1,
     "metadata": {},
     "output_type": "execute_result"
    },
    {
     "data": {
      "image/png": "[encoded data removed]",
      "text/plain": [
       "<Figure size 432x288 with 1 Axes>"
      ]
     },
     "metadata": {
      "needs_background": "light"
     },
     "output_type": "display_data"
    }
   ],
   "source": [
    "for mu, sigma, label in zip(expected.T, std.T, labels):\n",
    "    pyplot.fill_between(\n",
    "        time_span, mu-sigma, mu+sigma, alpha=0.3)\n",
    "    pyplot.plot(time_span, mu, label=label)\n",
    "    \n",
    "pyplot.xlabel(\"Time (days)\")\n",
    "pyplot.ylabel(\"% of population\")\n",
    "pyplot.title('Stochastic SEIR model')\n",
    "pyplot.legend()"
   ]
  }
 ],
 "metadata": {
  "jupytext": {
   "formats": "ipynb,py:percent"
  },
  "kernelspec": {
   "display_name": "Python 3",
   "language": "python",
   "name": "python3"
  },
  "language_info": {
   "codemirror_mode": {
    "name": "ipython",
    "version": 3
   },
   "file_extension": ".py",
   "mimetype": "text/x-python",
   "name": "python",
   "nbconvert_exporter": "python",
   "pygments_lexer": "ipython3",
   "version": "3.9.5"
  }
 },
 "nbformat": 4,
 "nbformat_minor": 5
}
