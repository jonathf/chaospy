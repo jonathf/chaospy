{
 "cells": [
  {
   "cell_type": "markdown",
   "metadata": {},
   "source": [
    "## Polynomial behavior\n",
    "\n",
    "``chaospy`` relies on the package ``numpoly`` in the backend to represent all its polynomials.\n",
    "It is used for the creation of polynomial expansion. like ``chaospy.orth_ttr``, and as the return object from the constructors like ``fit_regression`` and ``fit_quadrature``.\n",
    "\n",
    "For a more extensive overview over the polynomial class, see the ``numpoly`` documentation:  https://numpoly.readthedocs.io"
   ]
  },
  {
   "cell_type": "code",
   "execution_count": 1,
   "metadata": {},
   "outputs": [],
   "source": [
    "import chaospy\n",
    "import numpy\n",
    "from matplotlib import pyplot"
   ]
  },
  {
   "cell_type": "markdown",
   "metadata": {},
   "source": [
    "## Construction polynomials\n",
    "\n",
    "A simple polynomial can be created through ``variable`` constructor. For example to construct a simple bivariate polynomial:"
   ]
  },
  {
   "cell_type": "code",
   "execution_count": 2,
   "metadata": {},
   "outputs": [
    {
     "data": {
      "text/plain": [
       "polynomial(q0)"
      ]
     },
     "execution_count": 2,
     "metadata": {},
     "output_type": "execute_result"
    }
   ],
   "source": [
    "q0, q1 = chaospy.variable(dims=2)\n",
    "q0"
   ]
  },
  {
   "cell_type": "markdown",
   "metadata": {},
   "source": [
    "A collection of polynomial can be manipulated using basic arithmetic operators and joined together into polynomial expansions:"
   ]
  },
  {
   "cell_type": "code",
   "execution_count": 3,
   "metadata": {},
   "outputs": [
    {
     "data": {
      "text/plain": [
       "polynomial([1, q0, 1-q0*q1, q0**2*q1, -q1**2+q0])"
      ]
     },
     "execution_count": 3,
     "metadata": {},
     "output_type": "execute_result"
    }
   ],
   "source": [
    "polynomials = chaospy.polynomial([1, q0, 1-q0*q1, q0**2*q1, q0-q1**2])\n",
    "polynomials"
   ]
  },
  {
   "cell_type": "markdown",
   "metadata": {},
   "source": [
    "Note that constants and simple polynomials can be joined together into arrays without any problems.\n",
    "\n",
    "In practice, having the ability to fine tune a polynomial exactly as one wants it can be useful, but it can also be cumbersome when dealing with larger arrays for application.\n",
    "To automate the construction of simple polynomials, there is the ``basis`` constructor. In its simplest forms it creates an array of simple monomials:"
   ]
  },
  {
   "cell_type": "code",
   "execution_count": 4,
   "metadata": {},
   "outputs": [
    {
     "data": {
      "text/plain": [
       "polynomial([1, q0, q0**2, q0**3, q0**4])"
      ]
     },
     "execution_count": 4,
     "metadata": {},
     "output_type": "execute_result"
    }
   ],
   "source": [
    "chaospy.basis(4)"
   ]
  },
  {
   "cell_type": "markdown",
   "metadata": {},
   "source": [
    "It can be expanded to include number of dimensions and a lower bound for the polynomial order:"
   ]
  },
  {
   "cell_type": "code",
   "execution_count": 5,
   "metadata": {},
   "outputs": [
    {
     "data": {
      "text/plain": [
       "polynomial([q1, q0, q1**2, q0*q1, q0**2])"
      ]
     },
     "execution_count": 5,
     "metadata": {},
     "output_type": "execute_result"
    }
   ],
   "source": [
    "chaospy.basis(start=1, stop=2, dim=2)"
   ]
  },
  {
   "cell_type": "markdown",
   "metadata": {},
   "source": [
    "This tools have a lot of advanced features, like per dimension limits, and cross-truncation support."
   ]
  },
  {
   "cell_type": "markdown",
   "metadata": {},
   "source": [
    "### Trunkating the Polynomial Expansion \n",
    "\n",
    "By default, the polynomials are ordered using _graded reversed lexicographically_.\n",
    "In practice this moslty means that the order of the polynomials are deterministic.\n",
    "Here is explaination of what that entails.\n",
    "\n",
    "Each polynomial in an expansion (at least in orthogonal ones) can be determined by a multi-index that refers to the largest exponent amongs its terms along each dimension.\n",
    "For example, we defined the bivariate polynomial $\\Phi_{nm}$ to be on the form:\n",
    "$$\n",
    "\\Phi_{nm} = q_0^nq_1^m + \\sum_{i=0, j=0}^{i< n, j< m, i+j< n+m} \\alpha_{ij} q_0^i q_1^j\n",
    "$$\n",
    "We say that the order of this polynomial is $n+m$.\n",
    "\n",
    "Following the same bivariate, we can iterate through all polynomials by increasing order $k$:\n",
    "$$\n",
    "  \\begin{align*}\n",
    "     k &= 0 &  &\\Phi_{00} & &\\Phi_0 \\\\ \n",
    "     k &= 1 &  \\Phi_{10} &\\quad \\Phi_{01} & \\Phi_{1} &\\quad \\Phi_{2}\\\\\n",
    "     k &= 2 & \\Phi_{20} \\quad &\\Phi_{11} \\quad\\Phi_{02} & \\Phi_{3} \\quad &\\Phi_{4} \\quad\\Phi_{5} \\\\\n",
    "     k &= 3 & \\Phi_{30} \\quad \\Phi_{21} & \\quad \\Phi_{12} \\quad\\Phi_{03} &\n",
    "   \\Phi_{6} \\quad \\Phi_{7} & \\quad \\Phi_{8} \\quad\\Phi_{9} \\\\\n",
    "  \\end{align*}\n",
    "$$\n",
    "Here we alse denote the polynomials twice: One with the multi-index and one with a single index.\n",
    "These polynomials are equivalent.\n",
    "\n",
    "When constructing a polynomial expansion in `chaospy`, using the constructors `chaospy.orth_ttr` or `chaospy.basis`, providing an integer for the order, will truncate the expansion to the expansion to a specific order.\n",
    "For example a 2-dimenstional expansion truncated at order 20:"
   ]
  },
  {
   "cell_type": "code",
   "execution_count": 6,
   "metadata": {
    "scrolled": true
   },
   "outputs": [
    {
     "data": {
      "text/plain": [
       "polynomial([1, q1, q0, q1**2, q0*q1, q0**2, q1**3, q0*q1**2])"
      ]
     },
     "execution_count": 6,
     "metadata": {},
     "output_type": "execute_result"
    },
    {
     "data": {
      "image/png": "[encoded data removed]",
      "text/plain": [
       "<Figure size 432x288 with 1 Axes>"
      ]
     },
     "metadata": {
      "needs_background": "light"
     },
     "output_type": "display_data"
    }
   ],
   "source": [
    "polynomials = chaospy.basis(start=0, stop=20, dim=2)\n",
    "\n",
    "grid = numpy.zeros((21, 21), dtype=int)\n",
    "grid[tuple(polynomials.exponents.T)] = 1\n",
    "\n",
    "pyplot.xlabel(\"Polynomial order for q0\")\n",
    "pyplot.ylabel(\"Polynomial order for q1\")\n",
    "pyplot.imshow(grid, cmap=\"gray\")\n",
    "\n",
    "polynomials[:8]"
   ]
  },
  {
   "cell_type": "markdown",
   "metadata": {},
   "source": [
    "The white squares represents multi-index order where a polynomial is present, while the black are where they are not."
   ]
  },
  {
   "cell_type": "code",
   "execution_count": 20,
   "metadata": {},
   "outputs": [
    {
     "data": {
      "text/plain": [
       "polynomial([1, q1, q0, q1**2, q0*q1, q0**2, q1**3, q0*q1**2])"
      ]
     },
     "execution_count": 20,
     "metadata": {},
     "output_type": "execute_result"
    },
    {
     "data": {
      "image/png": "[encoded data removed]",
      "text/plain": [
       "<Figure size 432x288 with 1 Axes>"
      ]
     },
     "metadata": {
      "needs_background": "light"
     },
     "output_type": "display_data"
    }
   ],
   "source": [
    "polynomials = chaospy.basis(start=0, stop=20, dim=2, cross_truncation=0.5)\n",
    "\n",
    "grid = numpy.zeros((21, 21), dtype=int)\n",
    "grid[tuple(polynomials.exponents.T)] = 1\n",
    "\n",
    "pyplot.xlabel(\"Polynomial order for q0\")\n",
    "pyplot.ylabel(\"Polynomial order for q1\")\n",
    "pyplot.imshow(grid, cmap=\"gray\")\n",
    "\n",
    "polynomials[:8]"
   ]
  },
  {
   "cell_type": "code",
   "execution_count": 23,
   "metadata": {},
   "outputs": [
    {
     "data": {
      "text/plain": [
       "polynomial([1, q1, q0, q1**2, q0*q1, q0**2, q1**3, q0*q1**2])"
      ]
     },
     "execution_count": 23,
     "metadata": {},
     "output_type": "execute_result"
    },
    {
     "data": {
      "image/png": "[encoded data removed]",
      "text/plain": [
       "<Figure size 432x288 with 1 Axes>"
      ]
     },
     "metadata": {
      "needs_background": "light"
     },
     "output_type": "display_data"
    }
   ],
   "source": [
    "polynomials = chaospy.basis(start=0, stop=[16, 20], dim=2, cross_truncation=1)\n",
    "\n",
    "grid = numpy.zeros((21, 21), dtype=int)\n",
    "grid[tuple(polynomials.exponents.T)] = 1\n",
    "\n",
    "pyplot.xlabel(\"Polynomial order for q0\")\n",
    "pyplot.ylabel(\"Polynomial order for q1\")\n",
    "pyplot.imshow(grid, cmap=\"gray\")\n",
    "\n",
    "polynomials[:8]"
   ]
  },
  {
   "cell_type": "markdown",
   "metadata": {},
   "source": [
    "Here we see the exponents of the polynomials plotted for both ``q0`` and ``q1``.\n",
    "The white tiles indicate that the exponent pair is present.\n",
    "\n",
    "Note that without these advanced features, the exponent grid would look as follows."
   ]
  },
  {
   "cell_type": "markdown",
   "metadata": {},
   "source": [
    "### Evaluating polynomials\n",
    "\n",
    "As a first feature to mention, obviously these polynomials are evaluated as functions."
   ]
  },
  {
   "cell_type": "code",
   "execution_count": 9,
   "metadata": {},
   "outputs": [
    {
     "data": {
      "text/plain": [
       "(polynomial([1, q0**2, q0*q1]),\n",
       " polynomial([1, 4, 2*q1]),\n",
       " polynomial([1, q0**2, 3*q0]))"
      ]
     },
     "execution_count": 9,
     "metadata": {},
     "output_type": "execute_result"
    }
   ],
   "source": [
    "expansion = chaospy.polynomial([1, q0**2, q0*q1])\n",
    "expansion, expansion(2), expansion(q1=3)"
   ]
  },
  {
   "cell_type": "markdown",
   "metadata": {},
   "source": [
    "If the polynomials indeterminants are all evaluate, the polynomial will return an appropriate ``numpy`` array instead of a ``polynomial`` one."
   ]
  },
  {
   "cell_type": "code",
   "execution_count": 10,
   "metadata": {},
   "outputs": [
    {
     "data": {
      "text/plain": [
       "(array([1, 4, 6]), array([1, 4, 6]))"
      ]
     },
     "execution_count": 10,
     "metadata": {},
     "output_type": "execute_result"
    }
   ],
   "source": [
    "expansion(2, 3), expansion(q0=2, q1=3)"
   ]
  },
  {
   "cell_type": "markdown",
   "metadata": {},
   "source": [
    "The polynomials are vectorized and support vectorized input:"
   ]
  },
  {
   "cell_type": "code",
   "execution_count": 11,
   "metadata": {},
   "outputs": [
    {
     "data": {
      "text/plain": [
       "polynomial([[1, 1, 1, 1],\n",
       "            [q0**2, q0**2, q0**2, q0**2],\n",
       "            [0, q0, 2*q0, 3*q0]])"
      ]
     },
     "execution_count": 11,
     "metadata": {},
     "output_type": "execute_result"
    }
   ],
   "source": [
    "expansion(q1=numpy.arange(4))"
   ]
  },
  {
   "cell_type": "markdown",
   "metadata": {},
   "source": [
    "The input can be a mix of scalars and arrays, as long as the shapes together can be joined together in a common compatible shape:"
   ]
  },
  {
   "cell_type": "code",
   "execution_count": 12,
   "metadata": {},
   "outputs": [
    {
     "data": {
      "text/plain": [
       "array([[1, 1, 1],\n",
       "       [0, 1, 4],\n",
       "       [0, 3, 6]])"
      ]
     },
     "execution_count": 12,
     "metadata": {},
     "output_type": "execute_result"
    }
   ],
   "source": [
    "expansion([0, 1, 2], 3)"
   ]
  },
  {
   "cell_type": "markdown",
   "metadata": {},
   "source": [
    "Which also support most basic ``numpy.dtype``."
   ]
  },
  {
   "cell_type": "code",
   "execution_count": 13,
   "metadata": {},
   "outputs": [
    {
     "data": {
      "text/plain": [
       "(polynomial([1, 1, q1]),\n",
       " polynomial([1.0, 4.0, 2.0*q1]),\n",
       " polynomial([(1+0j), (-9+0j), 3j*q1]))"
      ]
     },
     "execution_count": 13,
     "metadata": {},
     "output_type": "execute_result"
    }
   ],
   "source": [
    "expansion(1), expansion(2.), expansion(3j)"
   ]
  },
  {
   "cell_type": "markdown",
   "metadata": {},
   "source": [
    "On top of this, it is also possible to pass simple polynomials as arguments.\n",
    "This allows for variable substitution.\n",
    "For example, to swap two dimensions, one could simply do the following:"
   ]
  },
  {
   "cell_type": "code",
   "execution_count": 14,
   "metadata": {},
   "outputs": [
    {
     "data": {
      "text/plain": [
       "polynomial([1, q1**2, q0*q1])"
      ]
     },
     "execution_count": 14,
     "metadata": {},
     "output_type": "execute_result"
    }
   ],
   "source": [
    "expansion(q0=q1, q1=q0)"
   ]
  },
  {
   "cell_type": "markdown",
   "metadata": {},
   "source": [
    "Or to insert full polynomial substitutions:"
   ]
  },
  {
   "cell_type": "code",
   "execution_count": 15,
   "metadata": {},
   "outputs": [
    {
     "data": {
      "text/plain": [
       "polynomial([1, q0**2, q0-q0*q1**3])"
      ]
     },
     "execution_count": 15,
     "metadata": {},
     "output_type": "execute_result"
    }
   ],
   "source": [
    "expansion(q1=1-q1**3)"
   ]
  },
  {
   "cell_type": "markdown",
   "metadata": {},
   "source": [
    "## Numpy compatibility\n",
    "\n",
    "The polynomial objects are for the most part quite``numpy`` compliant, in the sense that they identify and behave very much like ``numpy.ndarray``.\n",
    "\n",
    "Some of the compliance stems from features in ``numpy`` that was introduced in version 1.17.\n",
    "``chaospy`` works just fine for lower versions as well, however for some examples below functions on form ``numpy.some_func(some_poly)`` will need to be done with the equivalent ``chaospy.some_func(some_poly)``."
   ]
  },
  {
   "cell_type": "code",
   "execution_count": 16,
   "metadata": {},
   "outputs": [
    {
     "data": {
      "text/plain": [
       "True"
      ]
     },
     "execution_count": 16,
     "metadata": {},
     "output_type": "execute_result"
    }
   ],
   "source": [
    "from packaging.version import parse\n",
    "assert parse(numpy.__version__) >= parse(\"1.17\"), \"numpy version >=1.17 required for some of this\"\n",
    "isinstance(expansion, numpy.ndarray)"
   ]
  },
  {
   "cell_type": "markdown",
   "metadata": {},
   "source": [
    "This allows you (for the most part) to manipulate the polynomial in the same way as an array:"
   ]
  },
  {
   "cell_type": "code",
   "execution_count": 17,
   "metadata": {},
   "outputs": [
    {
     "data": {
      "text/plain": [
       "polynomial([0.33-q1, 0.33*q0-q1, 0.33*q0**2-q1, 0.33*q0**3-q1,\n",
       "            0.33*q0**4-q1, 0.33*q0**5-q1])"
      ]
     },
     "execution_count": 17,
     "metadata": {},
     "output_type": "execute_result"
    }
   ],
   "source": [
    "expansion = chaospy.basis(5)\n",
    "(expansion/3-q1).round(2)"
   ]
  },
  {
   "cell_type": "markdown",
   "metadata": {},
   "source": [
    "It also support manipulation using ``numpy`` functions and methods:"
   ]
  },
  {
   "cell_type": "code",
   "execution_count": 18,
   "metadata": {},
   "outputs": [
    {
     "data": {
      "text/plain": [
       "polynomial([1+q0**2+q0**4, q0+q0**3+q0**5])"
      ]
     },
     "execution_count": 18,
     "metadata": {},
     "output_type": "execute_result"
    }
   ],
   "source": [
    "numpy.sum(expansion.reshape(3, 2), axis=0)"
   ]
  },
  {
   "cell_type": "markdown",
   "metadata": {},
   "source": [
    "Obviously, the support towards ``numpy`` has it's limits. Some functions will likely never work as expected:"
   ]
  },
  {
   "cell_type": "code",
   "execution_count": 19,
   "metadata": {},
   "outputs": [
    {
     "data": {
      "text/plain": [
       "\"function <ufunc 'sin'> not supported by numpoly.\""
      ]
     },
     "execution_count": 19,
     "metadata": {},
     "output_type": "execute_result"
    }
   ],
   "source": [
    "try:\n",
    "    numpy.sin(expansion)\n",
    "except Exception as err:\n",
    "    error = err.args[0]\n",
    "error"
   ]
  },
  {
   "cell_type": "markdown",
   "metadata": {},
   "source": [
    "The list of supported functions is large and growing. The list of supported functions is listed here:\n",
    "https://numpoly.readthedocs.io/en/master/array_function.html"
   ]
  }
 ],
 "metadata": {
  "kernelspec": {
   "display_name": "Python 3",
   "language": "python",
   "name": "python3"
  },
  "language_info": {
   "codemirror_mode": {
    "name": "ipython",
    "version": 3
   },
   "file_extension": ".py",
   "mimetype": "text/x-python",
   "name": "python",
   "nbconvert_exporter": "python",
   "pygments_lexer": "ipython3",
   "version": "3.7.6"
  }
 },
 "nbformat": 4,
 "nbformat_minor": 2
}
