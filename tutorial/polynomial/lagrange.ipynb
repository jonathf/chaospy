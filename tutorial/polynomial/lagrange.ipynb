{
 "cells": [
  {
   "cell_type": "markdown",
   "metadata": {},
   "source": [
    "This tutorial uses the same example as the [example introduction](../example_introduction.ipynb).\n",
    "In other words:"
   ]
  },
  {
   "cell_type": "code",
   "execution_count": 1,
   "metadata": {},
   "outputs": [],
   "source": [
    "# Module we will use\n",
    "import chaospy\n",
    "import numpy\n",
    "from matplotlib import pyplot\n",
    "\n",
    "def model_predictor(coordinates, parameters):\n",
    "    \"\"\"Over simplistic model function.\"\"\"\n",
    "    param_I, param_a = parameters\n",
    "    return param_I*numpy.e**(-param_a*coordinates)\n",
    "\n",
    "# The spatio-temporal coordinates \n",
    "coordinates = numpy.linspace(0, 10, 1000)\n",
    "\n",
    "# The distribution of the parameters\n",
    "distribution_I = chaospy.Normal(1.5, 0.2)\n",
    "distribution_a = chaospy.Uniform(0.1, 0.2)\n",
    "distribution = chaospy.J(distribution_I, distribution_a)"
   ]
  },
  {
   "cell_type": "markdown",
   "metadata": {},
   "source": [
    "## Lagrange Polynomials\n",
    "\n",
    "[Lagrange polynomials](https://en.wikipedia.org/wiki/Lagrange_polynomial) are not a method for creating orthogonal polynomials.\n",
    "Instead it is an interpolation method for creating an polynomial expansion that has the property that each polynomial interpolates exactly one point in space with the value 1 and has the value 0 for all other interpolation values."
   ]
  },
  {
   "cell_type": "code",
   "execution_count": 2,
   "metadata": {},
   "outputs": [
    {
     "data": {
      "text/plain": [
       "array([[1.26993012, 1.56372787, 1.43627213, 1.73006988, 1.19317589],\n",
       "       [0.14444444, 0.17777778, 0.12222222, 0.15555556, 0.18888889]])"
      ]
     },
     "execution_count": 2,
     "metadata": {},
     "output_type": "execute_result"
    }
   ],
   "source": [
    "samples = distribution.sample(10, rule=\"halton\")\n",
    "samples[:, :5]"
   ]
  },
  {
   "cell_type": "code",
   "execution_count": 3,
   "metadata": {},
   "outputs": [
    {
     "data": {
      "text/plain": [
       "polynomial(143.72+2445.4*q1-15721.24*q1**2+21527.76*q1**3-503.51*q0-214.38*q0*q1+4287.25*q0*q1**2+332.38*q0**2-362.8*q0**2*q1-58.19*q0**3)"
      ]
     },
     "execution_count": 3,
     "metadata": {},
     "output_type": "execute_result"
    }
   ],
   "source": [
    "polynomial_expansion = chaospy.lagrange_polynomial(samples)\n",
    "polynomial_expansion[0].round(2)"
   ]
  },
  {
   "cell_type": "code",
   "execution_count": 4,
   "metadata": {},
   "outputs": [
    {
     "data": {
      "text/plain": [
       "array([[ 1., -0., -0., -0., -0., -0., -0., -0., -0., -0.],\n",
       "       [-0.,  1., -0., -0., -0., -0., -0., -0., -0., -0.],\n",
       "       [-0., -0.,  1., -0., -0., -0., -0., -0., -0., -0.],\n",
       "       [-0., -0., -0.,  1., -0., -0., -0., -0., -0., -0.],\n",
       "       [ 0.,  0.,  0.,  0.,  1.,  0.,  0.,  0.,  0.,  0.],\n",
       "       [ 0.,  0., -0., -0.,  0.,  1.,  0.,  0., -0., -0.],\n",
       "       [ 0.,  0.,  0.,  0.,  0.,  0.,  1.,  0.,  0.,  0.],\n",
       "       [ 0.,  0.,  0.,  0.,  0.,  0.,  0.,  1.,  0.,  0.],\n",
       "       [ 0.,  0.,  0.,  0.,  0.,  0.,  0.,  0.,  1.,  0.],\n",
       "       [-0., -0., -0., -0., -0., -0., -0., -0., -0.,  1.]])"
      ]
     },
     "execution_count": 4,
     "metadata": {},
     "output_type": "execute_result"
    }
   ],
   "source": [
    "polynomial_expansion(*samples).round(8)"
   ]
  },
  {
   "cell_type": "markdown",
   "metadata": {},
   "source": [
    "Fitting the polynomials to the evaluations does not need to involve regression.\n",
    "Instead it is enough to just multiply the lagrange polynomial expansion with the evaluations, and sum it up:"
   ]
  },
  {
   "cell_type": "code",
   "execution_count": 5,
   "metadata": {},
   "outputs": [
    {
     "data": {
      "text/plain": [
       "(1000,)"
      ]
     },
     "execution_count": 5,
     "metadata": {},
     "output_type": "execute_result"
    }
   ],
   "source": [
    "model_evaluations = numpy.array([model_predictor(coordinates, sample) for sample in samples.T])\n",
    "model_approximation = chaospy.sum(model_evaluations.T*polynomial_expansion, axis=-1).T\n",
    "model_approximation.shape"
   ]
  },
  {
   "cell_type": "markdown",
   "metadata": {},
   "source": [
    "The results is close to what we are used to from the other methods:"
   ]
  },
  {
   "cell_type": "code",
   "execution_count": 6,
   "metadata": {},
   "outputs": [
    {
     "data": {
      "text/plain": [
       "[0, 10, 0, 2]"
      ]
     },
     "execution_count": 6,
     "metadata": {},
     "output_type": "execute_result"
    },
    {
     "data": {
      "image/png": "[encoded data removed]",
      "text/plain": [
       "<Figure size 432x288 with 1 Axes>"
      ]
     },
     "metadata": {
      "needs_background": "light"
     },
     "output_type": "display_data"
    }
   ],
   "source": [
    "# Estimate mean and variance\n",
    "expected = chaospy.E(model_approximation, distribution)\n",
    "variance = chaospy.Var(model_approximation, distribution)\n",
    "\n",
    "# Create band one standard deviation away from mean \n",
    "pyplot.fill_between(coordinates, expected-variance**0.5, expected+variance**0.5,\n",
    "                        alpha=0.3, color=\"k\", label=\"standard deviation\")\n",
    "pyplot.plot(coordinates, expected, \"k-\", label=\"Estimated expected value\")\n",
    "\n",
    "# Make plot pretty\n",
    "pyplot.xlabel(\"coordinates $t$\")\n",
    "pyplot.ylabel(\"Model evaluations $u$\")\n",
    "pyplot.axis([0, 10, 0, 2])"
   ]
  }
 ],
 "metadata": {
  "kernelspec": {
   "display_name": "Python 3",
   "language": "python",
   "name": "python3"
  },
  "language_info": {
   "codemirror_mode": {
    "name": "ipython",
    "version": 3
   },
   "file_extension": ".py",
   "mimetype": "text/x-python",
   "name": "python",
   "nbconvert_exporter": "python",
   "pygments_lexer": "ipython3",
   "version": "3.7.6"
  }
 },
 "nbformat": 4,
 "nbformat_minor": 4
}
