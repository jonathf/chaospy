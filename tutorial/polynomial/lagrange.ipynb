{
 "cells": [
  {
   "cell_type": "markdown",
   "metadata": {},
   "source": [
    "This tutorial uses the same example as the [example introduction](../example_introduction.ipynb).\n",
    "In other words, we need to following components:"
   ]
  },
  {
   "cell_type": "code",
   "execution_count": 1,
   "metadata": {},
   "outputs": [],
   "source": [
    "import chaospy\n",
    "import numpy\n",
    "from matplotlib import pyplot\n",
    "\n",
    "def model_predictor(coordinates, parameters):\n",
    "    \"\"\"Over simplistic model function.\"\"\"\n",
    "    param_I, param_a = parameters\n",
    "    return param_I*numpy.e**(-param_a*coordinates)\n",
    "\n",
    "# The spatio-temporal coordinates \n",
    "coordinates = numpy.linspace(0, 10, 1000)\n",
    "\n",
    "# The distribution of the parameters\n",
    "distribution_I = chaospy.Normal(1.5, 0.2)\n",
    "distribution_a = chaospy.Uniform(0.1, 0.2)\n",
    "distribution = chaospy.J(distribution_I, distribution_a)"
   ]
  },
  {
   "cell_type": "markdown",
   "metadata": {},
   "source": [
    "## Lagrange Polynomials\n",
    "\n",
    "[Lagrange polynomials](https://en.wikipedia.org/wiki/Lagrange_polynomial) are not a method for creating orthogonal polynomials.\n",
    "Instead it is an interpolation method for creating an polynomial expansion that has the property that each polynomial interpolates exactly one point in space with the value 1 and has the value 0 for all other interpolation values.\n",
    "\n",
    "To summarize, we need to do the following:\n",
    "* Generate $Q_1, ..., Q_N = (I_1, a_1), ..., (I_N, a_N)$, using (pseudo-)random samples or otherwise.\n",
    "* Construct a Lagrange polynomial expansion $P_1, ..., P_M$ from the samples $Q_1, ..., Q_N$.\n",
    "* Evaluate model predictor $U_1, ..., U_N$ for each sample.\n",
    "* Analyze model approximation $u(I, a, t) = \\sum_m U_m(t) P_n(I, a)$ instead of actual model solver. "
   ]
  },
  {
   "cell_type": "markdown",
   "metadata": {},
   "source": [
    "### Generating Samples\n",
    "\n",
    "In chaospy, creating low-discrepancy sequences can be done using the `distribution.sample` method.\n",
    "Creating quadrature points can be done using `chaospy.generate_quadrature`.\n",
    "For example:"
   ]
  },
  {
   "cell_type": "code",
   "execution_count": 2,
   "metadata": {},
   "outputs": [
    {
     "data": {
      "text/plain": [
       "array([[1.26993012, 1.56372787, 1.43627213, 1.73006988, 1.19317589],\n",
       "       [0.14444444, 0.17777778, 0.12222222, 0.15555556, 0.18888889]])"
      ]
     },
     "execution_count": 2,
     "metadata": {},
     "output_type": "execute_result"
    },
    {
     "data": {
      "image/png": "[encoded data removed]",
      "text/plain": [
       "<Figure size 432x288 with 1 Axes>"
      ]
     },
     "metadata": {
      "needs_background": "light"
     },
     "output_type": "display_data"
    }
   ],
   "source": [
    "# Generate samples:\n",
    "samples = distribution.sample(10, rule=\"halton\")\n",
    "\n",
    "# Show samples as 2-dimensional scatter plot\n",
    "pyplot.scatter(*samples, marker=\"x\", color=\"k\")\n",
    "    \n",
    "# Make scatter ficutres pretty\n",
    "pyplot.xlabel(\"Parameter $I$ (normal)\")\n",
    "pyplot.ylabel(\"Parameter $a$ (uniform)\")\n",
    "pyplot.axis([1, 2, 0.1, 0.2])\n",
    "\n",
    "samples[:, :5]"
   ]
  },
  {
   "cell_type": "markdown",
   "metadata": {},
   "source": [
    "### Create lagrange polynomial expansion\n",
    "\n",
    "Creating an expansion of lagrange polynomial terms can be done using the following constructor:"
   ]
  },
  {
   "cell_type": "code",
   "execution_count": 3,
   "metadata": {},
   "outputs": [
    {
     "data": {
      "text/plain": [
       "polynomial(21527.76*q1**3+4287.25*q0*q1**2-362.8*q0**2*q1-58.19*q0**3-15721.24*q1**2-214.38*q0*q1+332.38*q0**2+2445.4*q1-503.51*q0+143.72)"
      ]
     },
     "execution_count": 3,
     "metadata": {},
     "output_type": "execute_result"
    }
   ],
   "source": [
    "polynomial_expansion = chaospy.lagrange_polynomial(samples)\n",
    "polynomial_expansion[0].round(2)"
   ]
  },
  {
   "cell_type": "markdown",
   "metadata": {},
   "source": [
    "On can verify that the returned polynomials follows the property of evaluating 0 for all but one of the samples used in the construction as follows:"
   ]
  },
  {
   "cell_type": "code",
   "execution_count": 4,
   "metadata": {},
   "outputs": [
    {
     "data": {
      "text/plain": [
       "array([[ 1., -0., -0., -0., -0., -0., -0., -0., -0., -0.],\n",
       "       [-0.,  1., -0., -0., -0., -0., -0., -0., -0., -0.],\n",
       "       [-0., -0.,  1., -0., -0., -0., -0., -0., -0., -0.],\n",
       "       [-0., -0., -0.,  1., -0., -0., -0., -0., -0., -0.],\n",
       "       [ 0.,  0.,  0.,  0.,  1.,  0.,  0.,  0.,  0.,  0.],\n",
       "       [ 0.,  0., -0., -0.,  0.,  1.,  0.,  0., -0., -0.],\n",
       "       [ 0.,  0.,  0.,  0.,  0.,  0.,  1.,  0.,  0.,  0.],\n",
       "       [ 0.,  0.,  0.,  0.,  0.,  0.,  0.,  1.,  0.,  0.],\n",
       "       [ 0.,  0.,  0.,  0.,  0.,  0.,  0.,  0.,  1.,  0.],\n",
       "       [-0., -0., -0., -0., -0., -0., -0., -0., -0.,  1.]])"
      ]
     },
     "execution_count": 4,
     "metadata": {},
     "output_type": "execute_result"
    }
   ],
   "source": [
    "polynomial_expansion(*samples).round(8)"
   ]
  },
  {
   "cell_type": "markdown",
   "metadata": {},
   "source": [
    "### Evaluate Model Prediction and Creating Model Approximaion\n",
    "\n",
    "Fitting the polynomials to the evaluations does not need to involve regression.\n",
    "Instead it is enough to just multiply the lagrange polynomial expansion with the evaluations, and sum it up:"
   ]
  },
  {
   "cell_type": "code",
   "execution_count": 5,
   "metadata": {},
   "outputs": [
    {
     "data": {
      "text/plain": [
       "(1000,)"
      ]
     },
     "execution_count": 5,
     "metadata": {},
     "output_type": "execute_result"
    }
   ],
   "source": [
    "model_evaluations = numpy.array([model_predictor(coordinates, sample) for sample in samples.T])\n",
    "model_approximation = chaospy.sum(model_evaluations.T*polynomial_expansion, axis=-1).T\n",
    "\n",
    "model_approximation.shape"
   ]
  },
  {
   "cell_type": "markdown",
   "metadata": {},
   "source": [
    "### Assess Statistics\n",
    "\n",
    "The results is close to what we are used to from the other methods:"
   ]
  },
  {
   "cell_type": "code",
   "execution_count": 6,
   "metadata": {
    "scrolled": true
   },
   "outputs": [
    {
     "data": {
      "text/plain": [
       "Text(0, 0.5, 'Model evaluations $u$')"
      ]
     },
     "execution_count": 6,
     "metadata": {},
     "output_type": "execute_result"
    },
    {
     "data": {
      "image/png": "[encoded data removed]",
      "text/plain": [
       "<Figure size 432x288 with 1 Axes>"
      ]
     },
     "metadata": {
      "needs_background": "light"
     },
     "output_type": "display_data"
    }
   ],
   "source": [
    "# Estimate mean and variance\n",
    "expected = chaospy.E(model_approximation, distribution)\n",
    "variance = chaospy.Var(model_approximation, distribution)\n",
    "\n",
    "# Create band one standard deviation away from mean \n",
    "pyplot.fill_between(coordinates, expected-variance**0.5, expected+variance**0.5,\n",
    "                        alpha=0.3, color=\"k\", label=\"standard deviation\")\n",
    "pyplot.plot(coordinates, expected, \"k-\", label=\"Estimated expected value\")\n",
    "\n",
    "# Make plot pretty\n",
    "pyplot.axis([0, 10, 0, 2])\n",
    "pyplot.xlabel(\"coordinates $t$\")\n",
    "pyplot.ylabel(\"Model evaluations $u$\")"
   ]
  },
  {
   "cell_type": "markdown",
   "metadata": {},
   "source": [
    "### Avoiding matrix inversion issues with quadrature nodes\n",
    "\n",
    "It is worth noting that the construction of lagrange polynomials are not always numerically stable.\n",
    "For example when using grids along , most often the expansion construction fails:"
   ]
  },
  {
   "cell_type": "code",
   "execution_count": 7,
   "metadata": {},
   "outputs": [
    {
     "data": {
      "text/plain": [
       "'Lagrange abscissas resulted in invertible matrix'"
      ]
     },
     "execution_count": 7,
     "metadata": {},
     "output_type": "execute_result"
    }
   ],
   "source": [
    "nodes, _ = chaospy.generate_quadrature(2, distribution)\n",
    "\n",
    "try:\n",
    "    chaospy.lagrange_polynomial(nodes)\n",
    "except numpy.linalg.LinAlgError as err:\n",
    "    error = err.args[0]\n",
    "error"
   ]
  },
  {
   "cell_type": "markdown",
   "metadata": {},
   "source": [
    "It is impossible to avoid the issue entirely, but in the case of structured grid, it is often possible to get around the problem.\n",
    "To do so, the following steps can be taken:\n",
    "\n",
    "* Create multple lagrange polynomials, one for each marginal distribution.\n",
    "* Rotate dimensions so each expansion get a dimension corresponding to the marginal it was created for.\n",
    "* Use an outer product of the expansions to combine them into a single expansion.\n",
    "\n",
    "So we begin with making marginal lagrange polynomials:"
   ]
  },
  {
   "cell_type": "code",
   "execution_count": 8,
   "metadata": {},
   "outputs": [
    {
     "data": {
      "text/plain": [
       "[polynomial([0.2222*q0**2-q0+1.0, -0.4444*q0**2+1.3333*q0,\n",
       "             0.2222*q0**2-0.3333*q0]),\n",
       " polynomial([200.0*q0**2-70.0*q0+6.0, -400.0*q0**2+120.0*q0-8.0,\n",
       "             200.0*q0**2-50.0*q0+3.0])]"
      ]
     },
     "execution_count": 8,
     "metadata": {},
     "output_type": "execute_result"
    }
   ],
   "source": [
    "nodes, _ = list(zip(*[chaospy.generate_quadrature(2, marginal) for marginal in distribution]))\n",
    "expansions = [chaospy.lagrange_polynomial(nodes_) for nodes_ in nodes]\n",
    "\n",
    "[expansion_.round(4) for expansion_ in expansions]"
   ]
  },
  {
   "cell_type": "markdown",
   "metadata": {},
   "source": [
    "Then we rotate the dimensions:"
   ]
  },
  {
   "cell_type": "code",
   "execution_count": 9,
   "metadata": {},
   "outputs": [
    {
     "data": {
      "text/plain": [
       "[polynomial([0.2222*q0**2-q0+1.0, -0.4444*q0**2+1.3333*q0,\n",
       "             0.2222*q0**2-0.3333*q0]),\n",
       " polynomial([200.0*q1**2-70.0*q1+6.0, -400.0*q1**2+120.0*q1-8.0,\n",
       "             200.0*q1**2-50.0*q1+3.0])]"
      ]
     },
     "execution_count": 9,
     "metadata": {},
     "output_type": "execute_result"
    }
   ],
   "source": [
    "expansions = [expansion(q0=q) for expansion, q in zip(expansions, chaospy.variable(len(distribution)))]\n",
    "\n",
    "[expansion_.round(4) for expansion_ in expansions]"
   ]
  },
  {
   "cell_type": "markdown",
   "metadata": {},
   "source": [
    "And finally construct the final expansion using an outer product:"
   ]
  },
  {
   "cell_type": "code",
   "execution_count": 10,
   "metadata": {},
   "outputs": [
    {
     "data": {
      "text/plain": [
       "polynomial(44.4444*q0**2*q1**2-200.0*q0*q1**2-15.5556*q0**2*q1+200.0*q1**2+70.0*q0*q1+1.3333*q0**2-70.0*q1-6.0*q0+6.0)"
      ]
     },
     "execution_count": 10,
     "metadata": {},
     "output_type": "execute_result"
    }
   ],
   "source": [
    "expansion = chaospy.outer(*expansions).flatten()\n",
    "expansion[0].round(4)"
   ]
  },
  {
   "cell_type": "markdown",
   "metadata": {},
   "source": [
    "The end results can be verified to have the properties we are looking for:"
   ]
  },
  {
   "cell_type": "code",
   "execution_count": 11,
   "metadata": {
    "scrolled": true
   },
   "outputs": [
    {
     "data": {
      "text/plain": [
       "array([[ 1.,  0.,  0., -0., -0., -0., -0., -0., -0.],\n",
       "       [ 0.,  1.,  0.,  0., -0., -0.,  0., -0., -0.],\n",
       "       [-0., -0.,  1., -0.,  0.,  0., -0.,  0.,  0.],\n",
       "       [ 0.,  0.,  0.,  1.,  0.,  0.,  0., -0., -0.],\n",
       "       [ 0.,  0.,  0.,  0.,  1.,  0., -0.,  0.,  0.],\n",
       "       [ 0.,  0.,  0., -0., -0.,  1., -0., -0., -0.],\n",
       "       [ 0.,  0.,  0., -0.,  0.,  0.,  1.,  0.,  0.],\n",
       "       [ 0.,  0.,  0., -0., -0., -0.,  0.,  1.,  0.],\n",
       "       [ 0.,  0.,  0., -0.,  0.,  0., -0.,  0.,  1.]])"
      ]
     },
     "execution_count": 11,
     "metadata": {},
     "output_type": "execute_result"
    }
   ],
   "source": [
    "nodes, _ = chaospy.generate_quadrature(2, distribution)\n",
    "expansion(*nodes).round(8)"
   ]
  }
 ],
 "metadata": {
  "kernelspec": {
   "display_name": "Python 3",
   "language": "python",
   "name": "python3"
  },
  "language_info": {
   "codemirror_mode": {
    "name": "ipython",
    "version": 3
   },
   "file_extension": ".py",
   "mimetype": "text/x-python",
   "name": "python",
   "nbconvert_exporter": "python",
   "pygments_lexer": "ipython3",
   "version": "3.7.7"
  }
 },
 "nbformat": 4,
 "nbformat_minor": 4
}
