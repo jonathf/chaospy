{
 "cells": [
  {
   "cell_type": "markdown",
   "metadata": {},
   "source": [
    "## Constructing polynomial expansion\n",
    "\n",
    "``chaospy`` relies on the package ``numpoly`` in the backend to represent all its polynomials.\n",
    "It is used for the creation of polynomial expansion. like ``chaospy.orth_ttr``, and as the return object from the constructors like ``fit_regression`` and ``fit_quadrature``.\n",
    "\n",
    "For a more extensive overview over the polynomial class, see the ``numpoly`` documentation:  https://numpoly.readthedocs.io"
   ]
  },
  {
   "cell_type": "code",
   "execution_count": 1,
   "metadata": {},
   "outputs": [
    {
     "data": {
      "text/plain": [
       "{'divide': 'warn', 'over': 'warn', 'under': 'ignore', 'invalid': 'warn'}"
      ]
     },
     "execution_count": 1,
     "metadata": {},
     "output_type": "execute_result"
    }
   ],
   "source": [
    "import chaospy\n",
    "import numpy\n",
    "numpy.seterr(all=\"ignore\")"
   ]
  },
  {
   "cell_type": "markdown",
   "metadata": {},
   "source": [
    "A simple polynomial can be created through ``variable`` constructor. For example to construct a simple bivariate polynomial:"
   ]
  },
  {
   "cell_type": "code",
   "execution_count": 2,
   "metadata": {},
   "outputs": [
    {
     "data": {
      "text/plain": [
       "polynomial(q0)"
      ]
     },
     "execution_count": 2,
     "metadata": {},
     "output_type": "execute_result"
    }
   ],
   "source": [
    "q0, q1 = chaospy.variable(dims=2)\n",
    "q0"
   ]
  },
  {
   "cell_type": "markdown",
   "metadata": {},
   "source": [
    "A collection of polynomial can be manipulated using basic arithmetic operators and joined together into polynomial expansions:"
   ]
  },
  {
   "cell_type": "code",
   "execution_count": 3,
   "metadata": {},
   "outputs": [
    {
     "data": {
      "text/plain": [
       "polynomial([1, q0, 1-q0*q1, q0**2*q1, -q1**2+q0])"
      ]
     },
     "execution_count": 3,
     "metadata": {},
     "output_type": "execute_result"
    }
   ],
   "source": [
    "polynomials = chaospy.polynomial([1, q0, 1-q0*q1, q0**2*q1, q0-q1**2])\n",
    "polynomials"
   ]
  },
  {
   "cell_type": "markdown",
   "metadata": {},
   "source": [
    "Note that constants and simple polynomials can be joined together into arrays without any problems.\n",
    "\n",
    "In practice, having the ability to fine tune a polynomial exactly as one wants it can be useful, but it can also be cumbersome when dealing with larger arrays for application.\n",
    "To automate the construction of simple polynomials, there is the ``basis`` constructor. In its simplest forms it creates an array of simple monomials:"
   ]
  },
  {
   "cell_type": "code",
   "execution_count": 4,
   "metadata": {},
   "outputs": [
    {
     "data": {
      "text/plain": [
       "polynomial([1, q0, q0**2, q0**3, q0**4])"
      ]
     },
     "execution_count": 4,
     "metadata": {},
     "output_type": "execute_result"
    }
   ],
   "source": [
    "chaospy.basis(4)"
   ]
  },
  {
   "cell_type": "markdown",
   "metadata": {},
   "source": [
    "It can be expanded to include number of dimensions and a lower bound for the polynomial order:"
   ]
  },
  {
   "cell_type": "code",
   "execution_count": 5,
   "metadata": {},
   "outputs": [
    {
     "data": {
      "text/plain": [
       "polynomial([q1, q0, q1**2, q0*q1, q0**2])"
      ]
     },
     "execution_count": 5,
     "metadata": {},
     "output_type": "execute_result"
    }
   ],
   "source": [
    "chaospy.basis(start=1, stop=2, dim=2)"
   ]
  },
  {
   "cell_type": "markdown",
   "metadata": {},
   "source": [
    "And as likely familiar elsewhere, there are constructors for the orthogonal polynomials as well:"
   ]
  },
  {
   "cell_type": "code",
   "execution_count": 6,
   "metadata": {},
   "outputs": [
    {
     "data": {
      "text/plain": [
       "polynomial([1.0, q0, -1.0+q0**2, -3.0*q0+q0**3])"
      ]
     },
     "execution_count": 6,
     "metadata": {},
     "output_type": "execute_result"
    }
   ],
   "source": [
    "distribution = chaospy.Normal(0, 1)\n",
    "chaospy.orth_ttr(3, distribution)"
   ]
  },
  {
   "cell_type": "markdown",
   "metadata": {},
   "source": [
    "### Join Univariate Expansions into One Multivariate Expansion\n",
    "\n",
    "Often one have access to multiple univariate expansions and one wants to join them into a single one.\n",
    "And preferably in a way where the user has a high level of control.\n",
    "\n",
    "As an example, we start with two univeraite expansions that one wants to join:"
   ]
  },
  {
   "cell_type": "code",
   "execution_count": 7,
   "metadata": {},
   "outputs": [
    {
     "data": {
      "text/plain": [
       "[polynomial([1, q0, q0**2, q0**3]),\n",
       " polynomial([1.0, q0, -1.0+q0**2, -3.0*q0+q0**3])]"
      ]
     },
     "execution_count": 7,
     "metadata": {},
     "output_type": "execute_result"
    }
   ],
   "source": [
    "expansions = [chaospy.basis(3), chaospy.orth_ttr(3, distribution)]\n",
    "expansions"
   ]
  },
  {
   "cell_type": "markdown",
   "metadata": {},
   "source": [
    "First step is to ensure that each dimension have their own asigned dimension.\n",
    "This can be done as follows:"
   ]
  },
  {
   "cell_type": "code",
   "execution_count": 8,
   "metadata": {},
   "outputs": [
    {
     "data": {
      "text/plain": [
       "[polynomial([1, q0, q0**2, q0**3]),\n",
       " polynomial([1.0, q1, -1.0+q1**2, -3.0*q1+q1**3])]"
      ]
     },
     "execution_count": 8,
     "metadata": {},
     "output_type": "execute_result"
    }
   ],
   "source": [
    "variables = chaospy.variable(len(expansions))\n",
    "expansions = [expansion(q0=variable) for expansion, variable in zip(expansions, variables)]\n",
    "expansions"
   ]
  },
  {
   "cell_type": "markdown",
   "metadata": {},
   "source": [
    "To join the expansions, we use the function ``chaospy.bindex`` that creates indices following a polynomial truncation scheme.\n",
    "The function allowes for the creation of indices that allows for the join of the various expansions:\n",
    "\n",
    "See [Truncation of Polynomial Expansions](./truncation.ipynb) for more details on the form of the truncation rules."
   ]
  },
  {
   "cell_type": "code",
   "execution_count": 9,
   "metadata": {},
   "outputs": [
    {
     "data": {
      "text/plain": [
       "array([[0, 0, 1, 0, 1, 2, 0, 1, 2, 3],\n",
       "       [0, 1, 0, 2, 1, 0, 3, 2, 1, 0]])"
      ]
     },
     "execution_count": 9,
     "metadata": {},
     "output_type": "execute_result"
    }
   ],
   "source": [
    "indices = chaospy.bindex(start=0, stop=4, dimensions=2)\n",
    "indices.T"
   ]
  },
  {
   "cell_type": "markdown",
   "metadata": {},
   "source": [
    "Joining the expansions can then be created by extracting polynomials from the expansions and joining them by multiplying them together:"
   ]
  },
  {
   "cell_type": "code",
   "execution_count": 10,
   "metadata": {},
   "outputs": [
    {
     "data": {
      "text/plain": [
       "polynomial([1.0, q1, q0, -1.0+q1**2, q0*q1, q0**2, -3.0*q1+q1**3,\n",
       "            -q0+q0*q1**2, q0**2*q1, q0**3])"
      ]
     },
     "execution_count": 10,
     "metadata": {},
     "output_type": "execute_result"
    }
   ],
   "source": [
    "expansion = chaospy.prod([expansion[index] for expansion, index in zip(expansions, indices.T)], axis=0)\n",
    "expansion"
   ]
  }
 ],
 "metadata": {
  "kernelspec": {
   "display_name": "Python 3",
   "language": "python",
   "name": "python3"
  },
  "language_info": {
   "codemirror_mode": {
    "name": "ipython",
    "version": 3
   },
   "file_extension": ".py",
   "mimetype": "text/x-python",
   "name": "python",
   "nbconvert_exporter": "python",
   "pygments_lexer": "ipython3",
   "version": "3.7.6"
  }
 },
 "nbformat": 4,
 "nbformat_minor": 4
}
