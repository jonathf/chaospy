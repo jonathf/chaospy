{
 "cells": [
  {
   "cell_type": "code",
   "execution_count": 1,
   "metadata": {},
   "outputs": [],
   "source": [
    "import chaospy\n",
    "import numpy\n",
    "from scipy.special import comb\n",
    "\n",
    "order = 3  # Polynomial order"
   ]
  },
  {
   "cell_type": "markdown",
   "metadata": {},
   "source": [
    "## Wiener-Askey Polynomial Expansions\n",
    "\n",
    "Source: https://doi.org/10.1137/S1064827501387826\n",
    "\n",
    "Polynomial chaos expansion often assume that the polynomial expansion used is of the Wiener-Askey scheme veriaty.\n",
    "The reason for this is that the expansion in the scheme correspond to orthogonality with respect to some standard probability distribution.\n",
    "\n",
    "There usually exists a few variations of the Wiener-Askey scheme.\n",
    "This is because of two reasons:\n",
    "\n",
    "1. The weight function in the classical scheme do not normalize to 1 which probability density functions are required to do.\n",
    "2. Any polynomial can be multiplied with a scalar and retain its orthogonal properties.\n",
    "\n",
    "The former meas there is only one unique variation that is applicable in the context of uncertainty quantification.\n",
    "The latter is made unique by assuming that the leading coefficient to the largest exponent should be 1.\n",
    "But for convinience, the more canonical versions of the schemes will be listed as well here.\n",
    "\n",
    "In ``chaospy``, though descrete distributions are supported, we will only focus on the continous cases.\n",
    "Below you will find:\n",
    "\n",
    "* [Hermite polynomials](#Hermite-polynomials)\n",
    "* [Legendre polynomials](#Legendre-polynomials)\n",
    "* [Laguerre polynomials](#Laguerre-polynomials)\n",
    "* [Generalized Laguerre polynomials](#Generalized-Laguerre-polynomials)\n",
    "* [Jacobi polynomials](#Jacobi-polynomials)"
   ]
  },
  {
   "cell_type": "markdown",
   "metadata": {},
   "source": [
    "### Hermite polynomials\n",
    "\n",
    "The Hermite polynomials are associated with the Standard Gaussian distribution:"
   ]
  },
  {
   "cell_type": "code",
   "execution_count": 2,
   "metadata": {},
   "outputs": [
    {
     "data": {
      "text/plain": [
       "polynomial([1.0, q0, -1.0+q0**2, -3.0*q0+q0**3])"
      ]
     },
     "execution_count": 2,
     "metadata": {},
     "output_type": "execute_result"
    }
   ],
   "source": [
    "distribution = chaospy.Normal(0, 1)\n",
    "chaospy.orth_ttr(order, distribution)"
   ]
  },
  {
   "cell_type": "markdown",
   "metadata": {},
   "source": [
    "A multivariate expansion:"
   ]
  },
  {
   "cell_type": "code",
   "execution_count": 3,
   "metadata": {},
   "outputs": [
    {
     "data": {
      "text/plain": [
       "polynomial([1.0, q1, q0, -1.0+q1**2, q0*q1, -1.0+q0**2])"
      ]
     },
     "execution_count": 3,
     "metadata": {},
     "output_type": "execute_result"
    }
   ],
   "source": [
    "distribution = chaospy.J(chaospy.Normal(0, 1), chaospy.Normal(0, 1))\n",
    "chaospy.orth_ttr(order, distribution)[:6]"
   ]
  },
  {
   "cell_type": "markdown",
   "metadata": {},
   "source": [
    "The Hermite polynomials have classically a weight function $W(x) = e^{-x^2}$, and an expansion:"
   ]
  },
  {
   "cell_type": "code",
   "execution_count": 4,
   "metadata": {},
   "outputs": [
    {
     "data": {
      "text/plain": [
       "polynomial([1.0, 2.0*q0, -4.0+4.0*q0**2, -24.0*q0+8.0*q0**3])"
      ]
     },
     "execution_count": 4,
     "metadata": {},
     "output_type": "execute_result"
    }
   ],
   "source": [
    "distribution = chaospy.Normal(0, 1)\n",
    "chaospy.orth_ttr(order, distribution)*2**numpy.arange(order+1)"
   ]
  },
  {
   "cell_type": "markdown",
   "metadata": {},
   "source": [
    "### Legendre Polynomials\n",
    "\n",
    "The Legendre are associated with the Uniform distribution on the $[-1, 1]$ interval."
   ]
  },
  {
   "cell_type": "code",
   "execution_count": 5,
   "metadata": {},
   "outputs": [
    {
     "data": {
      "text/plain": [
       "polynomial([1.0, q0, -0.3333+q0**2, -0.6*q0+q0**3])"
      ]
     },
     "execution_count": 5,
     "metadata": {},
     "output_type": "execute_result"
    }
   ],
   "source": [
    "distribution = chaospy.Uniform(-1, 1)\n",
    "chaospy.orth_ttr(order, distribution).round(4)"
   ]
  },
  {
   "cell_type": "markdown",
   "metadata": {},
   "source": [
    "A multivariate expansion:"
   ]
  },
  {
   "cell_type": "code",
   "execution_count": 6,
   "metadata": {},
   "outputs": [
    {
     "data": {
      "text/plain": [
       "polynomial([1.0, q1, q0, -0.3333+q1**2, q0*q1, -0.3333+q0**2])"
      ]
     },
     "execution_count": 6,
     "metadata": {},
     "output_type": "execute_result"
    }
   ],
   "source": [
    "distribution = chaospy.J(chaospy.Uniform(-1, 1), chaospy.Uniform(-1, 1))\n",
    "chaospy.orth_ttr(order, distribution)[:6].round(4)"
   ]
  },
  {
   "cell_type": "markdown",
   "metadata": {},
   "source": [
    "The Legendre polynomials have classically a weight function $W(x) = 1$ on the interval $[-1, 1]$, and an expansion:"
   ]
  },
  {
   "cell_type": "code",
   "execution_count": 7,
   "metadata": {
    "scrolled": true
   },
   "outputs": [
    {
     "data": {
      "text/plain": [
       "polynomial([1.0, q0, -0.5+1.5*q0**2, -1.5*q0+2.5*q0**3])"
      ]
     },
     "execution_count": 7,
     "metadata": {},
     "output_type": "execute_result"
    }
   ],
   "source": [
    "distribution = chaospy.Uniform(-1, 1)\n",
    "poly = chaospy.orth_ttr(order, distribution)\n",
    "(poly/poly(1)).round(4)"
   ]
  },
  {
   "cell_type": "markdown",
   "metadata": {},
   "source": [
    "### Laguerre polynomials\n",
    "\n",
    "Laguerre polynomials with the Exponential distribution."
   ]
  },
  {
   "cell_type": "code",
   "execution_count": 8,
   "metadata": {},
   "outputs": [
    {
     "data": {
      "text/plain": [
       "polynomial([1.0, -1.0+q0, 2.0-4.0*q0+q0**2, -6.0+18.0*q0-9.0*q0**2+q0**3])"
      ]
     },
     "execution_count": 8,
     "metadata": {},
     "output_type": "execute_result"
    }
   ],
   "source": [
    "distribution = chaospy.Exponential()\n",
    "chaospy.orth_ttr(order, distribution)"
   ]
  },
  {
   "cell_type": "markdown",
   "metadata": {},
   "source": [
    "A multivariate expansion:"
   ]
  },
  {
   "cell_type": "code",
   "execution_count": 9,
   "metadata": {},
   "outputs": [
    {
     "data": {
      "text/plain": [
       "polynomial([1.0, -1.0+q1, -1.0+q0, 2.0-4.0*q1+q1**2, 1.0-q1-q0+q0*q1,\n",
       "            2.0-4.0*q0+q0**2])"
      ]
     },
     "execution_count": 9,
     "metadata": {},
     "output_type": "execute_result"
    }
   ],
   "source": [
    "distribution = chaospy.J(chaospy.Exponential(), chaospy.Exponential())\n",
    "chaospy.orth_ttr(order, distribution)[:6]"
   ]
  },
  {
   "cell_type": "markdown",
   "metadata": {},
   "source": [
    "The Laguerre polynomials have classically a weight function $W(x) = e^{-x}$, and an expansion:"
   ]
  },
  {
   "cell_type": "code",
   "execution_count": 10,
   "metadata": {
    "scrolled": false
   },
   "outputs": [
    {
     "data": {
      "text/plain": [
       "polynomial([1.0, 1.0-q0, 1.0-2.0*q0+0.5*q0**2,\n",
       "            1.0-3.0*q0+1.5*q0**2-0.1667*q0**3])"
      ]
     },
     "execution_count": 10,
     "metadata": {},
     "output_type": "execute_result"
    }
   ],
   "source": [
    "distribution = chaospy.Exponential()\n",
    "poly = chaospy.orth_ttr(order, distribution)\n",
    "(poly/poly(0)).round(4)"
   ]
  },
  {
   "cell_type": "markdown",
   "metadata": {},
   "source": [
    "### Generalized Laguerre polynomials\n",
    "\n",
    "Generalized Laguerre polynomials with the Gamma distribution with parameter $\\alpha$."
   ]
  },
  {
   "cell_type": "code",
   "execution_count": 11,
   "metadata": {},
   "outputs": [
    {
     "data": {
      "text/plain": [
       "polynomial([1.0, -3.0+q0, 12.0-8.0*q0+q0**2,\n",
       "            -60.0+60.0*q0-15.0*q0**2+q0**3])"
      ]
     },
     "execution_count": 11,
     "metadata": {},
     "output_type": "execute_result"
    }
   ],
   "source": [
    "alpha = 2\n",
    "distribution = chaospy.Gamma(alpha+1)\n",
    "chaospy.orth_ttr(order, distribution)"
   ]
  },
  {
   "cell_type": "markdown",
   "metadata": {},
   "source": [
    "A multivariate expansion:"
   ]
  },
  {
   "cell_type": "code",
   "execution_count": 12,
   "metadata": {},
   "outputs": [
    {
     "data": {
      "text/plain": [
       "polynomial([1.0, -3.0+q1, -3.0+q0, 12.0-8.0*q1+q1**2,\n",
       "            9.0-3.0*q1-3.0*q0+q0*q1, 12.0-8.0*q0+q0**2])"
      ]
     },
     "execution_count": 12,
     "metadata": {},
     "output_type": "execute_result"
    }
   ],
   "source": [
    "distribution = chaospy.J(chaospy.Gamma(alpha+1), chaospy.Gamma(alpha+1))\n",
    "chaospy.orth_ttr(order, distribution)[:6]"
   ]
  },
  {
   "cell_type": "markdown",
   "metadata": {},
   "source": [
    "The Generalized Laguerre polynomials have classically a weight function $W(x) = x^\\alpha e^{-\\alpha x}$, and an expansion:"
   ]
  },
  {
   "cell_type": "code",
   "execution_count": 13,
   "metadata": {
    "scrolled": false
   },
   "outputs": [
    {
     "data": {
      "text/plain": [
       "polynomial([1.0, 3.0-q0, 6.0-4.0*q0+0.5*q0**2,\n",
       "            10.0-10.0*q0+2.5*q0**2-0.1667*q0**3])"
      ]
     },
     "execution_count": 13,
     "metadata": {},
     "output_type": "execute_result"
    }
   ],
   "source": [
    "poly1 = chaospy.orth_ttr(order, chaospy.Gamma(alpha+1))\n",
    "poly2 = chaospy.orth_ttr(order, chaospy.Exponential())\n",
    "(poly1/poly2(0)).round(4)"
   ]
  },
  {
   "cell_type": "markdown",
   "metadata": {},
   "source": [
    "### Jacobi polynomials\n",
    "\n",
    "Jacobi polynomials with the Beta distribution with parameters $\\alpha$ and $\\beta$."
   ]
  },
  {
   "cell_type": "code",
   "execution_count": 14,
   "metadata": {},
   "outputs": [
    {
     "data": {
      "text/plain": [
       "polynomial([1.0, -0.4+q0, 0.1429-0.8571*q0+q0**2,\n",
       "            -0.0476+0.5*q0-1.3333*q0**2+q0**3])"
      ]
     },
     "execution_count": 14,
     "metadata": {},
     "output_type": "execute_result"
    }
   ],
   "source": [
    "alpha = 2\n",
    "beta = 3\n",
    "distribution = chaospy.Beta(alpha, beta)\n",
    "chaospy.orth_ttr(order, distribution).round(4)"
   ]
  },
  {
   "cell_type": "markdown",
   "metadata": {},
   "source": [
    "A multivariate expansion:"
   ]
  },
  {
   "cell_type": "code",
   "execution_count": 15,
   "metadata": {},
   "outputs": [
    {
     "data": {
      "text/plain": [
       "polynomial([1.0, -0.4+q1, -0.4+q0, 0.1429-0.8571*q1+q1**2,\n",
       "            0.16-0.4*q1-0.4*q0+q0*q1, 0.1429-0.8571*q0+q0**2])"
      ]
     },
     "execution_count": 15,
     "metadata": {},
     "output_type": "execute_result"
    }
   ],
   "source": [
    "distribution = chaospy.J(chaospy.Beta(alpha, beta), chaospy.Beta(alpha, beta))\n",
    "chaospy.orth_ttr(order, distribution)[:6].round(4)"
   ]
  },
  {
   "cell_type": "markdown",
   "metadata": {},
   "source": [
    "The Beta polynomials have classically a weight function: $W(x) = (1-x)^\\alpha(1+x)^\\beta$ over the interval $[-1, 1]$, and an expansion:"
   ]
  },
  {
   "cell_type": "code",
   "execution_count": 16,
   "metadata": {
    "scrolled": true
   },
   "outputs": [
    {
     "data": {
      "text/plain": [
       "polynomial([1.0, 0.7+3.5*q0, -1.2857+2.5714*q0+9.0*q0**2,\n",
       "            -0.9821-6.875*q0+6.875*q0**2+20.625*q0**3])"
      ]
     },
     "execution_count": 16,
     "metadata": {},
     "output_type": "execute_result"
    }
   ],
   "source": [
    "distribution = chaospy.Beta(alpha, beta, lower=-1, upper=1)\n",
    "\n",
    "func = lambda n: numpy.sum(comb(n+alpha, n-numpy.arange(n+1))*comb(n+beta, numpy.arange(n+1)))/2**n\n",
    "coefficients = numpy.array([func(n) for n in range(order+1)])\n",
    "\n",
    "(chaospy.orth_ttr(order, distribution)*coefficients).round(4)"
   ]
  }
 ],
 "metadata": {
  "kernelspec": {
   "display_name": "Python 3",
   "language": "python",
   "name": "python3"
  },
  "language_info": {
   "codemirror_mode": {
    "name": "ipython",
    "version": 3
   },
   "file_extension": ".py",
   "mimetype": "text/x-python",
   "name": "python",
   "nbconvert_exporter": "python",
   "pygments_lexer": "ipython3",
   "version": "3.7.6"
  }
 },
 "nbformat": 4,
 "nbformat_minor": 4
}
