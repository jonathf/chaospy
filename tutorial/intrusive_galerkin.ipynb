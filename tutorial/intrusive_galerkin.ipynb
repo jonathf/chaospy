{
 "cells": [
  {
   "cell_type": "markdown",
   "metadata": {},
   "source": [
    "## Intrusive Galerkin Method / Spectral Projection\n",
    "\n",
    "When talking about polynomial chaos expansions, there are typically two categories methods that are used: non-intrusive and intrusive methods.\n",
    "The distinction between the two categories lies in how one tries to solve the problem at hand.\n",
    "In the intrusive methods, the core problem formulation, often in the form of some governing equations to solve is reformulated to target a polynomial chaos expansion.\n",
    "In the case of the non-intrusive methods a solver for deterministic case is used in combination of some form of collocation method to fit to the expansion.\n",
    "\n",
    "The ``chaospy`` toolbox caters for the most part to the non-intrusive methods.\n",
    "However it is still possible to use the toolbox to solve intrusive formulation.\n",
    "It just requires that the user to do more of the mathematics them selves."
   ]
  },
  {
   "cell_type": "code",
   "execution_count": 1,
   "metadata": {},
   "outputs": [],
   "source": [
    "import chaospy\n",
    "import numpy\n",
    "import matplotlib.pyplot as plt"
   ]
  },
  {
   "cell_type": "markdown",
   "metadata": {},
   "source": [
    "### Problem formulation\n",
    "\n",
    "Consider the following problem that we will solve using intrusive Galerkin\n",
    "method:\n",
    "\n",
    "$$\n",
    "   \\frac{d}{dt} u(t) = -a\\ u(t) \\qquad u(0) = I \\qquad t \\in [0, 10]\n",
    "$$\n",
    "\n",
    "Here $a$ and $I$ are unknown hyper parameters which can be described through a probability distribution.\n",
    "For example:"
   ]
  },
  {
   "cell_type": "code",
   "execution_count": 2,
   "metadata": {},
   "outputs": [
    {
     "data": {
      "text/plain": [
       "J(Uniform(lower=0.1, upper=0.2), Uniform(lower=1, upper=2))"
      ]
     },
     "execution_count": 2,
     "metadata": {},
     "output_type": "execute_result"
    }
   ],
   "source": [
    "distribution_a = chaospy.Uniform(0.1, 0.2)\n",
    "distribution_I = chaospy.Uniform(1, 2)\n",
    "distribution = chaospy.J(distribution_a, distribution_I)\n",
    "distribution"
   ]
  },
  {
   "cell_type": "markdown",
   "metadata": {},
   "source": [
    "First step of intrusive Galerkin's method, we will first assume that the solution $u(t)$ can be expressed as the sum:\n",
    "\n",
    "$$\n",
    "   u(t) = \\sum_{n=0}^N c_n(t)\\ \\Phi_n(a, I)\n",
    "$$\n",
    "\n",
    "Here $\\Phi_n$ are orthogonal polynomials and $c_n$ Fourier coefficients.\n",
    "We do not know what the latter is yet, but the former we can construct from distribution alone."
   ]
  },
  {
   "cell_type": "code",
   "execution_count": 3,
   "metadata": {},
   "outputs": [
    {
     "data": {
      "text/plain": [
       "polynomial([1.0, -1.5+q1, -0.15+q0, 2.1666666667-3.0*q1+q1**2])"
      ]
     },
     "execution_count": 3,
     "metadata": {},
     "output_type": "execute_result"
    }
   ],
   "source": [
    "polynomial_order = 3\n",
    "polynomial_expansion = chaospy.orth_ttr(polynomial_order, distribution)\n",
    "polynomial_expansion[:4].round(10)"
   ]
  },
  {
   "cell_type": "markdown",
   "metadata": {},
   "source": [
    "the second step of the method is to fill in the assumed solution into the equations we are trying to solve the following two equations:\n",
    "\n",
    "$$\n",
    "   \\frac{d}{dt} \\sum_{n=0}^N c_n\\ \\Phi_n = -a \\sum_{n=0}^N c_n \\qquad\n",
    "   \\sum_{n=0}^N c_n(0)\\ \\Phi_n = I\n",
    "$$\n",
    "\n",
    "The third step is to take the inner product of each side of both equations against the polynomial $\\Phi_k$ for $k=0,\\cdots,N$.\n",
    "For the first equation, this will have the following form:\n",
    "\n",
    "$$\n",
    "   \\left\\langle \\frac{d}{dt} \\sum_{n=0}^N c_n \\Phi_n, \\Phi_k \\right\\rangle =\n",
    "   \\left\\langle -a \\sum_{n=0}^N c_n\\Phi_n, \\Phi_k \\right\\rangle \\qquad\n",
    "   \\left\\langle \\sum_{n=0}^N c_n(0)\\ \\Phi_n, \\Phi_k \\right\\rangle =\n",
    "   \\left\\langle I, \\Phi_k \\right\\rangle \\\\\n",
    "$$\n",
    "\n",
    "Let us define the first equation as the main equation, and the latter as the initial condition equation."
   ]
  },
  {
   "cell_type": "markdown",
   "metadata": {},
   "source": [
    "### Reformulating the main equation\n",
    "\n",
    "We start by simplifying the equation. A lot of collapsing of the sums is possible because of the orthogonality property of the polynomials $\\langle \\Phi_i, \\Phi_j\\rangle$ for $i \\neq j$.\n",
    "\n",
    "$$\n",
    "\\begin{align*}\n",
    "   \\left\\langle \\frac{d}{dt} \\sum_{n=0}^N c_n \\Phi_n, \\Phi_k \\right\\rangle &=\n",
    "   \\left\\langle -a \\sum_{n=0}^N c_n\\Phi_n, \\Phi_k \\right\\rangle \\\\\n",
    "   \\sum_{n=0}^N \\frac{d}{dt} c_n \\left\\langle \\Phi_n, \\Phi_k \\right\\rangle &=\n",
    "   -\\sum_{n=0}^N c_n \\left\\langle a\\ \\Phi_n, \\Phi_n \\right\\rangle \\\\\n",
    "      \\frac{d}{dt} c_k \\left\\langle \\Phi_k, \\Phi_k \\right\\rangle &=\n",
    "   -\\sum_{n=0}^N c_n \\left\\langle a\\ \\Phi_n, \\Phi_k \\right\\rangle \\\\\n",
    "   \\frac{d}{dt} c_k &=\n",
    "   -\\sum_{n=0}^N c_n\n",
    "   \\frac{\n",
    "      \\left\\langle a\\ \\Phi_n, \\Phi_k \\right\\rangle\n",
    "   }{\n",
    "      \\left\\langle \\Phi_k, \\Phi_k \\right\\rangle\n",
    "   }\n",
    "\\end{align*}\n",
    "$$\n",
    "\n",
    "Or equivalent, using probability theory notation:\n",
    "\n",
    "$$\n",
    "   \\frac{d}{dt} c_k =\n",
    "   -\\sum_{n=0}^N c_n\n",
    "   \\frac{\n",
    "      \\mathbb E\\left[ a\\ \\Phi_n \\Phi_k \\right]\n",
    "   }{\n",
    "      \\mathbb E\\left[ \\Phi_k \\Phi_k \\right]\n",
    "   }\n",
    "$$\n",
    "\n",
    "This is a set of linear equations.\n",
    "To solve them in practice, we need to formulate the right-hand-side as a function.\n",
    "To start we create variables to deal with the fact that $a$ and $I$ are part of the equation."
   ]
  },
  {
   "cell_type": "code",
   "execution_count": 4,
   "metadata": {},
   "outputs": [],
   "source": [
    "var_a, var_I = chaospy.variable(2)"
   ]
  },
  {
   "cell_type": "markdown",
   "metadata": {},
   "source": [
    "Note that the order here is important, as the positions of ``distribution_a`` and ``distribution_I`` have to correspond to the variables ``var_a`` and ``var_I`` positional wise.\n",
    "\n",
    "From the simplified equation above, it can be observed that the fraction of expected values doesn't depend on neither $c$ nor $t$, and can therefore be precomputed."
   ]
  },
  {
   "cell_type": "markdown",
   "metadata": {},
   "source": [
    "For the denominator $\\mathbb E[a\\Phi_n\\Phi_k]$, since there are both $\\Phi_k$ and $\\Phi_n$ terms, the full expression can be defined as a two-dimensional tensor:"
   ]
  },
  {
   "cell_type": "code",
   "execution_count": 5,
   "metadata": {},
   "outputs": [
    {
     "data": {
      "text/plain": [
       "[(10,), (10, 10)]"
      ]
     },
     "execution_count": 5,
     "metadata": {},
     "output_type": "execute_result"
    }
   ],
   "source": [
    "phi_outer = chaospy.outer(polynomial_expansion, polynomial_expansion)\n",
    "[polynomial_expansion.shape, phi_outer.shape]"
   ]
  },
  {
   "cell_type": "markdown",
   "metadata": {},
   "source": [
    "This allows us to calculate the full expression:"
   ]
  },
  {
   "cell_type": "code",
   "execution_count": 6,
   "metadata": {},
   "outputs": [
    {
     "data": {
      "text/plain": [
       "array([[1.50000000e-01, 0.00000000e+00, 8.33333333e-04],\n",
       "       [0.00000000e+00, 1.25000000e-02, 0.00000000e+00],\n",
       "       [8.33333333e-04, 0.00000000e+00, 1.25000000e-04]])"
      ]
     },
     "execution_count": 6,
     "metadata": {},
     "output_type": "execute_result"
    }
   ],
   "source": [
    "expected_app = chaospy.E(var_a*phi_outer, distribution)\n",
    "expected_app[:3, :3]"
   ]
  },
  {
   "cell_type": "markdown",
   "metadata": {},
   "source": [
    "For the numerator $\\mathbb E[\\Phi_k\\Phi_k]$, it is worth noting that these are the square of the norms $\\|\\Phi_k\\|^2$.\n",
    "We could calculate them the same way, but choose not to.\n",
    "Calculating the norms is often numerically unstable, and it is better to retrieve them from three-terms-recursion process.\n",
    "In ``chaospy`` this can be extracted during the creation of the orthogonal polynomials:"
   ]
  },
  {
   "cell_type": "code",
   "execution_count": 7,
   "metadata": {},
   "outputs": [
    {
     "data": {
      "text/plain": [
       "array([1.00000000e+00, 8.33333333e-02, 8.33333333e-04, 5.55555556e-03])"
      ]
     },
     "execution_count": 7,
     "metadata": {},
     "output_type": "execute_result"
    }
   ],
   "source": [
    "_, norms = chaospy.orth_ttr(polynomial_order, distribution, retall=True)\n",
    "norms[:4]"
   ]
  },
  {
   "cell_type": "markdown",
   "metadata": {},
   "source": [
    "Having all terms in place, we can create a function for the right-hand-side of the equation:"
   ]
  },
  {
   "cell_type": "code",
   "execution_count": 8,
   "metadata": {},
   "outputs": [],
   "source": [
    "def right_hand_side(c, t):\n",
    "    return -numpy.sum(c*expected_app, -1)/norms"
   ]
  },
  {
   "cell_type": "markdown",
   "metadata": {},
   "source": [
    "### Reformulating the initial conditions\n",
    "\n",
    "\n",
    "The equation associated with the initial condition can be reformulated as follows:\n",
    "\n",
    "$$\n",
    "\\begin{align*}\n",
    "   \\left\\langle \\sum_{n=0}^N c_n(0)\\ \\Phi_n, \\Phi_k \\right\\rangle &=\n",
    "   \\left\\langle I, \\Phi_k \\right\\rangle \\\\\n",
    "   \\sum_{n=0}^N c_n(0) \\left\\langle \\Phi_n, \\Phi_k \\right\\rangle &=\n",
    "   \\left\\langle I, \\Phi_k \\right\\rangle \\\\\n",
    "   c_k(0) \\left\\langle \\Phi_k, \\Phi_k \\right\\rangle &=\n",
    "   \\left\\langle I, \\Phi_k \\right\\rangle \\\\\n",
    "   c_k(0) &=\n",
    "   \\frac{\n",
    "      \\left\\langle I, \\Phi_k \\right\\rangle\n",
    "   }{\n",
    "      \\left\\langle \\Phi_k, \\Phi_k \\right\\rangle\n",
    "   }\n",
    "\\end{align*}\n",
    "$$\n",
    "\n",
    "Or equivalently:\n",
    "\n",
    "$$\n",
    "   c_k(0) =\n",
    "   \\frac{\n",
    "      \\mathbb E\\left[ I\\ \\Phi_k \\right]\n",
    "   }{\n",
    "      \\mathbb E\\left[ \\Phi_k \\Phi_k \\right]\n",
    "   }\n",
    "$$\n",
    "\n",
    "Using the same logic as for the first equation we get:"
   ]
  },
  {
   "cell_type": "code",
   "execution_count": 9,
   "metadata": {},
   "outputs": [],
   "source": [
    "expected_Ip = chaospy.E(var_I*polynomial_expansion, distribution)\n",
    "initial_condition = expected_Ip / norms"
   ]
  },
  {
   "cell_type": "markdown",
   "metadata": {},
   "source": [
    "### Solving the set of differential equations\n",
    "\n",
    "With the right-hand-side for both the main set of equations and the initial conditions, it should be straight forward to solve the equations numerically. For example using the function ``odeint``:"
   ]
  },
  {
   "cell_type": "code",
   "execution_count": 10,
   "metadata": {},
   "outputs": [
    {
     "data": {
      "text/plain": [
       "(1000, 10)"
      ]
     },
     "execution_count": 10,
     "metadata": {},
     "output_type": "execute_result"
    }
   ],
   "source": [
    "from scipy.integrate import odeint\n",
    "coordinates = numpy.linspace(0, 10, 1000)\n",
    "coefficients = odeint(func=right_hand_side, y0=initial_condition, t=coordinates)\n",
    "coefficients.shape"
   ]
  },
  {
   "cell_type": "markdown",
   "metadata": {},
   "source": [
    "These coefficients can then be used to construct the approximation for $u$ using the assumption about the solutions form:"
   ]
  },
  {
   "cell_type": "code",
   "execution_count": 11,
   "metadata": {},
   "outputs": [
    {
     "data": {
      "text/plain": [
       "polynomial([q1, q1-0.01*q0*q1, q1-0.02*q0*q1, q1-0.03*q0*q1])"
      ]
     },
     "execution_count": 11,
     "metadata": {},
     "output_type": "execute_result"
    }
   ],
   "source": [
    "u_approx = chaospy.sum(polynomial_expansion*coefficients, -1)\n",
    "u_approx[:4].round(2)"
   ]
  },
  {
   "cell_type": "markdown",
   "metadata": {},
   "source": [
    "Finally, this can be used to calculate statistical properties:"
   ]
  },
  {
   "cell_type": "code",
   "execution_count": 12,
   "metadata": {},
   "outputs": [
    {
     "data": {
      "text/plain": [
       "(array([1.5       , 1.4977495 , 1.4955025 , 1.493259  , 1.49101899]),\n",
       " array([0.08333333, 0.08308366, 0.08283514, 0.08258775, 0.08234151]))"
      ]
     },
     "execution_count": 12,
     "metadata": {},
     "output_type": "execute_result"
    },
    {
     "data": {
      "image/png": "[encoded data removed]",
      "text/plain": [
       "<Figure size 432x288 with 1 Axes>"
      ]
     },
     "metadata": {
      "needs_background": "light"
     },
     "output_type": "display_data"
    }
   ],
   "source": [
    "mean = chaospy.E(u_approx, distribution)\n",
    "variance = chaospy.Var(u_approx, distribution)\n",
    "\n",
    "plt.xlabel(\"coordinates\")\n",
    "plt.ylabel(\"model approximation\")\n",
    "plt.axis([0, 10, 0, 2])\n",
    "plt.fill_between(coordinates, mean-variance**0.5, mean+variance**0.5, color=\"k\", alpha=0.3)\n",
    "plt.plot(coordinates, mean, \"k-\")\n",
    "\n",
    "mean[:5], variance[:5]"
   ]
  }
 ],
 "metadata": {
  "kernelspec": {
   "display_name": "Python 3",
   "language": "python",
   "name": "python3"
  },
  "language_info": {
   "codemirror_mode": {
    "name": "ipython",
    "version": 3
   },
   "file_extension": ".py",
   "mimetype": "text/x-python",
   "name": "python",
   "nbconvert_exporter": "python",
   "pygments_lexer": "ipython3",
   "version": "3.7.6"
  }
 },
 "nbformat": 4,
 "nbformat_minor": 4
}
