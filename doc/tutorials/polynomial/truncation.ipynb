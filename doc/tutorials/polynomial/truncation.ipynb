{
 "cells": [
  {
   "cell_type": "markdown",
   "metadata": {},
   "source": [
    "## Truncation of Polynomial Expansions \n",
    "\n",
    "By default, the constructor functions that create polynomial expansions are ordered using _graded reversed lexicographically_.\n",
    "In practice this mostly means that the order of the polynomials are fixed deterministic.\n",
    "Here is explaination of what that entails.\n",
    "\n",
    "Each polynomial in an expansion (at least in orthogonal ones) can be determined by a multi-index that refers to the largest exponent amongs its terms along each dimension.\n",
    "For example, we defined the bivariate polynomial $\\Phi_{nm}$ to be on the form:\n",
    "\n",
    "$$\n",
    "\\Phi_{nm} = q_0^nq_1^m + \\sum_{i<n, j<m}^{i+j< n+m} \\alpha_{ij} q_0^i q_1^j\n",
    "$$\n",
    "\n",
    "where $\\alpha_{ij}$ are scalar coefficients.\n",
    "For ``chaospy.basis``, all $\\alpha_{ij}$ are zero, reducing the expansion to just the leading term.\n",
    "\n",
    "We say that the order of this polynomial is $n+m$.\n",
    "\n",
    "Following the same bivariate, we can iterate through all polynomials:\n",
    "\n",
    "$$\n",
    "  \\begin{align*}\n",
    "     k &= 0 &  &\\Phi_{00} & &\\Phi_0 \\\\ \n",
    "     k &= 1 &  \\Phi_{10} &\\quad \\Phi_{01} & \\Phi_{1} &\\quad \\Phi_{2}\\\\\n",
    "     k &= 2 & \\Phi_{20} \\quad &\\Phi_{11} \\quad\\Phi_{02} & \\Phi_{3} \\quad &\\Phi_{4} \\quad\\Phi_{5} \\\\\n",
    "     k &= 3 & \\Phi_{30} \\quad \\Phi_{21} & \\quad \\Phi_{12} \\quad\\Phi_{03} &\n",
    "   \\Phi_{6} \\quad \\Phi_{7} & \\quad \\Phi_{8} \\quad\\Phi_{9} \\\\\n",
    "  \\end{align*}\n",
    "$$\n",
    "\n",
    "Here we alse denote the polynomials twice: One with the multi-index and one with a single index.\n",
    "These polynomials are equivalent.\n",
    "But in addition, we devide the polynomials into _orders_ defined as $k=n+m$.\n",
    "\n",
    "When constructing a polynomial expansion in `chaospy`, using the constructors `chaospy.orth_ttr` or `chaospy.basis`, providing an integer for the order, will truncate the expansion to the expansion to a specific order.\n",
    "For example a 2-dimenstional expansion truncated at order 20:"
   ]
  },
  {
   "cell_type": "code",
   "execution_count": 1,
   "metadata": {
    "scrolled": true
   },
   "outputs": [
    {
     "data": {
      "text/plain": [
       "<Figure size 800x600 with 1 Axes>"
      ]
     },
     "metadata": {},
     "output_type": "display_data"
    },
    {
     "data": {
      "text/plain": [
       "polynomial([1, q1, q0, q1**2, q0**2, q0*q1, q1**3, q0**2*q1])"
      ]
     },
     "execution_count": 1,
     "metadata": {},
     "output_type": "execute_result"
    }
   ],
   "source": [
    "import numpy\n",
    "from matplotlib import pyplot\n",
    "import chaospy\n",
    "\n",
    "polynomials = chaospy.basis(start=0, stop=20, dim=2)\n",
    "\n",
    "grid = numpy.zeros((21, 21), dtype=int)\n",
    "grid[tuple(polynomials.exponents.T)] = 1\n",
    "\n",
    "pyplot.xlabel(\"Polynomial order for q0\")\n",
    "pyplot.ylabel(\"Polynomial order for q1\")\n",
    "pyplot.imshow(grid, cmap=\"gray\")\n",
    "pyplot.show()\n",
    "\n",
    "polynomials[:8]"
   ]
  },
  {
   "cell_type": "markdown",
   "metadata": {},
   "source": [
    "The white squares represents multi-index order where a polynomial is present, while the black are where they are not.\n",
    "\n",
    "### The $L_p$-norm\n",
    "\n",
    "From a metric point of view, this boundery behaves like the indices are limited to 20 under the $L_1$-norm.\n",
    "Following this perspective, we can change the norm to be any $L_p$ norm.\n",
    "For example, to reduce the cross terms, we can use the $L_{0.6}$ norm:"
   ]
  },
  {
   "cell_type": "code",
   "execution_count": 2,
   "metadata": {},
   "outputs": [
    {
     "data": {
      "image/png": "[encoded data removed]",
      "text/plain": [
       "<Figure size 432x288 with 1 Axes>"
      ]
     },
     "metadata": {
      "needs_background": "light"
     },
     "output_type": "display_data"
    },
    {
     "data": {
      "text/plain": [
       "polynomial([1, q0, q1, q1**2, q0**2, q0*q1, q0*q1**2, q0**2*q1])"
      ]
     },
     "execution_count": 2,
     "metadata": {},
     "output_type": "execute_result"
    }
   ],
   "source": [
    "polynomials = chaospy.basis(\n",
    "    start=0, stop=20, dim=2, cross_truncation=0.6)\n",
    "\n",
    "grid = numpy.zeros((21, 21), dtype=int)\n",
    "grid[tuple(polynomials.exponents.T)] = 1\n",
    "\n",
    "pyplot.xlabel(\"Polynomial order for q0\")\n",
    "pyplot.ylabel(\"Polynomial order for q1\")\n",
    "pyplot.imshow(grid, cmap=\"gray\")\n",
    "pyplot.show()\n",
    "\n",
    "polynomials[:8]"
   ]
  },
  {
   "cell_type": "markdown",
   "metadata": {},
   "source": [
    "### Total Order Expansions\n",
    "\n",
    "To get so called total order expansions, set the norm to be ``numpy.inf``: "
   ]
  },
  {
   "cell_type": "code",
   "execution_count": 3,
   "metadata": {},
   "outputs": [
    {
     "data": {
      "image/png": "[encoded data removed]",
      "text/plain": [
       "<Figure size 432x288 with 1 Axes>"
      ]
     },
     "metadata": {
      "needs_background": "light"
     },
     "output_type": "display_data"
    },
    {
     "data": {
      "text/plain": [
       "polynomial([1, q1, q0, q0*q1, q0**2, q1**2, q0**3, q0*q1**2])"
      ]
     },
     "execution_count": 3,
     "metadata": {},
     "output_type": "execute_result"
    }
   ],
   "source": [
    "polynomials = chaospy.basis(\n",
    "    start=0, stop=16, dim=2, cross_truncation=numpy.inf)\n",
    "\n",
    "grid = numpy.zeros((21, 21), dtype=int)\n",
    "grid[tuple(polynomials.exponents.T)] = 1\n",
    "\n",
    "pyplot.xlabel(\"Polynomial order for q0\")\n",
    "pyplot.ylabel(\"Polynomial order for q1\")\n",
    "pyplot.imshow(grid, cmap=\"gray\")\n",
    "pyplot.show()\n",
    "\n",
    "polynomials[:8]"
   ]
  },
  {
   "cell_type": "markdown",
   "metadata": {},
   "source": [
    "### Dimension Prioritization\n",
    "\n",
    "So far the various dimensions have been limited to a single integer.\n",
    "However, there is support for different order along the different dimensions.\n",
    "To get this idea working with the custom norm, we redefine the $L_q$-norm limit to the following inequality:\n",
    "\n",
    "$$\n",
    "\\left( \\sum_i |n_i/b_i|^p\\right)^{1/p} \\leq 1\n",
    "$$\n",
    "\n",
    "Here $b_i$ is the individual limit along dimension $i$.\n",
    "\n",
    "In practice, this will look as follows:"
   ]
  },
  {
   "cell_type": "code",
   "execution_count": 4,
   "metadata": {},
   "outputs": [
    {
     "data": {
      "image/png": "[encoded data removed]",
      "text/plain": [
       "<Figure size 432x288 with 1 Axes>"
      ]
     },
     "metadata": {
      "needs_background": "light"
     },
     "output_type": "display_data"
    },
    {
     "data": {
      "text/plain": [
       "polynomial([1, q1, q0, q1**2, q0**2, q0*q1, q1**3, q0**2*q1])"
      ]
     },
     "execution_count": 4,
     "metadata": {},
     "output_type": "execute_result"
    }
   ],
   "source": [
    "polynomials = chaospy.basis(\n",
    "    start=0, stop=[10, 20], dim=2, cross_truncation=1.5)\n",
    "\n",
    "grid = numpy.zeros((21, 21), dtype=int)\n",
    "grid[tuple(polynomials.exponents.T)] = 1\n",
    "\n",
    "pyplot.xlabel(\"Polynomial order for q0\")\n",
    "pyplot.ylabel(\"Polynomial order for q1\")\n",
    "pyplot.imshow(grid, cmap=\"gray\")\n",
    "pyplot.show()\n",
    "\n",
    "polynomials[:8]"
   ]
  },
  {
   "cell_type": "markdown",
   "metadata": {},
   "source": [
    "Ignoring the descrete nature of the indices, the metric gives a smooth transition along the cross-terms."
   ]
  }
 ],
 "metadata": {
  "kernelspec": {
   "display_name": "Python 3",
   "language": "python",
   "name": "python3"
  },
  "language_info": {
   "codemirror_mode": {
    "name": "ipython",
    "version": 3
   },
   "file_extension": ".py",
   "mimetype": "text/x-python",
   "name": "python",
   "nbconvert_exporter": "python",
   "pygments_lexer": "ipython3",
   "version": "3.8.3"
  }
 },
 "nbformat": 4,
 "nbformat_minor": 2
}
